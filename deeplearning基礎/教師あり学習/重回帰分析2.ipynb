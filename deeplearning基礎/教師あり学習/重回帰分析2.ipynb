{
 "cells": [
  {
   "cell_type": "code",
   "execution_count": 2,
   "metadata": {},
   "outputs": [],
   "source": [
    "import numpy as np \n",
    "import numpy.random as random \n",
    "import scipy as sp \n",
    "from pandas import Series,DataFrame \n",
    "import pandas as pd \n",
    "\n",
    "import matplotlib.pyplot as plt \n",
    "import matplotlib as mpl \n",
    "import seaborn as sns \n",
    "%matplotlib inline \n",
    "\n",
    "import sklearn \n",
    "\n",
    "%precision 3\n",
    "\n",
    "import requests,zipfile \n",
    "import io \n",
    "\n",
    "url = 'http://archive.ics.uci.edu/ml/machine-learning-databases/autos/imports-85.data'\n",
    "res = requests.get(url).content\n",
    "\n",
    "data = pd.read_csv(io.StringIO(res.decode('utf-8')),header = None)\n",
    "\n",
    "data.columns =['symboling','normalized-losses','make','fuel-type','aspiration','num-of-doors','body-style'\n",
    "              ,'drive-wheels','engine-location','wheel-base','length','width','height',\n",
    "              'curb-weight','engine-type','num-of-cylinders','engine-size','fuel-system','bore','stroke','compression-ratio',\n",
    "              'horsepower','peak-rpm','city-mpg','highway-mpg','price']"
   ]
  },
  {
   "cell_type": "code",
   "execution_count": 3,
   "metadata": {},
   "outputs": [
    {
     "data": {
      "text/plain": [
       "price          4\n",
       "length         0\n",
       "engine-size    0\n",
       "dtype: int64"
      ]
     },
     "execution_count": 3,
     "metadata": {},
     "output_type": "execute_result"
    }
   ],
   "source": [
    "data= data[['price','length','engine-size']]\n",
    "data.isin(['?']).sum()"
   ]
  },
  {
   "cell_type": "code",
   "execution_count": 4,
   "metadata": {},
   "outputs": [
    {
     "name": "stdout",
     "output_type": "stream",
     "text": [
      "(201, 3)\n"
     ]
    }
   ],
   "source": [
    "data = data.replace('?',np.nan).dropna()\n",
    "print(data.shape)"
   ]
  },
  {
   "cell_type": "code",
   "execution_count": 5,
   "metadata": {},
   "outputs": [
    {
     "name": "stdout",
     "output_type": "stream",
     "text": [
      "<class 'pandas.core.frame.DataFrame'>\n",
      "Int64Index: 201 entries, 0 to 204\n",
      "Data columns (total 3 columns):\n",
      "price          201 non-null object\n",
      "length         201 non-null float64\n",
      "engine-size    201 non-null int64\n",
      "dtypes: float64(1), int64(1), object(1)\n",
      "memory usage: 6.3+ KB\n"
     ]
    }
   ],
   "source": [
    "data.info()"
   ]
  },
  {
   "cell_type": "code",
   "execution_count": 8,
   "metadata": {},
   "outputs": [
    {
     "name": "stdout",
     "output_type": "stream",
     "text": [
      "<class 'pandas.core.frame.DataFrame'>\n",
      "Int64Index: 201 entries, 0 to 204\n",
      "Data columns (total 3 columns):\n",
      "price          201 non-null int64\n",
      "length         201 non-null float64\n",
      "engine-size    201 non-null int64\n",
      "dtypes: float64(1), int64(2)\n",
      "memory usage: 6.3 KB\n"
     ]
    }
   ],
   "source": [
    "data = data.assign(price = pd.to_numeric(data.price))\n",
    "data.info()"
   ]
  },
  {
   "cell_type": "code",
   "execution_count": 9,
   "metadata": {},
   "outputs": [
    {
     "name": "stdout",
     "output_type": "stream",
     "text": [
      "price          False\n",
      "length         False\n",
      "engine-size    False\n",
      "dtype: bool\n"
     ]
    }
   ],
   "source": [
    "#dataに一つでも欠損値が含まれているのかを返すメソッド\n",
    "print(data.isnull().any())"
   ]
  },
  {
   "cell_type": "code",
   "execution_count": 10,
   "metadata": {},
   "outputs": [
    {
     "name": "stdout",
     "output_type": "stream",
     "text": [
      "price          0\n",
      "length         0\n",
      "engine-size    0\n",
      "dtype: int64\n",
      "13207.129353233831\n",
      "63155863.443184026\n"
     ]
    }
   ],
   "source": [
    "print(data.isnull().sum())\n",
    "print(data['price'].mean())\n",
    "print(data['price'].var())"
   ]
  },
  {
   "cell_type": "code",
   "execution_count": 12,
   "metadata": {},
   "outputs": [
    {
     "data": {
      "text/html": [
       "<div>\n",
       "<style scoped>\n",
       "    .dataframe tbody tr th:only-of-type {\n",
       "        vertical-align: middle;\n",
       "    }\n",
       "\n",
       "    .dataframe tbody tr th {\n",
       "        vertical-align: top;\n",
       "    }\n",
       "\n",
       "    .dataframe thead th {\n",
       "        text-align: right;\n",
       "    }\n",
       "</style>\n",
       "<table border=\"1\" class=\"dataframe\">\n",
       "  <thead>\n",
       "    <tr style=\"text-align: right;\">\n",
       "      <th></th>\n",
       "      <th>price</th>\n",
       "      <th>length</th>\n",
       "      <th>engine-size</th>\n",
       "    </tr>\n",
       "  </thead>\n",
       "  <tbody>\n",
       "    <tr>\n",
       "      <th>price</th>\n",
       "      <td>1.000000</td>\n",
       "      <td>0.690628</td>\n",
       "      <td>0.872335</td>\n",
       "    </tr>\n",
       "    <tr>\n",
       "      <th>length</th>\n",
       "      <td>0.690628</td>\n",
       "      <td>1.000000</td>\n",
       "      <td>0.685025</td>\n",
       "    </tr>\n",
       "    <tr>\n",
       "      <th>engine-size</th>\n",
       "      <td>0.872335</td>\n",
       "      <td>0.685025</td>\n",
       "      <td>1.000000</td>\n",
       "    </tr>\n",
       "  </tbody>\n",
       "</table>\n",
       "</div>"
      ],
      "text/plain": [
       "                price    length  engine-size\n",
       "price        1.000000  0.690628     0.872335\n",
       "length       0.690628  1.000000     0.685025\n",
       "engine-size  0.872335  0.685025     1.000000"
      ]
     },
     "execution_count": 12,
     "metadata": {},
     "output_type": "execute_result"
    }
   ],
   "source": [
    "data.corr()"
   ]
  },
  {
   "cell_type": "code",
   "execution_count": 13,
   "metadata": {},
   "outputs": [
    {
     "data": {
      "image/png": "[encoded data removed]",
      "text/plain": [
       "<Figure size 432x288 with 1 Axes>"
      ]
     },
     "metadata": {
      "needs_background": "light"
     },
     "output_type": "display_data"
    }
   ],
   "source": [
    "import matplotlib.pyplot as plt \n",
    "plt.hist(data['price'])\n",
    "plt.grid(True)"
   ]
  },
  {
   "cell_type": "code",
   "execution_count": 14,
   "metadata": {},
   "outputs": [
    {
     "data": {
      "text/plain": [
       "{'whiskers': [<matplotlib.lines.Line2D at 0x266aa4479e8>,\n",
       "  <matplotlib.lines.Line2D at 0x266aa447d30>,\n",
       "  <matplotlib.lines.Line2D at 0x266aa456f28>,\n",
       "  <matplotlib.lines.Line2D at 0x266aa464518>,\n",
       "  <matplotlib.lines.Line2D at 0x266aa46b908>,\n",
       "  <matplotlib.lines.Line2D at 0x266aa46bc50>],\n",
       " 'caps': [<matplotlib.lines.Line2D at 0x266aa447e10>,\n",
       "  <matplotlib.lines.Line2D at 0x266aa456400>,\n",
       "  <matplotlib.lines.Line2D at 0x266aa464860>,\n",
       "  <matplotlib.lines.Line2D at 0x266aa464ba8>,\n",
       "  <matplotlib.lines.Line2D at 0x266aa46bf98>,\n",
       "  <matplotlib.lines.Line2D at 0x266aa476320>],\n",
       " 'boxes': [<matplotlib.lines.Line2D at 0x266aa4475f8>,\n",
       "  <matplotlib.lines.Line2D at 0x266aa456e48>,\n",
       "  <matplotlib.lines.Line2D at 0x266aa46b5c0>],\n",
       " 'medians': [<matplotlib.lines.Line2D at 0x266aa456748>,\n",
       "  <matplotlib.lines.Line2D at 0x266aa464ef0>,\n",
       "  <matplotlib.lines.Line2D at 0x266aa476668>],\n",
       " 'fliers': [<matplotlib.lines.Line2D at 0x266aa456a90>,\n",
       "  <matplotlib.lines.Line2D at 0x266aa464fd0>,\n",
       "  <matplotlib.lines.Line2D at 0x266aa4769b0>],\n",
       " 'means': []}"
      ]
     },
     "execution_count": 14,
     "metadata": {},
     "output_type": "execute_result"
    },
    {
     "data": {
      "image/png": "[encoded data removed]",
      "text/plain": [
       "<Figure size 432x288 with 1 Axes>"
      ]
     },
     "metadata": {
      "needs_background": "light"
     },
     "output_type": "display_data"
    }
   ],
   "source": [
    "plt.boxplot([data['price'],data['length'],data['engine-size']])"
   ]
  },
  {
   "cell_type": "code",
   "execution_count": 17,
   "metadata": {},
   "outputs": [
    {
     "data": {
      "text/plain": [
       "LinearRegression(copy_X=True, fit_intercept=True, n_jobs=None,\n",
       "         normalize=False)"
      ]
     },
     "execution_count": 17,
     "metadata": {},
     "output_type": "execute_result"
    }
   ],
   "source": [
    "#データ分割のためのインポート\n",
    "from sklearn.model_selection import train_test_split \n",
    "\n",
    "#重回帰のモデル構築のためのインポート\n",
    "from sklearn.linear_model import LinearRegression \n",
    "\n",
    "#目的変数　今回はpriceを設定\n",
    "y=data['price']\n",
    "\n",
    "#説明変数にそれ以外を設定\n",
    "X =data.drop('price',axis = 1)\n",
    "\n",
    "#訓練データとテストデータに分ける\n",
    "X_train,X_test,y_train,y_test =train_test_split(X,y,test_size = 0.5,random_state =0)\n",
    "\n",
    "#重回帰クラスの初期化と学習\n",
    "model = LinearRegression()\n",
    "model.fit(X_train,y_train)\n",
    "\n",
    "\n",
    "#目的変数　今回はpriceを設定\n",
    "y=data['price']\n",
    "\n",
    "#説明変数にそれ以外を設定\n",
    "X =data.drop('price',axis = 1)\n",
    "\n",
    "#訓練データとテストデータに分ける\n",
    "X_train,X_test,y_train,y_test =train_test_split(X,y,test_size = 0.5,random_state =0)\n",
    "\n",
    "#重回帰クラスの初期化と学習\n",
    "model = LinearRegression()\n",
    "model.fit(X_train,y_train)"
   ]
  },
  {
   "cell_type": "code",
   "execution_count": 18,
   "metadata": {},
   "outputs": [
    {
     "name": "stdout",
     "output_type": "stream",
     "text": [
      "決定係数(train):0.771\n",
      "決定係数(test):0.763\n"
     ]
    }
   ],
   "source": [
    "#決定係数の表示\n",
    "print('決定係数(train):{:.3f}'.format(model.score(X_train,y_train)))\n",
    "print('決定係数(test):{:.3f}'.format(model.score(X_test,y_test)))"
   ]
  },
  {
   "cell_type": "code",
   "execution_count": 19,
   "metadata": {},
   "outputs": [
    {
     "data": {
      "text/plain": [
       "length         179.544547\n",
       "engine-size    120.273905\n",
       "dtype: float64"
      ]
     },
     "execution_count": 19,
     "metadata": {},
     "output_type": "execute_result"
    }
   ],
   "source": [
    "#回帰係数\n",
    "pd.Series(model.coef_,index=X.columns)"
   ]
  },
  {
   "cell_type": "code",
   "execution_count": 20,
   "metadata": {},
   "outputs": [
    {
     "data": {
      "text/plain": [
       "-33590.41099160761"
      ]
     },
     "execution_count": 20,
     "metadata": {},
     "output_type": "execute_result"
    }
   ],
   "source": [
    "#切片の表示\n",
    "model.intercept_"
   ]
  },
  {
   "cell_type": "code",
   "execution_count": null,
   "metadata": {},
   "outputs": [],
   "source": []
  }
 ],
 "metadata": {
  "kernelspec": {
   "display_name": "Python 3",
   "language": "python",
   "name": "python3"
  },
  "language_info": {
   "codemirror_mode": {
    "name": "ipython",
    "version": 3
   },
   "file_extension": ".py",
   "mimetype": "text/x-python",
   "name": "python",
   "nbconvert_exporter": "python",
   "pygments_lexer": "ipython3",
   "version": "3.7.3"
  }
 },
 "nbformat": 4,
 "nbformat_minor": 2
}
