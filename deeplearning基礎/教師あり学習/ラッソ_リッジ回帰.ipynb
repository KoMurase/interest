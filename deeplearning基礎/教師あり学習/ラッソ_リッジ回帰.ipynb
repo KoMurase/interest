{
 "cells": [
  {
   "cell_type": "code",
   "execution_count": 2,
   "metadata": {},
   "outputs": [],
   "source": [
    "import numpy as np \n",
    "import numpy.random as random \n",
    "import scipy as sp \n",
    "from pandas import Series,DataFrame \n",
    "import pandas as pd \n",
    "\n",
    "import matplotlib.pyplot as plt \n",
    "import matplotlib as mpl \n",
    "import seaborn as sns \n",
    "%matplotlib inline \n",
    "\n",
    "import sklearn \n",
    "\n",
    "%precision 3\n",
    "\n",
    "import requests,zipfile \n",
    "import io \n",
    "\n",
    "import requests,zipfile \n",
    "import io \n",
    "\n",
    "url = 'http://archive.ics.uci.edu/ml/machine-learning-databases/autos/imports-85.data'\n",
    "res = requests.get(url).content\n",
    "\n",
    "auto = pd.read_csv(io.StringIO(res.decode('utf-8')),header = None)\n",
    "\n",
    "auto.columns =['symboling','normalized-losses','make','fuel-type','aspiration','num-of-doors','body-style'\n",
    "              ,'drive-wheels','engine-location','wheel-base','length','width','height',\n",
    "              'curb-weight','engine-type','num-of-cylinders','engine-size','fuel-system','bore','stroke','compression-ratio',\n",
    "              'horsepower','peak-rpm','city-mpg','highway-mpg','price']"
   ]
  },
  {
   "cell_type": "code",
   "execution_count": 3,
   "metadata": {},
   "outputs": [
    {
     "data": {
      "text/plain": [
       "price         4\n",
       "horsepower    2\n",
       "width         0\n",
       "height        0\n",
       "dtype: int64"
      ]
     },
     "execution_count": 3,
     "metadata": {},
     "output_type": "execute_result"
    }
   ],
   "source": [
    "auto = auto[['price','horsepower','width','height']]\n",
    "auto.isin(['?']).sum()"
   ]
  },
  {
   "cell_type": "code",
   "execution_count": 4,
   "metadata": {},
   "outputs": [
    {
     "name": "stdout",
     "output_type": "stream",
     "text": [
      "(199, 4)\n"
     ]
    }
   ],
   "source": [
    "auto = auto.replace('?',np.nan).dropna()\n",
    "print(auto.shape)"
   ]
  },
  {
   "cell_type": "code",
   "execution_count": 5,
   "metadata": {},
   "outputs": [
    {
     "data": {
      "text/html": [
       "<div>\n",
       "<style scoped>\n",
       "    .dataframe tbody tr th:only-of-type {\n",
       "        vertical-align: middle;\n",
       "    }\n",
       "\n",
       "    .dataframe tbody tr th {\n",
       "        vertical-align: top;\n",
       "    }\n",
       "\n",
       "    .dataframe thead th {\n",
       "        text-align: right;\n",
       "    }\n",
       "</style>\n",
       "<table border=\"1\" class=\"dataframe\">\n",
       "  <thead>\n",
       "    <tr style=\"text-align: right;\">\n",
       "      <th></th>\n",
       "      <th>price</th>\n",
       "      <th>horsepower</th>\n",
       "      <th>width</th>\n",
       "      <th>height</th>\n",
       "    </tr>\n",
       "  </thead>\n",
       "  <tbody>\n",
       "    <tr>\n",
       "      <th>0</th>\n",
       "      <td>13495</td>\n",
       "      <td>111</td>\n",
       "      <td>64.1</td>\n",
       "      <td>48.8</td>\n",
       "    </tr>\n",
       "    <tr>\n",
       "      <th>1</th>\n",
       "      <td>16500</td>\n",
       "      <td>111</td>\n",
       "      <td>64.1</td>\n",
       "      <td>48.8</td>\n",
       "    </tr>\n",
       "    <tr>\n",
       "      <th>2</th>\n",
       "      <td>16500</td>\n",
       "      <td>154</td>\n",
       "      <td>65.5</td>\n",
       "      <td>52.4</td>\n",
       "    </tr>\n",
       "    <tr>\n",
       "      <th>3</th>\n",
       "      <td>13950</td>\n",
       "      <td>102</td>\n",
       "      <td>66.2</td>\n",
       "      <td>54.3</td>\n",
       "    </tr>\n",
       "    <tr>\n",
       "      <th>4</th>\n",
       "      <td>17450</td>\n",
       "      <td>115</td>\n",
       "      <td>66.4</td>\n",
       "      <td>54.3</td>\n",
       "    </tr>\n",
       "  </tbody>\n",
       "</table>\n",
       "</div>"
      ],
      "text/plain": [
       "   price horsepower  width  height\n",
       "0  13495        111   64.1    48.8\n",
       "1  16500        111   64.1    48.8\n",
       "2  16500        154   65.5    52.4\n",
       "3  13950        102   66.2    54.3\n",
       "4  17450        115   66.4    54.3"
      ]
     },
     "execution_count": 5,
     "metadata": {},
     "output_type": "execute_result"
    }
   ],
   "source": [
    "auto.head()"
   ]
  },
  {
   "cell_type": "code",
   "execution_count": 6,
   "metadata": {},
   "outputs": [],
   "source": [
    "from sklearn.linear_model import Ridge ,LinearRegression\n",
    "from sklearn.model_selection import train_test_split "
   ]
  },
  {
   "cell_type": "code",
   "execution_count": 7,
   "metadata": {},
   "outputs": [
    {
     "name": "stdout",
     "output_type": "stream",
     "text": [
      "0.7333575683901379\n",
      "0.7370688738125767\n",
      "0.7333547383511863\n",
      "0.7377676885006832\n"
     ]
    }
   ],
   "source": [
    "X = auto.drop('price',axis=1)\n",
    "y = auto['price']\n",
    "X_train,X_test,y_train,y_test =train_test_split(X,y,test_size = 0.5,random_state =0)\n",
    "\n",
    "linear = LinearRegression()\n",
    "ridge = Ridge(random_state=0)\n",
    "\n",
    "for model in [linear,ridge]:\n",
    "    model.fit(X_train,y_train)\n",
    "    print(model.score(X_train,y_train))\n",
    "    print(model.score(X_test,y_test))"
   ]
  },
  {
   "cell_type": "code",
   "execution_count": null,
   "metadata": {},
   "outputs": [],
   "source": []
  }
 ],
 "metadata": {
  "kernelspec": {
   "display_name": "Python 3",
   "language": "python",
   "name": "python3"
  },
  "language_info": {
   "codemirror_mode": {
    "name": "ipython",
    "version": 3
   },
   "file_extension": ".py",
   "mimetype": "text/x-python",
   "name": "python",
   "nbconvert_exporter": "python",
   "pygments_lexer": "ipython3",
   "version": "3.7.3"
  }
 },
 "nbformat": 4,
 "nbformat_minor": 2
}
