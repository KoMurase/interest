{
 "cells": [
  {
   "cell_type": "code",
<<<<<<< HEAD
   "execution_count": 1,
=======
   "execution_count": 8,
>>>>>>> 585a9db17e7f013ac7fcb1dd057307db05db32c7
   "metadata": {},
   "outputs": [],
   "source": [
    "import pandas as pd "
   ]
  },
  {
   "cell_type": "code",
<<<<<<< HEAD
   "execution_count": 2,
=======
   "execution_count": 9,
>>>>>>> 585a9db17e7f013ac7fcb1dd057307db05db32c7
   "metadata": {},
   "outputs": [],
   "source": [
    "test_data = pd.read_csv('test.tsv',encoding='utf-8',delimiter = '\\t')\n",
    "train_data = pd.read_csv('train.tsv',encoding='utf-8',delimiter = '\\t')"
   ]
  },
  {
   "cell_type": "code",
<<<<<<< HEAD
   "execution_count": 3,
=======
   "execution_count": 10,
>>>>>>> 585a9db17e7f013ac7fcb1dd057307db05db32c7
   "metadata": {},
   "outputs": [
    {
     "data": {
      "text/html": [
       "<div>\n",
       "<style scoped>\n",
       "    .dataframe tbody tr th:only-of-type {\n",
       "        vertical-align: middle;\n",
       "    }\n",
       "\n",
       "    .dataframe tbody tr th {\n",
       "        vertical-align: top;\n",
       "    }\n",
       "\n",
       "    .dataframe thead th {\n",
       "        text-align: right;\n",
       "    }\n",
       "</style>\n",
       "<table border=\"1\" class=\"dataframe\">\n",
       "  <thead>\n",
       "    <tr style=\"text-align: right;\">\n",
       "      <th></th>\n",
       "      <th>id</th>\n",
       "      <th>click</th>\n",
       "      <th>I1</th>\n",
       "      <th>I2</th>\n",
       "      <th>C1</th>\n",
       "      <th>C2</th>\n",
       "      <th>C3</th>\n",
       "      <th>C4</th>\n",
       "      <th>C5</th>\n",
       "      <th>C6</th>\n",
       "      <th>...</th>\n",
       "      <th>I5</th>\n",
       "      <th>I6</th>\n",
       "      <th>I7</th>\n",
       "      <th>I8</th>\n",
       "      <th>I9</th>\n",
       "      <th>I10</th>\n",
       "      <th>I11</th>\n",
       "      <th>I12</th>\n",
       "      <th>I13</th>\n",
       "      <th>I14</th>\n",
       "    </tr>\n",
       "  </thead>\n",
       "  <tbody>\n",
       "    <tr>\n",
       "      <th>0</th>\n",
       "      <td>0</td>\n",
       "      <td>0</td>\n",
       "      <td>5</td>\n",
       "      <td>20</td>\n",
       "      <td>421256035</td>\n",
       "      <td>2377199148</td>\n",
       "      <td>2696211399</td>\n",
       "      <td>2298910535</td>\n",
       "      <td>3133252034</td>\n",
       "      <td>1509930964</td>\n",
       "      <td>...</td>\n",
       "      <td>0</td>\n",
       "      <td>0</td>\n",
       "      <td>0</td>\n",
       "      <td>0</td>\n",
       "      <td>0</td>\n",
       "      <td>0</td>\n",
       "      <td>NaN</td>\n",
       "      <td>NaN</td>\n",
       "      <td>NaN</td>\n",
       "      <td>780.0</td>\n",
       "    </tr>\n",
       "    <tr>\n",
       "      <th>1</th>\n",
       "      <td>1</td>\n",
       "      <td>0</td>\n",
       "      <td>5</td>\n",
       "      <td>20</td>\n",
       "      <td>2581703001</td>\n",
       "      <td>2589684548</td>\n",
       "      <td>1998340283</td>\n",
       "      <td>2411205997</td>\n",
       "      <td>3202148071</td>\n",
       "      <td>1238839469</td>\n",
       "      <td>...</td>\n",
       "      <td>1</td>\n",
       "      <td>1</td>\n",
       "      <td>0</td>\n",
       "      <td>0</td>\n",
       "      <td>0</td>\n",
       "      <td>0</td>\n",
       "      <td>NaN</td>\n",
       "      <td>NaN</td>\n",
       "      <td>NaN</td>\n",
       "      <td>0.0</td>\n",
       "    </tr>\n",
       "    <tr>\n",
       "      <th>2</th>\n",
       "      <td>2</td>\n",
       "      <td>0</td>\n",
       "      <td>5</td>\n",
       "      <td>20</td>\n",
       "      <td>2581703001</td>\n",
       "      <td>1862037199</td>\n",
       "      <td>2448089184</td>\n",
       "      <td>2411205997</td>\n",
       "      <td>1107442947</td>\n",
       "      <td>3668889797</td>\n",
       "      <td>...</td>\n",
       "      <td>0</td>\n",
       "      <td>0</td>\n",
       "      <td>0</td>\n",
       "      <td>0</td>\n",
       "      <td>1</td>\n",
       "      <td>0</td>\n",
       "      <td>NaN</td>\n",
       "      <td>NaN</td>\n",
       "      <td>NaN</td>\n",
       "      <td>117.0</td>\n",
       "    </tr>\n",
       "    <tr>\n",
       "      <th>3</th>\n",
       "      <td>3</td>\n",
       "      <td>0</td>\n",
       "      <td>5</td>\n",
       "      <td>20</td>\n",
       "      <td>421256035</td>\n",
       "      <td>3874378935</td>\n",
       "      <td>1658216424</td>\n",
       "      <td>2298910535</td>\n",
       "      <td>2321672976</td>\n",
       "      <td>1509930964</td>\n",
       "      <td>...</td>\n",
       "      <td>0</td>\n",
       "      <td>0</td>\n",
       "      <td>0</td>\n",
       "      <td>0</td>\n",
       "      <td>0</td>\n",
       "      <td>0</td>\n",
       "      <td>6.0</td>\n",
       "      <td>6.0</td>\n",
       "      <td>34501.0</td>\n",
       "      <td>390.0</td>\n",
       "    </tr>\n",
       "    <tr>\n",
       "      <th>4</th>\n",
       "      <td>4</td>\n",
       "      <td>1</td>\n",
       "      <td>5</td>\n",
       "      <td>20</td>\n",
       "      <td>421256035</td>\n",
       "      <td>3874378935</td>\n",
       "      <td>1892769125</td>\n",
       "      <td>2411205997</td>\n",
       "      <td>2321672976</td>\n",
       "      <td>1509930964</td>\n",
       "      <td>...</td>\n",
       "      <td>0</td>\n",
       "      <td>0</td>\n",
       "      <td>0</td>\n",
       "      <td>0</td>\n",
       "      <td>0</td>\n",
       "      <td>0</td>\n",
       "      <td>1.0</td>\n",
       "      <td>31.0</td>\n",
       "      <td>12557.0</td>\n",
       "      <td>390.0</td>\n",
       "    </tr>\n",
       "  </tbody>\n",
       "</table>\n",
       "<p>5 rows × 22 columns</p>\n",
       "</div>"
      ],
      "text/plain": [
       "   id  click  I1  I2          C1          C2          C3          C4  \\\n",
       "0   0      0   5  20   421256035  2377199148  2696211399  2298910535   \n",
       "1   1      0   5  20  2581703001  2589684548  1998340283  2411205997   \n",
       "2   2      0   5  20  2581703001  1862037199  2448089184  2411205997   \n",
       "3   3      0   5  20   421256035  3874378935  1658216424  2298910535   \n",
       "4   4      1   5  20   421256035  3874378935  1892769125  2411205997   \n",
       "\n",
       "           C5          C6  ...  I5  I6  I7  I8  I9  I10  I11   I12      I13  \\\n",
       "0  3133252034  1509930964  ...   0   0   0   0   0    0  NaN   NaN      NaN   \n",
       "1  3202148071  1238839469  ...   1   1   0   0   0    0  NaN   NaN      NaN   \n",
       "2  1107442947  3668889797  ...   0   0   0   0   1    0  NaN   NaN      NaN   \n",
       "3  2321672976  1509930964  ...   0   0   0   0   0    0  6.0   6.0  34501.0   \n",
       "4  2321672976  1509930964  ...   0   0   0   0   0    0  1.0  31.0  12557.0   \n",
       "\n",
       "     I14  \n",
       "0  780.0  \n",
       "1    0.0  \n",
       "2  117.0  \n",
       "3  390.0  \n",
       "4  390.0  \n",
       "\n",
       "[5 rows x 22 columns]"
      ]
     },
<<<<<<< HEAD
     "execution_count": 3,
=======
     "execution_count": 10,
>>>>>>> 585a9db17e7f013ac7fcb1dd057307db05db32c7
     "metadata": {},
     "output_type": "execute_result"
    }
   ],
   "source": [
    "train_data.head()"
   ]
  },
  {
   "cell_type": "code",
<<<<<<< HEAD
   "execution_count": 4,
   "metadata": {},
   "outputs": [
    {
     "data": {
      "text/html": [
       "<div>\n",
       "<style scoped>\n",
       "    .dataframe tbody tr th:only-of-type {\n",
       "        vertical-align: middle;\n",
       "    }\n",
       "\n",
       "    .dataframe tbody tr th {\n",
       "        vertical-align: top;\n",
       "    }\n",
       "\n",
       "    .dataframe thead th {\n",
       "        text-align: right;\n",
       "    }\n",
       "</style>\n",
       "<table border=\"1\" class=\"dataframe\">\n",
       "  <thead>\n",
       "    <tr style=\"text-align: right;\">\n",
       "      <th></th>\n",
       "      <th>id</th>\n",
       "      <th>click</th>\n",
       "      <th>I1</th>\n",
       "      <th>I2</th>\n",
       "      <th>C1</th>\n",
       "      <th>C2</th>\n",
       "      <th>C3</th>\n",
       "      <th>C4</th>\n",
       "      <th>C5</th>\n",
       "      <th>C6</th>\n",
       "      <th>...</th>\n",
       "      <th>I5</th>\n",
       "      <th>I6</th>\n",
       "      <th>I7</th>\n",
       "      <th>I8</th>\n",
       "      <th>I9</th>\n",
       "      <th>I10</th>\n",
       "      <th>I11</th>\n",
       "      <th>I12</th>\n",
       "      <th>I13</th>\n",
       "      <th>I14</th>\n",
       "    </tr>\n",
       "  </thead>\n",
       "  <tbody>\n",
       "    <tr>\n",
       "      <th>1169037</th>\n",
       "      <td>1169037</td>\n",
       "      <td>0</td>\n",
       "      <td>4</td>\n",
       "      <td>19</td>\n",
       "      <td>421256035</td>\n",
       "      <td>3874378935</td>\n",
       "      <td>1892769125</td>\n",
       "      <td>2411205997</td>\n",
       "      <td>2321672976</td>\n",
       "      <td>1509930964</td>\n",
       "      <td>...</td>\n",
       "      <td>0</td>\n",
       "      <td>0</td>\n",
       "      <td>0</td>\n",
       "      <td>0</td>\n",
       "      <td>0</td>\n",
       "      <td>0</td>\n",
       "      <td>2.0</td>\n",
       "      <td>2.0</td>\n",
       "      <td>9351.0</td>\n",
       "      <td>390.0</td>\n",
       "    </tr>\n",
       "    <tr>\n",
       "      <th>1169038</th>\n",
       "      <td>1169038</td>\n",
       "      <td>0</td>\n",
       "      <td>4</td>\n",
       "      <td>19</td>\n",
       "      <td>421256035</td>\n",
       "      <td>3874378935</td>\n",
       "      <td>98956388</td>\n",
       "      <td>1332932160</td>\n",
       "      <td>2321672976</td>\n",
       "      <td>1509930964</td>\n",
       "      <td>...</td>\n",
       "      <td>0</td>\n",
       "      <td>0</td>\n",
       "      <td>0</td>\n",
       "      <td>0</td>\n",
       "      <td>0</td>\n",
       "      <td>1</td>\n",
       "      <td>623.0</td>\n",
       "      <td>35.0</td>\n",
       "      <td>248.0</td>\n",
       "      <td>390.0</td>\n",
       "    </tr>\n",
       "    <tr>\n",
       "      <th>1169039</th>\n",
       "      <td>1169039</td>\n",
       "      <td>0</td>\n",
       "      <td>4</td>\n",
       "      <td>19</td>\n",
       "      <td>421256035</td>\n",
       "      <td>3874378935</td>\n",
       "      <td>98956388</td>\n",
       "      <td>1332932160</td>\n",
       "      <td>2321672976</td>\n",
       "      <td>1509930964</td>\n",
       "      <td>...</td>\n",
       "      <td>0</td>\n",
       "      <td>0</td>\n",
       "      <td>0</td>\n",
       "      <td>0</td>\n",
       "      <td>0</td>\n",
       "      <td>0</td>\n",
       "      <td>4.0</td>\n",
       "      <td>2.0</td>\n",
       "      <td>646404.0</td>\n",
       "      <td>390.0</td>\n",
       "    </tr>\n",
       "    <tr>\n",
       "      <th>1169040</th>\n",
       "      <td>1169040</td>\n",
       "      <td>0</td>\n",
       "      <td>4</td>\n",
       "      <td>19</td>\n",
       "      <td>3651044092</td>\n",
       "      <td>1862037199</td>\n",
       "      <td>2448089184</td>\n",
       "      <td>2411205997</td>\n",
       "      <td>4028731966</td>\n",
       "      <td>2068230268</td>\n",
       "      <td>...</td>\n",
       "      <td>0</td>\n",
       "      <td>0</td>\n",
       "      <td>0</td>\n",
       "      <td>0</td>\n",
       "      <td>0</td>\n",
       "      <td>0</td>\n",
       "      <td>NaN</td>\n",
       "      <td>NaN</td>\n",
       "      <td>NaN</td>\n",
       "      <td>13.0</td>\n",
       "    </tr>\n",
       "    <tr>\n",
       "      <th>1169041</th>\n",
       "      <td>1169041</td>\n",
       "      <td>0</td>\n",
       "      <td>4</td>\n",
       "      <td>19</td>\n",
       "      <td>421256035</td>\n",
       "      <td>3263006221</td>\n",
       "      <td>1317633392</td>\n",
       "      <td>1825710598</td>\n",
       "      <td>2456844420</td>\n",
       "      <td>1479325723</td>\n",
       "      <td>...</td>\n",
       "      <td>0</td>\n",
       "      <td>0</td>\n",
       "      <td>0</td>\n",
       "      <td>0</td>\n",
       "      <td>0</td>\n",
       "      <td>0</td>\n",
       "      <td>9.0</td>\n",
       "      <td>1.0</td>\n",
       "      <td>1043452.0</td>\n",
       "      <td>325.0</td>\n",
       "    </tr>\n",
       "  </tbody>\n",
       "</table>\n",
       "<p>5 rows × 22 columns</p>\n",
       "</div>"
      ],
      "text/plain": [
       "              id  click  I1  I2          C1          C2          C3  \\\n",
       "1169037  1169037      0   4  19   421256035  3874378935  1892769125   \n",
       "1169038  1169038      0   4  19   421256035  3874378935    98956388   \n",
       "1169039  1169039      0   4  19   421256035  3874378935    98956388   \n",
       "1169040  1169040      0   4  19  3651044092  1862037199  2448089184   \n",
       "1169041  1169041      0   4  19   421256035  3263006221  1317633392   \n",
       "\n",
       "                 C4          C5          C6  ...  I5  I6  I7  I8  I9  I10  \\\n",
       "1169037  2411205997  2321672976  1509930964  ...   0   0   0   0   0    0   \n",
       "1169038  1332932160  2321672976  1509930964  ...   0   0   0   0   0    1   \n",
       "1169039  1332932160  2321672976  1509930964  ...   0   0   0   0   0    0   \n",
       "1169040  2411205997  4028731966  2068230268  ...   0   0   0   0   0    0   \n",
       "1169041  1825710598  2456844420  1479325723  ...   0   0   0   0   0    0   \n",
       "\n",
       "           I11   I12        I13    I14  \n",
       "1169037    2.0   2.0     9351.0  390.0  \n",
       "1169038  623.0  35.0      248.0  390.0  \n",
       "1169039    4.0   2.0   646404.0  390.0  \n",
       "1169040    NaN   NaN        NaN   13.0  \n",
       "1169041    9.0   1.0  1043452.0  325.0  \n",
       "\n",
       "[5 rows x 22 columns]"
      ]
     },
     "execution_count": 4,
     "metadata": {},
     "output_type": "execute_result"
    }
   ],
   "source": [
    "train_data.tail()"
   ]
  },
  {
   "cell_type": "code",
   "execution_count": 5,
=======
   "execution_count": 11,
>>>>>>> 585a9db17e7f013ac7fcb1dd057307db05db32c7
   "metadata": {},
   "outputs": [
    {
     "data": {
      "text/plain": [
       "       C1        \n",
       "id     421256035     766892\n",
       "       1045405899     14878\n",
       "       1111213504     15559\n",
       "       2068315619      5128\n",
       "       2387281372     30345\n",
       "       2541535031     21625\n",
       "       2581703001    227591\n",
       "       2686811630     33122\n",
       "       3651044092     53902\n",
       "click  421256035     766892\n",
       "       1045405899     14878\n",
       "       1111213504     15559\n",
       "       2068315619      5128\n",
       "       2387281372     30345\n",
       "       2541535031     21625\n",
       "       2581703001    227591\n",
       "       2686811630     33122\n",
       "       3651044092     53902\n",
       "I1     421256035     766892\n",
       "       1045405899     14878\n",
       "       1111213504     15559\n",
       "       2068315619      5128\n",
       "       2387281372     30345\n",
       "       2541535031     21625\n",
       "       2581703001    227591\n",
       "       2686811630     33122\n",
       "       3651044092     53902\n",
       "I2     421256035     766892\n",
       "       1045405899     14878\n",
       "       1111213504     15559\n",
       "                      ...  \n",
       "I11    2581703001    181731\n",
       "       2686811630     23355\n",
       "       3651044092     38130\n",
       "I12    421256035     678831\n",
       "       1045405899      9627\n",
       "       1111213504      9532\n",
       "       2068315619      3953\n",
       "       2387281372     19812\n",
       "       2541535031     16783\n",
       "       2581703001    181731\n",
       "       2686811630     23355\n",
       "       3651044092     38130\n",
       "I13    421256035     678831\n",
       "       1045405899      9627\n",
       "       1111213504      9532\n",
       "       2068315619      3953\n",
       "       2387281372     19812\n",
       "       2541535031     16783\n",
       "       2581703001    181731\n",
       "       2686811630     23355\n",
       "       3651044092     38130\n",
       "I14    421256035     766723\n",
       "       1045405899     13611\n",
       "       1111213504     14273\n",
       "       2068315619      4504\n",
       "       2387281372     27749\n",
       "       2541535031     18688\n",
       "       2581703001    205071\n",
       "       2686811630     29295\n",
       "       3651044092     49508\n",
       "Length: 189, dtype: int64"
      ]
     },
<<<<<<< HEAD
     "execution_count": 5,
=======
     "execution_count": 11,
>>>>>>> 585a9db17e7f013ac7fcb1dd057307db05db32c7
     "metadata": {},
     "output_type": "execute_result"
    }
   ],
   "source": [
    "train_data.groupby('C1').count().unstack()"
   ]
  },
  {
   "cell_type": "code",
<<<<<<< HEAD
   "execution_count": 6,
=======
   "execution_count": 12,
>>>>>>> 585a9db17e7f013ac7fcb1dd057307db05db32c7
   "metadata": {},
   "outputs": [
    {
     "data": {
      "text/plain": [
       "     C2        \n",
       "id   53932946         153\n",
       "     71293199       11929\n",
       "     102346738       6576\n",
       "     155193773          1\n",
       "     189706718         61\n",
       "     192106456        275\n",
       "     228048336          9\n",
       "     266672125       1855\n",
       "     280395364         77\n",
       "     330730226       2286\n",
       "     344257135       2321\n",
       "     363130183         11\n",
       "     364377489       5196\n",
       "     395799033         43\n",
       "     421256035       8012\n",
       "     450817360         18\n",
       "     552338065       2836\n",
       "     585333929       1121\n",
       "     600687045       1013\n",
       "     668442991        608\n",
       "     693765660        262\n",
       "     712451701       5494\n",
       "     727692042       6421\n",
       "     749836023       4394\n",
       "     750939299       1510\n",
       "     760127602        284\n",
       "     762407002          8\n",
       "     785241772        984\n",
       "     805769945        142\n",
       "     860314843          6\n",
       "                    ...  \n",
       "I14  3353718864        18\n",
       "     3404861148       480\n",
       "     3447893652        82\n",
       "     3454097143       158\n",
       "     3483209424       599\n",
       "     3585793711       151\n",
       "     3621862963       453\n",
       "     3684013252      1536\n",
       "     3693842864      1408\n",
       "     3715974020      1551\n",
       "     3741850176      4805\n",
       "     3745222443       181\n",
       "     3752627377        60\n",
       "     3755866630      2386\n",
       "     3831111254      5101\n",
       "     3874378935    301238\n",
       "     3879565796       332\n",
       "     3917013651       147\n",
       "     3954817824      7932\n",
       "     3978486381        24\n",
       "     4075744428        41\n",
       "     4076926804       185\n",
       "     4079531040       754\n",
       "     4093475157      1803\n",
       "     4110645563       570\n",
       "     4122647904        47\n",
       "     4180367987        17\n",
       "     4212447203      3300\n",
       "     4214164422        24\n",
       "     4218831626        45\n",
       "Length: 3591, dtype: int64"
      ]
     },
<<<<<<< HEAD
     "execution_count": 6,
=======
     "execution_count": 12,
>>>>>>> 585a9db17e7f013ac7fcb1dd057307db05db32c7
     "metadata": {},
     "output_type": "execute_result"
    }
   ],
   "source": [
    "train_data.groupby('C2').count().unstack()"
   ]
  },
  {
   "cell_type": "code",
<<<<<<< HEAD
   "execution_count": 7,
   "metadata": {},
   "outputs": [],
   "source": [
    "import matplotlib.pyplot as plt\n",
    "import numpy as np"
=======
   "execution_count": 13,
   "metadata": {},
   "outputs": [],
   "source": [
    "import matplotlib.pyplot as plt"
>>>>>>> 585a9db17e7f013ac7fcb1dd057307db05db32c7
   ]
  },
  {
   "cell_type": "code",
<<<<<<< HEAD
   "execution_count": 8,
=======
   "execution_count": 14,
>>>>>>> 585a9db17e7f013ac7fcb1dd057307db05db32c7
   "metadata": {},
   "outputs": [
    {
     "name": "stdout",
     "output_type": "stream",
     "text": [
      "<class 'pandas.core.frame.DataFrame'>\n",
      "RangeIndex: 1169042 entries, 0 to 1169041\n",
      "Data columns (total 22 columns):\n",
      "id       1169042 non-null int64\n",
      "click    1169042 non-null int64\n",
      "I1       1169042 non-null int64\n",
      "I2       1169042 non-null int64\n",
      "C1       1169042 non-null int64\n",
      "C2       1169042 non-null int64\n",
      "C3       1169042 non-null int64\n",
      "C4       1169042 non-null int64\n",
      "C5       1169042 non-null int64\n",
      "C6       1169042 non-null int64\n",
      "I3       1169042 non-null int64\n",
      "I4       1169042 non-null int64\n",
      "I5       1169042 non-null int64\n",
      "I6       1169042 non-null int64\n",
      "I7       1169042 non-null int64\n",
      "I8       1169042 non-null int64\n",
      "I9       1169042 non-null int64\n",
      "I10      1169042 non-null int64\n",
      "I11      981754 non-null float64\n",
      "I12      981754 non-null float64\n",
      "I13      981754 non-null float64\n",
      "I14      1129422 non-null float64\n",
      "dtypes: float64(4), int64(18)\n",
      "memory usage: 196.2 MB\n"
     ]
    }
   ],
   "source": [
    "train_data.info()"
   ]
  },
  {
   "cell_type": "code",
<<<<<<< HEAD
   "execution_count": 9,
=======
   "execution_count": 15,
>>>>>>> 585a9db17e7f013ac7fcb1dd057307db05db32c7
   "metadata": {},
   "outputs": [
    {
     "data": {
      "text/plain": [
       "id            0\n",
       "click         0\n",
       "I1            0\n",
       "I2            0\n",
       "C1            0\n",
       "C2            0\n",
       "C3            0\n",
       "C4            0\n",
       "C5            0\n",
       "C6            0\n",
       "I3            0\n",
       "I4            0\n",
       "I5            0\n",
       "I6            0\n",
       "I7            0\n",
       "I8            0\n",
       "I9            0\n",
       "I10           0\n",
       "I11      187288\n",
       "I12      187288\n",
       "I13      187288\n",
       "I14       39620\n",
       "dtype: int64"
      ]
     },
<<<<<<< HEAD
     "execution_count": 9,
=======
     "execution_count": 15,
>>>>>>> 585a9db17e7f013ac7fcb1dd057307db05db32c7
     "metadata": {},
     "output_type": "execute_result"
    }
   ],
   "source": [
    "train_data.isnull().sum()"
   ]
  },
  {
   "cell_type": "code",
<<<<<<< HEAD
   "execution_count": 10,
=======
   "execution_count": 17,
>>>>>>> 585a9db17e7f013ac7fcb1dd057307db05db32c7
   "metadata": {},
   "outputs": [
    {
     "data": {
      "text/plain": [
       "(1169042, 22)"
      ]
     },
<<<<<<< HEAD
     "execution_count": 10,
=======
     "execution_count": 17,
>>>>>>> 585a9db17e7f013ac7fcb1dd057307db05db32c7
     "metadata": {},
     "output_type": "execute_result"
    }
   ],
   "source": [
    "train_data.shape"
   ]
  },
  {
   "cell_type": "code",
<<<<<<< HEAD
   "execution_count": 11,
=======
   "execution_count": 21,
>>>>>>> 585a9db17e7f013ac7fcb1dd057307db05db32c7
   "metadata": {},
   "outputs": [
    {
     "data": {
      "text/plain": [
       "Index(['id', 'click', 'I1', 'I2', 'C1', 'C2', 'C3', 'C4', 'C5', 'C6', 'I3',\n",
       "       'I4', 'I5', 'I6', 'I7', 'I8', 'I9', 'I10', 'I11', 'I12', 'I13', 'I14'],\n",
       "      dtype='object')"
      ]
     },
<<<<<<< HEAD
     "execution_count": 11,
=======
     "execution_count": 21,
>>>>>>> 585a9db17e7f013ac7fcb1dd057307db05db32c7
     "metadata": {},
     "output_type": "execute_result"
    }
   ],
   "source": [
    "train_data.columns"
   ]
  },
  {
   "cell_type": "code",
<<<<<<< HEAD
   "execution_count": 12,
   "metadata": {},
   "outputs": [],
   "source": [
    "train = train_data\n",
    "train = pd.DataFrame(train)"
=======
   "execution_count": 23,
   "metadata": {},
   "outputs": [],
   "source": [
    "train = train_data.drop(['I11', 'I12', 'I13', 'I14'],axis=1)"
>>>>>>> 585a9db17e7f013ac7fcb1dd057307db05db32c7
   ]
  },
  {
   "cell_type": "code",
<<<<<<< HEAD
   "execution_count": 13,
   "metadata": {},
   "outputs": [
    {
     "data": {
      "text/plain": [
       "421256035     766892\n",
       "2581703001    227591\n",
       "3651044092     53902\n",
       "2686811630     33122\n",
       "2387281372     30345\n",
       "2541535031     21625\n",
       "1111213504     15559\n",
       "1045405899     14878\n",
       "2068315619      5128\n",
       "Name: C1, dtype: int64"
      ]
     },
     "execution_count": 13,
     "metadata": {},
     "output_type": "execute_result"
    }
   ],
   "source": [
    "train['C1'].value_counts()"
   ]
  },
  {
   "cell_type": "code",
   "execution_count": 14,
   "metadata": {},
   "outputs": [],
   "source": [
    "import seaborn as sns "
   ]
  },
  {
   "cell_type": "code",
   "execution_count": 15,
   "metadata": {},
   "outputs": [],
   "source": [
    "#閾値を決めて頻度が少ない値をNaNに置き換える\n",
    "df_c1 = pd.DataFrame(train['C1'])\n",
    "threshold = 30000\n",
    "value_counts = df_c1.stack().value_counts()\n",
    "to_remove = value_counts[value_counts <=threshold].index\n",
    "df_c1.replace(to_remove,np.nan,inplace=True)"
=======
   "execution_count": 29,
   "metadata": {},
   "outputs": [
    {
     "name": "stdout",
     "output_type": "stream",
     "text": [
      "   421256035   1045405899  1111213504  2068315619  2387281372  2541535031  \\\n",
      "0           1           0           0           0           0           0   \n",
      "1           0           0           0           0           0           0   \n",
      "2           0           0           0           0           0           0   \n",
      "3           1           0           0           0           0           0   \n",
      "4           1           0           0           0           0           0   \n",
      "\n",
      "   2581703001  2686811630  3651044092  \n",
      "0           0           0           0  \n",
      "1           1           0           0  \n",
      "2           1           0           0  \n",
      "3           0           0           0  \n",
      "4           0           0           0  \n"
     ]
    }
   ],
   "source": [
    "dummy_c1 = pd.get_dummies(train['C1'])\n",
    "print(dummy_c1.head())"
   ]
  },
  {
   "cell_type": "markdown",
   "metadata": {},
   "source": [
    "何かしらのカテゴリ分けされていたのでダミー化した"
>>>>>>> 585a9db17e7f013ac7fcb1dd057307db05db32c7
   ]
  },
  {
   "cell_type": "code",
<<<<<<< HEAD
   "execution_count": 16,
   "metadata": {},
   "outputs": [
    {
     "name": "stdout",
     "output_type": "stream",
     "text": [
      "(1169042,)\n",
      "0          4.212560e+08\n",
      "1          2.581703e+09\n",
      "2          2.581703e+09\n",
      "3          4.212560e+08\n",
      "4          4.212560e+08\n",
      "5          4.212560e+08\n",
      "6          2.581703e+09\n",
      "7          4.212560e+08\n",
      "8          4.212560e+08\n",
      "9          4.212560e+08\n",
      "10         2.581703e+09\n",
      "11         4.212560e+08\n",
      "12         3.651044e+09\n",
      "13         4.212560e+08\n",
      "14         4.212560e+08\n",
      "15         3.651044e+09\n",
      "16         4.212560e+08\n",
      "17         3.651044e+09\n",
      "18         4.212560e+08\n",
      "19         4.212560e+08\n",
      "20         4.212560e+08\n",
      "21         2.686812e+09\n",
      "22         4.212560e+08\n",
      "23         4.212560e+08\n",
      "24         4.212560e+08\n",
      "25         4.212560e+08\n",
      "26                  NaN\n",
      "27         4.212560e+08\n",
      "28         2.581703e+09\n",
      "29         2.581703e+09\n",
      "               ...     \n",
      "1169012    4.212560e+08\n",
      "1169013    4.212560e+08\n",
      "1169014    4.212560e+08\n",
      "1169015    4.212560e+08\n",
      "1169016    4.212560e+08\n",
      "1169017    4.212560e+08\n",
      "1169018    4.212560e+08\n",
      "1169019    4.212560e+08\n",
      "1169020    4.212560e+08\n",
      "1169021    4.212560e+08\n",
      "1169022    4.212560e+08\n",
      "1169023    4.212560e+08\n",
      "1169024             NaN\n",
      "1169025    4.212560e+08\n",
      "1169026    4.212560e+08\n",
      "1169027    4.212560e+08\n",
      "1169028    4.212560e+08\n",
      "1169029    4.212560e+08\n",
      "1169030    4.212560e+08\n",
      "1169031    4.212560e+08\n",
      "1169032    4.212560e+08\n",
      "1169033    2.686812e+09\n",
      "1169034    4.212560e+08\n",
      "1169035    4.212560e+08\n",
      "1169036    4.212560e+08\n",
      "1169037    4.212560e+08\n",
      "1169038    4.212560e+08\n",
      "1169039    4.212560e+08\n",
      "1169040    3.651044e+09\n",
      "1169041    4.212560e+08\n",
      "Name: C1, Length: 1169042, dtype: float64\n"
     ]
    },
    {
     "data": {
      "image/png": "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\n",
=======
   "execution_count": 35,
   "metadata": {},
   "outputs": [
    {
     "data": {
      "text/plain": [
       "<matplotlib.axes._subplots.AxesSubplot at 0x206982f35c0>"
      ]
     },
     "execution_count": 35,
     "metadata": {},
     "output_type": "execute_result"
    },
    {
     "data": {
      "image/png": "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\n",
>>>>>>> 585a9db17e7f013ac7fcb1dd057307db05db32c7
      "text/plain": [
       "<Figure size 432x288 with 1 Axes>"
      ]
     },
     "metadata": {
      "needs_background": "light"
     },
     "output_type": "display_data"
    }
   ],
   "source": [
<<<<<<< HEAD
    "sns.countplot(df_c1['C1'])\n",
    "print(df_c1['C1'].shape)\n",
    "print(df_c1['C1'])"
   ]
  },
  {
   "cell_type": "code",
   "execution_count": 17,
   "metadata": {},
   "outputs": [],
   "source": [
    "df_c1['C1']=pd.get_dummies(df_c1['C1'])"
   ]
  },
  {
   "cell_type": "markdown",
   "metadata": {},
   "source": [
    "何かしらのカテゴリ分けされていたのでダミー化した"
=======
    "import seaborn as sns \n",
    "\n",
    "sns.countplot(train['C2'])"
>>>>>>> 585a9db17e7f013ac7fcb1dd057307db05db32c7
   ]
  },
  {
   "cell_type": "code",
<<<<<<< HEAD
   "execution_count": 18,
=======
   "execution_count": 36,
>>>>>>> 585a9db17e7f013ac7fcb1dd057307db05db32c7
   "metadata": {},
   "outputs": [
    {
     "data": {
      "text/plain": [
<<<<<<< HEAD
       "<matplotlib.axes._subplots.AxesSubplot at 0x253821014e0>"
      ]
     },
     "execution_count": 18,
=======
       "<matplotlib.axes._subplots.AxesSubplot at 0x20699a085c0>"
      ]
     },
     "execution_count": 36,
>>>>>>> 585a9db17e7f013ac7fcb1dd057307db05db32c7
     "metadata": {},
     "output_type": "execute_result"
    },
    {
     "data": {
<<<<<<< HEAD
      "image/png": "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\n",
=======
      "image/png": "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\n",
>>>>>>> 585a9db17e7f013ac7fcb1dd057307db05db32c7
      "text/plain": [
       "<Figure size 432x288 with 1 Axes>"
      ]
     },
     "metadata": {
      "needs_background": "light"
     },
     "output_type": "display_data"
    }
   ],
   "source": [
<<<<<<< HEAD
    "sns.countplot(df_c1['C1'])"
=======
    "sns.countplot(train['C3'])"
>>>>>>> 585a9db17e7f013ac7fcb1dd057307db05db32c7
   ]
  },
  {
   "cell_type": "code",
<<<<<<< HEAD
   "execution_count": 19,
=======
   "execution_count": 37,
>>>>>>> 585a9db17e7f013ac7fcb1dd057307db05db32c7
   "metadata": {},
   "outputs": [
    {
     "data": {
      "text/plain": [
<<<<<<< HEAD
       "<matplotlib.axes._subplots.AxesSubplot at 0x253820f43c8>"
      ]
     },
     "execution_count": 19,
=======
       "<matplotlib.axes._subplots.AxesSubplot at 0x20699eb1e80>"
      ]
     },
     "execution_count": 37,
>>>>>>> 585a9db17e7f013ac7fcb1dd057307db05db32c7
     "metadata": {},
     "output_type": "execute_result"
    },
    {
     "data": {
<<<<<<< HEAD
      "image/png": "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\n",
=======
      "image/png": "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\n",
>>>>>>> 585a9db17e7f013ac7fcb1dd057307db05db32c7
      "text/plain": [
       "<Figure size 432x288 with 1 Axes>"
      ]
     },
     "metadata": {
      "needs_background": "light"
     },
     "output_type": "display_data"
    }
   ],
   "source": [
<<<<<<< HEAD
    "#C2についても同様に行う\n",
    "sns.countplot(train['C2'])"
=======
    "sns.countplot(train['C4'])"
>>>>>>> 585a9db17e7f013ac7fcb1dd057307db05db32c7
   ]
  },
  {
   "cell_type": "code",
<<<<<<< HEAD
   "execution_count": 20,
   "metadata": {
    "scrolled": true
   },
=======
   "execution_count": 38,
   "metadata": {},
>>>>>>> 585a9db17e7f013ac7fcb1dd057307db05db32c7
   "outputs": [
    {
     "data": {
      "text/plain": [
<<<<<<< HEAD
       "3874378935    301238\n",
       "1862037199    259814\n",
       "2589684548    143799\n",
       "1537671376    108640\n",
       "1088910726     97224\n",
       "Name: C2, dtype: int64"
      ]
     },
     "execution_count": 20,
     "metadata": {},
     "output_type": "execute_result"
    }
   ],
   "source": [
    "train['C2'].value_counts().head(5)"
=======
       "<matplotlib.axes._subplots.AxesSubplot at 0x2069a17ac88>"
      ]
     },
     "execution_count": 38,
     "metadata": {},
     "output_type": "execute_result"
    },
    {
     "data": {
      "image/png": "iVBORw0KGgoAAAANSUhEUgAAAbcAAAEKCAYAAACRwxtAAAAABHNCSVQICAgIfAhkiAAAAAlwSFlzAAALEgAACxIB0t1+/AAAADl0RVh0U29mdHdhcmUAbWF0cGxvdGxpYiB2ZXJzaW9uIDMuMC4zLCBodHRwOi8vbWF0cGxvdGxpYi5vcmcvnQurowAAHkFJREFUeJzt3X+0VWW97/H3h42YWabpxgzoQLXvvZGnKEkZtztOpQ3YIAoCdrCTkocOZtjQU6PUc+45VsYY9hNDEaMgwJMi8UNItxIXtU63UrZHUtHjZYem+4CwETT74Q/ge/+Yz4bJZu0fIIu19lyf1xhzrGd+5zPnfNZC12fPuZ69tiICMzOzIulT6QGYmZkdbg43MzMrHIebmZkVjsPNzMwKx+FmZmaF43AzM7PCcbiZmVnhONzMzKxwHG5mZlY4fSs9gGpx0kknxeDBgys9DDOzXuWhhx7aHhH1lR5HRw63ZPDgwTQ3N1d6GGZmvYqk31d6DKX4tqSZmRWOw83MzArH4WZmZoXjcDMzs8JxuJmZWeE43MzMrHDKHm6S6iQ9LOnOtD5E0gOSNkq6XVK/VD86rbek7YNzx7g61Z+UNCpXb0y1FklX5eolz2FmZrXhSFy5XQ48kVv/BjAzIhqAncDUVJ8K7IyIdwMzUz8kDQUmA+8FGoGbUmDWAbOB0cBQ4ILUt6tzmJlZDShruEkaCJwN/DCtCzgTWJq6LATGp/a4tE7aflbqPw5YHBGvRMRTQAtwelpaImJTRLwKLAbGdXMOMzOrAeW+crse+DKwJ62fCLwQEbvSeiswILUHAM8CpO0vpv576x326aze1TnMrIRxS39W6SGYHVZlCzdJY4FtEfFQvlyia3Sz7XDVS41xmqRmSc1tbW2lupiZWS9Uziu3DwPnSnqa7JbhmWRXcsdLav9Oy4HA5tRuBQYBpO1vAXbk6x326ay+vYtz7Cci5kbE8IgYXl9fdd/7aWZmh6hs4RYRV0fEwIgYTDYh5N6I+DvgPmBS6jYFWJnaq9I6afu9ERGpPjnNphwCNAAPAuuAhjQzsl86x6q0T2fnMDOzGlCJ33O7EviCpBayz8fmpfo84MRU/wJwFUBEbACWAI8D9wDTI2J3+kztMmA12WzMJalvV+cwM7MacET+5E1E3A/cn9qbyGY6duzzMnB+J/vPAGaUqDcBTSXqJc9hZma1wd9QYmZmheNwMzOzwnG4mZlZ4TjczMyscBxuZmZWOA43MzMrHIebmZkVjsPNzMwKx+FmZmaF43AzM7PCcbiZmVnhONzMzKxwHG5mZlY4DjczMysch5uZmRWOw83MzArH4WZmZoVTtnCT9AZJD0r6raQNkr6a6gskPSVpfVqGpbokzZLUIukRSR/MHWuKpI1pmZKrnybp0bTPLElK9bdKWpP6r5F0Qrmep5mZVZ9yXrm9ApwZEe8HhgGNkkakbV+KiGFpWZ9qo4GGtEwD5kAWVMA1wBnA6cA1ubCak/q279eY6lcBayOiAVib1s3MrEaULdwi88e0elRaootdxgGL0n6/AY6XdAowClgTETsiYiewhiwoTwGOi4hfR0QAi4DxuWMtTO2FubqZmdWAsn7mJqlO0npgG1lAPZA2zUi3HmdKOjrVBgDP5nZvTbWu6q0l6gAnR8QWgPTYv5PxTZPULKm5ra3tkJ+nmZlVl7KGW0TsjohhwEDgdEmnAlcD/wP4EPBW4MrUXaUOcQj1gxnf3IgYHhHD6+vrD2ZXMzOrYkdktmREvADcDzRGxJZ06/EV4Edkn6NBduU1KLfbQGBzN/WBJeoAW9NtS9LjtsP6hMzMrKqVc7ZkvaTjU/sY4OPAf+ZCR2SfhT2WdlkFXJRmTY4AXky3FFcDIyWdkCaSjARWp20vSRqRjnURsDJ3rPZZlVNydTMzqwF9y3jsU4CFkurIQnRJRNwp6V5J9WS3FdcDn039m4AxQAvwZ+BigIjYIelaYF3q97WI2JHalwILgGOAu9MCcB2wRNJU4Bng/LI9SzMzqzplC7eIeAT4QIn6mZ30D2B6J9vmA/NL1JuBU0vUnwfOOsghm5lZQfgbSszMrHAcbmZmVjgONzMzKxyHm5mZFY7DzczMCsfhZmZmheNwMzOzwnG4mZlZ4TjczMyscBxuZmZWOA43MzMrHIebmZkVjsPNzMwKx+FmZmaF43AzM7PCcbiZmVnhlC3cJL1B0oOSfitpg6SvpvoQSQ9I2ijpdkn9Uv3otN6Stg/OHevqVH9S0qhcvTHVWiRdlauXPIeZmdWGcl65vQKcGRHvB4YBjZJGAN8AZkZEA7ATmJr6TwV2RsS7gZmpH5KGApOB9wKNwE2S6iTVAbOB0cBQ4ILUly7OYWZmNaBs4RaZP6bVo9ISwJnA0lRfCIxP7XFpnbT9LElK9cUR8UpEPAW0AKenpSUiNkXEq8BiYFzap7NzmJlZDSjrZ27pCms9sA1YA/wOeCEidqUurcCA1B4APAuQtr8InJivd9ins/qJXZzDzMxqQFnDLSJ2R8QwYCDZldZ7SnVLj+pk2+GqH0DSNEnNkprb2tpKdTEzs17oiMyWjIgXgPuBEcDxkvqmTQOBzandCgwCSNvfAuzI1zvs01l9exfn6DiuuRExPCKG19fXv56naGZmVaScsyXrJR2f2scAHweeAO4DJqVuU4CVqb0qrZO23xsRkeqT02zKIUAD8CCwDmhIMyP7kU06WZX26ewcZmZWA/p23+WQnQIsTLMa+wBLIuJOSY8DiyV9HXgYmJf6zwNukdRCdsU2GSAiNkhaAjwO7AKmR8RuAEmXAauBOmB+RGxIx7qyk3OYmVkNKFu4RcQjwAdK1DeRff7Wsf4ycH4nx5oBzChRbwKaenoOMzOrDf6GEjMzKxyHm5mZFY7DzczMCsfhZmZmheNwMzOzwnG4mZlZ4TjczMyscBxuZmZWOA43MzMrHIebmZkVjsPNzMwKx+FmZmaF43AzM7PCcbiZmVnhONzMzKxwHG5mZlY4DjczMyucsoWbpEGS7pP0hKQNki5P9a9I+i9J69MyJrfP1ZJaJD0paVSu3phqLZKuytWHSHpA0kZJt0vql+pHp/WWtH1wuZ6nmZlVn3Jeue0CvhgR7wFGANMlDU3bZkbEsLQ0AaRtk4H3Ao3ATZLqJNUBs4HRwFDggtxxvpGO1QDsBKam+lRgZ0S8G5iZ+pmZWY0oW7hFxJaI+I/Ufgl4AhjQxS7jgMUR8UpEPAW0AKenpSUiNkXEq8BiYJwkAWcCS9P+C4HxuWMtTO2lwFmpv5mZ1YAj8plbui34AeCBVLpM0iOS5ks6IdUGAM/mdmtNtc7qJwIvRMSuDvX9jpW2v5j6m5lZDSh7uEl6E7AMuCIi/gDMAd4FDAO2AN9p71pi9ziEelfH6ji2aZKaJTW3tbV1+TzMzKz3KGu4STqKLNh+HBHLASJia0Tsjog9wA/IbjtCduU1KLf7QGBzF/XtwPGS+nao73estP0twI6O44uIuRExPCKG19fXv96na2ZmVaKcsyUFzAOeiIjv5uqn5LqdBzyW2quAyWmm4xCgAXgQWAc0pJmR/cgmnayKiADuAyal/acAK3PHmpLak4B7U38zM6sBfbvvcsg+DFwIPCppfar9E9lsx2FktwmfBi4BiIgNkpYAj5PNtJweEbsBJF0GrAbqgPkRsSEd70pgsaSvAw+ThSnp8RZJLWRXbJPL+DzNzKzKlC3cIuKXlP7sq6mLfWYAM0rUm0rtFxGb2HdbM19/GTj/YMZrZmbF4W8oMTOzwnG4mZlZ4TjczMyscHoUbpLW9qRmZmZWDbqcUCLpDcAbgZPSN4m0TxA5Dnh7mcdmZmZ2SLqbLXkJcAVZkD3EvnD7A9mXGZuZmVWdLsMtIr4HfE/S5yPihiM0JjMzs9elR7/nFhE3SPqfwOD8PhGxqEzjMjMzO2Q9CjdJt5B92fF6YHcqB+BwMzOzqtPTbygZDgz19zOamVlv0NPfc3sMeFs5B2JmZna49PTK7STgcUkPAq+0FyPi3LKMyszM7HXoabh9pZyDMDMzO5x6Olvy5+UeiJmZ2eHS09mSL5HNjgToBxwF/CkijivXwMzMzA5VT6/c3pxflzSeEn9HzczMrBoc0l8FiIg7gDMP81jMzMwOi57+VYAJuWWSpOvYd5uys30GSbpP0hOSNki6PNXfKmmNpI3p8YRUl6RZklokPSLpg7ljTUn9N0qakqufJunRtM8sSerqHGZmVht6euV2Tm4ZBbwEjOtmn13AFyPiPcAIYLqkocBVwNqIaADWpnWA0UBDWqYBcyALKuAa4AyyW6HX5MJqTurbvl9jqnd2DjMzqwE9/czt4oM9cERsAbak9kuSngAGkIXiR1O3hcD9wJWpvih9C8pvJB0v6ZTUd01E7ACQtAZolHQ/cFxE/DrVFwHjgbu7OIeZmdWAnt6WHChphaRtkrZKWiZpYE9PImkw8AHgAeDkFHztAdg/dRsAPJvbrTXVuqq3lqjTxTnMzKwG9PS25I+AVWR/120A8NNU65akNwHLgCsi4g9ddS1Ri0Oo95ikaZKaJTW3tbUdzK5mZlbFehpu9RHxo4jYlZYFQH13O0k6iizYfhwRy1N5a7rdSHrcluqtwKDc7gOBzd3UB5aod3WO/UTE3IgYHhHD6+u7fTpmZtZL9DTctkv6lKS6tHwKeL6rHdLMxXnAExHx3dymVUD7jMcpwMpc/aI0a3IE8GK6pbgaGCnphDSRZCSwOm17SdKIdK6LOhyr1DnMzKwG9PS7Jf8euBGYSXbr71dAd5NMPgxcCDwqaX2q/RNwHbBE0lTgGeD8tK0JGAO0AH9uP35E7JB0LbAu9fta++QS4FJgAXAM2USSu1O9s3OYmVkN6Gm4XQtMiYidsHd6/rfJQq+kiPglpT8XAzirRP8ApndyrPnA/BL1ZuDUEvXnS53DzMxqQ09vS76vPdggu5oim/1oZmZWdXoabn3y3/KRrtx6etVnZmZ2RPU0oL4D/ErSUrLP3D4BzCjbqMzMzF6Hnn5DySJJzWRflixgQkQ8XtaRmZmZHaIe31pMYeZAMzOzqndIf/LGzMysmjnczMyscBxuZmZWOA43MzMrHIebmZkVjsPNzMwKx+FmZmaF43AzM7PCcbiZmVnhONzMzKxwHG5mZlY4DjczMyucsoWbpPmStkl6LFf7iqT/krQ+LWNy266W1CLpSUmjcvXGVGuRdFWuPkTSA5I2SrpdUr9UPzqtt6Ttg8v1HM3MrDqV88ptAdBYoj4zIoalpQlA0lBgMvDetM9Nkuok1QGzgdHAUOCC1BfgG+lYDcBOYGqqTwV2RsS7gZmpn5mZ1ZCyhVtE/ALY0cPu44DFEfFKRDwFtACnp6UlIjZFxKvAYmCcJJH9bbmlaf+FwPjcsRam9lLgrNTfzMxqRCU+c7tM0iPptuUJqTYAeDbXpzXVOqufCLwQEbs61Pc7Vtr+Yup/AEnTJDVLam5ra3v9z8zMzKrCkQ63OcC7gGHAFuA7qV7qyioOod7VsQ4sRsyNiOERMby+vr6rcZuZWS9yRMMtIrZGxO6I2AP8gOy2I2RXXoNyXQcCm7uobweOl9S3Q32/Y6Xtb6Hnt0fNzKwAjmi4STolt3oe0D6TchUwOc10HAI0AA8C64CGNDOyH9mkk1UREcB9wKS0/xRgZe5YU1J7EnBv6m9mZjWib/ddDo2k24CPAidJagWuAT4qaRjZbcKngUsAImKDpCXA48AuYHpE7E7HuQxYDdQB8yNiQzrFlcBiSV8HHgbmpfo84BZJLWRXbJPL9RzNzKw6lS3cIuKCEuV5JWrt/WcAM0rUm4CmEvVN7Lutma+/DJx/UIO1wpi0spGl4+6p9DDMrML8DSVmZlY4DjczMysch5uZmRWOw83MzArH4WZmZoXjcDMzs8JxuJmZWeE43MzMrHAcbmZmVjgONzMzKxyHm5mZFY7DzczMCsfhZmZmheNwMzOzwnG4mZlZ4TjcqsiTs8dVeghmZoXgcDMzs8IpW7hJmi9pm6THcrW3SlojaWN6PCHVJWmWpBZJj0j6YG6fKan/RklTcvXTJD2a9pklSV2dw8zMakc5r9wWAI0dalcBayOiAVib1gFGAw1pmQbMgSyogGuAM4DTgWtyYTUn9W3fr7Gbc5iZWY0oW7hFxC+AHR3K44CFqb0QGJ+rL4rMb4DjJZ0CjALWRMSOiNgJrAEa07bjIuLXERHAog7HKnUOMzOrEUf6M7eTI2ILQHrsn+oDgGdz/VpTrat6a4l6V+c4gKRpkpolNbe1tR3ykzIzs+pSLRNKVKIWh1A/KBExNyKGR8Tw+vr6g93dzMyq1JEOt63pliLpcVuqtwKDcv0GApu7qQ8sUe/qHGZmViOOdLitAtpnPE4BVubqF6VZkyOAF9MtxdXASEknpIkkI4HVadtLkkakWZIXdThWqXOYmVmN6FuuA0u6DfgocJKkVrJZj9cBSyRNBZ4Bzk/dm4AxQAvwZ+BigIjYIelaYF3q97WIaJ+kcinZjMxjgLvTQhfnMDOzGlG2cIuICzrZdFaJvgFM7+Q484H5JerNwKkl6s+XOoeZmdWOaplQYmZmdtg43MzMrHAcbmZmVjgONzMzKxyHm5mZFY7DzczMCsfhZmZmheNwMzOzwnG4mZlZ4TjczMyscBxuZmZWOA43MzMrHIebmZkVjsPNzMwKx+FmZmaF43AzM7PCqUi4SXpa0qOS1ktqTrW3SlojaWN6PCHVJWmWpBZJj0j6YO44U1L/jZKm5OqnpeO3pH115J+lmZlVSiWv3D4WEcMiYnhavwpYGxENwNq0DjAaaEjLNGAOZGEIXAOcAZwOXNMeiKnPtNx+jeV/OmZmVi2q6bbkOGBhai8ExufqiyLzG+B4SacAo4A1EbEjInYCa4DGtO24iPh1RASwKHcsMzOrAZUKtwB+JukhSdNS7eSI2AKQHvun+gDg2dy+ranWVb21RN3MzGpE3wqd98MRsVlSf2CNpP/som+pz8viEOoHHjgL1mkA73jHO7oesZmZ9RoVuXKLiM3pcRuwguwzs63pliLpcVvq3goMyu0+ENjcTX1giXqpccyNiOERMby+vv71Pi0zM6sSRzzcJB0r6c3tbWAk8BiwCmif8TgFWJnaq4CL0qzJEcCL6bblamCkpBPSRJKRwOq07SVJI9IsyYtyxzIzsxpQiduSJwMr0uz8vsCtEXGPpHXAEklTgWeA81P/JmAM0AL8GbgYICJ2SLoWWJf6fS0idqT2pcAC4Bjg7rSYWRlMXLaOZRM/VOlhmO3niIdbRGwC3l+i/jxwVol6ANM7OdZ8YH6JejNw6userJmZ9UrV9KsAZmZmh4XDzczMCsfhZmZmheNwMzOzwnG4mZlZ4TjczMyscBxuZmZWOA43MzMrHIebmZkVjsPNzGpK0+3bKz0EOwIcbmYFc87S5ZUeglnFOdyqxMYbx1V6CGZmheFwMzOzwnG4mZlZ4TjczKrI2GULD+vxzlnqv9NrtcnhdhhsnfONSg9hr5//4OxKD8GsLK5f8Vylh2C9iMOtgn4/a3ylh3DQ/m3BqEoPoSaMXbqo0kMw69UKG26SGiU9KalF0lWVHs/r8fDN51T0/IvLEGgzb618SI6+4x8Zc8eXKj2MqjV+2X2VHkIhPH39czx9va86j7RChpukOmA2MBoYClwgaWhP92+bs6BMIyuff//B2ANqa39Y+hZl07wx+62vnD/6sI/n5lsqH16dGX3HZZUeAmcv+2FZj3/O0hVlPb71TttuuI9tN6xNy5pDP85Niw/jqMqjkOEGnA60RMSmiHgVWAz06BfJ2uZU1+2gR+acW5HzLv1RY0XO29G//KQ6xlEtxi69rdJD6NKkZesrPYRO3blkO3cuKf+3kzw5e+tB9X/uW88cVP+tM397cP1n/eKg+hdF30oPoEwGAM/m1luBM7raYVfbjgNqbTfPB3ZT/9l/oO3m76f259h28w3Abvp/9gq2zvn23v7PzZkBvMbbLv0KW2763wSv8vbPfZPNs/+R4BUGTL+J1hunEvEXBn3+VgA23TCed37+jv3O+/hN5zL0c6tKjnPd98/hQ5f8lAe+P5YzLrkTgP87dyxoX5/7fng2H/vMXQD8nx+O4eOfaeJn88awB2ic2gTAnfNHM/bv7+anuau2FfNHs0fBxIvvAWDJjxr5RGrfumAUn/z0agBuWTCKCz+9moULRjLl0z8DYN6ikQTiMxetZm7uqm3Ov41iDzD9U9m+37t1FJd/cvV+z+mbt43iyxdktRm3Z/3/5W9X85Ulo0D7ntiXlzbyzUn38IVljewCZk28h0uXNzJnQjbGT93RuN/rMHrlBO4et5zRK/8OOJq7x81n9MpLgKNKvrZj7vhnmsbPYMyKfwXqaDrvGsasuBboQ9N5/8yYFdel9pc5e8W3IcRdE74IwNnLv8ddEy7n7OWzgD7cNeEyzl4+m7smTM+2L7uZuyZ+NrV/QPtAxy6bD4g7J17M2GULyD+BsUtv4c5JFzJ26Y+zPpM+meqLuXPSZMYuvT3VP8HYn/wEqQ8/nTTxgOd17tJVrJp0bmrfxapJ+1/Rj1u6er/zjl+6ljsmnQXAect+zoqJH+G8Zb9gxcS/OeDYE5c9QKmfkc9f9gjQh59MPJVPLHuCJRPfA8DfLm9B1LF4whA+vfz3LJjwVwBcsaKVo9MY+qG9/0L/et7b+XaaSNIXmL0iC46+AXWp/2cm9OeW5W0AXDihniXLsgD7xMSTDhhXR2tua6NPZO0+wd52Xa7dZw/0iTigzwen9ufRudsA+Otp/XliTja2PsDGG7N23Z7Y++o8893nqNsde4+JdgPZf+LPfespAN72pSF7x/bcd54E7Ulre3jbF967d9vWmQ9nDe3h5CtOy2rfe4CTLz8jtX+V2xe2zrp/77nytt34s73Hzxbof9kYts3+6QH17Hj7jtk251aqmSL9oxWJpPOBURHxmbR+IXB6RHy+Q79pwLS0+t+B51N7O3CS22677bbb3baPjYh6qkxRb0u2AoNy6wOBzR07RcTciBieljeT/WNtj4jhbrvttttud9+uxmCD4obbOqBB0hBJ/YDJQOn7fGZmVjiF/MwtInZJugxYDdQB8yNiQ4WHZWZmR0ghww0gIpqApoPcba7bbrvtttuH1K4qhZxQYmZmta2on7mZmVkN6zW3JSUNAhaRzXwcTPZZGuz7BZ1gv99yMjOzXm4P8BpwNPAX4P8B/YEHI6LLL+ftTVduu4AvAn8DXAH8Cfhjqj8H7E7LK2RB9xrZixHs+03EPbnjReq/i32/3wbwu3I+CTOzAtmda+8he1+Ffe+77X2C7P26vb47134tPW4Gvgq8QPZev4fs/XkWcF9EvDEihgG/BpZ3N7BeE24RsSUi/iMitgC3kF25vQxsBd7CvhfqL2RXcEex7wUM4CX2f7FJ9Tr2f6G2dDWMw/JkzOz18v+L3TuU12hPh8fujvlah3b+7ll7vrTX3kT2ni3gVbLg2kP2Xv1Hsvfl9wHPAO8gC7tdwFnAbQCS3gycCez/tU4l9MoJJZLGACvIXsxjyV6oo8heqD+ShR2p3q8SYzQzsy69AByf2n8AjiMLz2VkX6HYkLYLeAy4iSwcz42ISd0dvNd85tZO0puA77Bv7NuBE8hegJfZ/yeL9qu5PmQ/AQT7vlhwd9qnT2q3f4bX3t/MzLp2sHMd2t9fX2bfRcgmsq/x+hPZ+/CJZN8F/FvgXuCNwFRgDdmduW/15ES96k1c0lFkqb6E7KrtD+z/wh7Lvp8EIAvAPrl2e7C1347sk9r516FXvSZmZhWU/8wtOqyX0v7++gb2vXe/k+y9+1iy9+X3kc2d+CXZnbfbImIbcA/w18BdPRlYr3kjlyRgHvAEMITsknYnMCq1Xyb7qaD9rwK+ShZ+r5C94M+kGuz7QHMP2QucD8jVHPgPVkpn96Q7c7D9e9/9Yisi/3dY27p738pvF/vugEF2t6xd+3vqHrL36vx77PfZd9dtF9kV3WbgOuAjwEpJxwKTgF9FxMs9GXiv+cxN0v8C/p1sNuO7KjwcMzM7fPIfDUF2UdIn1TaTXagcA3wuIu7pyQF7TbiZmZn1VK+5LWlmZtZTDjczMysch5uZmRWOw83MzArH4WZmZoXjcDOrIpLeJmmxpN9JelxSk6T/Jmm3pPVpWVXpcZpVu1739VtmRZW+qGAFsDAiJqfaMOBk4C/pG9HNrAccbmbV42PAaxFxc3shItYDZLlnZj3l25Jm1eNU4KFOtr1BUrOk30jq8o80mpmv3Mx6i3dExGZJ7wTulfRoRPgP65p1wlduZtVjA3BaqQ0RsTk9bgLuBz5w5IZl1vs43Myqx73A0ZL+ob0g6UOSPiLp6LR+EvBh4PEKjdGsV/AXJ5tVEUlvB64nu4J7GXga+CZwI/v+0OP1ETGvUmM06w0cbmZmVji+LWlmZoXjcDMzs8JxuJmZWeE43MzMrHAcbmZmVjgONzMzKxyHm5mZFY7DzczMCuf/A/5RnR7yx+vOAAAAAElFTkSuQmCC\n",
      "text/plain": [
       "<Figure size 432x288 with 1 Axes>"
      ]
     },
     "metadata": {
      "needs_background": "light"
     },
     "output_type": "display_data"
    }
   ],
   "source": [
    "sns.countplot(train['C5'])"
>>>>>>> 585a9db17e7f013ac7fcb1dd057307db05db32c7
   ]
  },
  {
   "cell_type": "code",
<<<<<<< HEAD
   "execution_count": 21,
   "metadata": {},
   "outputs": [],
   "source": [
    "#閾値を決めて頻度が少ない値をNaNに置き換える\n",
    "df_c2 = pd.DataFrame(train['C2'])\n",
    "threshold = 90000\n",
    "value_counts = df_c2.stack().value_counts()\n",
    "to_remove = value_counts[value_counts <=threshold].index\n",
    "df_c2.replace(to_remove,np.nan,inplace=True)\n",
    "\n",
    "df_c2['C2']=pd.get_dummies(df_c2['C2'])"
   ]
  },
  {
   "cell_type": "code",
   "execution_count": 22,
=======
   "execution_count": 39,
>>>>>>> 585a9db17e7f013ac7fcb1dd057307db05db32c7
   "metadata": {},
   "outputs": [
    {
     "data": {
      "text/plain": [
<<<<<<< HEAD
       "<matplotlib.axes._subplots.AxesSubplot at 0x253820a7550>"
      ]
     },
     "execution_count": 22,
=======
       "<matplotlib.axes._subplots.AxesSubplot at 0x2069a857da0>"
      ]
     },
     "execution_count": 39,
>>>>>>> 585a9db17e7f013ac7fcb1dd057307db05db32c7
     "metadata": {},
     "output_type": "execute_result"
    },
    {
     "data": {
<<<<<<< HEAD
      "image/png": "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\n",
=======
      "image/png": "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\n",
>>>>>>> 585a9db17e7f013ac7fcb1dd057307db05db32c7
      "text/plain": [
       "<Figure size 432x288 with 1 Axes>"
      ]
     },
     "metadata": {
      "needs_background": "light"
     },
     "output_type": "display_data"
    }
   ],
   "source": [
<<<<<<< HEAD
    "#C3についても同様に行う\n",
    "sns.countplot(train['C3'])"
=======
    "sns.countplot(train['C6'])"
>>>>>>> 585a9db17e7f013ac7fcb1dd057307db05db32c7
   ]
  },
  {
   "cell_type": "code",
<<<<<<< HEAD
   "execution_count": 23,
=======
   "execution_count": 40,
>>>>>>> 585a9db17e7f013ac7fcb1dd057307db05db32c7
   "metadata": {},
   "outputs": [
    {
     "data": {
      "text/plain": [
<<<<<<< HEAD
       "1892769125    159439\n",
       "2448089184    156193\n",
       "3260269773     75530\n",
       "1998340283     75144\n",
       "98956388       73953\n",
       "189706718      57000\n",
       "Name: C3, dtype: int64"
      ]
     },
     "execution_count": 23,
     "metadata": {},
     "output_type": "execute_result"
    }
   ],
   "source": [
    "train['C3'].value_counts(sort=True).head(6)"
=======
       "<matplotlib.axes._subplots.AxesSubplot at 0x2069aa50c88>"
      ]
     },
     "execution_count": 40,
     "metadata": {},
     "output_type": "execute_result"
    },
    {
     "data": {
      "image/png": "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\n",
      "text/plain": [
       "<Figure size 432x288 with 1 Axes>"
      ]
     },
     "metadata": {
      "needs_background": "light"
     },
     "output_type": "display_data"
    }
   ],
   "source": [
    "sns.countplot(train['I3'])"
>>>>>>> 585a9db17e7f013ac7fcb1dd057307db05db32c7
   ]
  },
  {
   "cell_type": "code",
<<<<<<< HEAD
   "execution_count": 24,
   "metadata": {},
   "outputs": [],
   "source": [
    "#閾値を決めて頻度が少ない値をNaNに置き換える\n",
    "df_c3 = pd.DataFrame(train['C3'])\n",
    "threshold = 70000\n",
    "value_counts = df_c3.stack().value_counts()\n",
    "to_remove = value_counts[value_counts <=threshold].index\n",
    "df_c3.replace(to_remove,np.nan,inplace=True)\n",
    "\n",
    "df_c3['C3']=pd.get_dummies(df_c3['C3'])"
=======
   "execution_count": 41,
   "metadata": {},
   "outputs": [
    {
     "data": {
      "text/plain": [
       "<matplotlib.axes._subplots.AxesSubplot at 0x2069aa96a90>"
      ]
     },
     "execution_count": 41,
     "metadata": {},
     "output_type": "execute_result"
    },
    {
     "data": {
      "image/png": "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\n",
      "text/plain": [
       "<Figure size 432x288 with 1 Axes>"
      ]
     },
     "metadata": {
      "needs_background": "light"
     },
     "output_type": "display_data"
    }
   ],
   "source": [
    "sns.countplot(train['I4'])"
>>>>>>> 585a9db17e7f013ac7fcb1dd057307db05db32c7
   ]
  },
  {
   "cell_type": "code",
<<<<<<< HEAD
   "execution_count": 25,
=======
   "execution_count": 42,
>>>>>>> 585a9db17e7f013ac7fcb1dd057307db05db32c7
   "metadata": {},
   "outputs": [
    {
     "data": {
      "text/plain": [
<<<<<<< HEAD
       "<matplotlib.axes._subplots.AxesSubplot at 0x253830b6b38>"
      ]
     },
     "execution_count": 25,
=======
       "<matplotlib.axes._subplots.AxesSubplot at 0x2069aad75f8>"
      ]
     },
     "execution_count": 42,
>>>>>>> 585a9db17e7f013ac7fcb1dd057307db05db32c7
     "metadata": {},
     "output_type": "execute_result"
    },
    {
     "data": {
<<<<<<< HEAD
      "image/png": "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\n",
=======
      "image/png": "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\n",
>>>>>>> 585a9db17e7f013ac7fcb1dd057307db05db32c7
      "text/plain": [
       "<Figure size 432x288 with 1 Axes>"
      ]
     },
     "metadata": {
      "needs_background": "light"
     },
     "output_type": "display_data"
    }
   ],
   "source": [
<<<<<<< HEAD
    "#C4についても同様に\n",
    "sns.countplot(train['C4'])\n"
=======
    "sns.countplot(train['I5'])"
>>>>>>> 585a9db17e7f013ac7fcb1dd057307db05db32c7
   ]
  },
  {
   "cell_type": "code",
<<<<<<< HEAD
   "execution_count": 26,
=======
   "execution_count": 43,
>>>>>>> 585a9db17e7f013ac7fcb1dd057307db05db32c7
   "metadata": {},
   "outputs": [
    {
     "data": {
      "text/plain": [
<<<<<<< HEAD
       "2411205997    598220\n",
       "2298910535    311713\n",
       "1332932160    162183\n",
       "1825710598     78003\n",
       "400122826      12993\n",
       "3954817824      5785\n",
       "Name: C4, dtype: int64"
      ]
     },
     "execution_count": 26,
     "metadata": {},
     "output_type": "execute_result"
    }
   ],
   "source": [
    "train['C4'].value_counts().head(6)"
   ]
  },
  {
   "cell_type": "markdown",
   "metadata": {},
   "source": [
    "4位以下はいらない感"
=======
       "<matplotlib.axes._subplots.AxesSubplot at 0x2069b0bdc50>"
      ]
     },
     "execution_count": 43,
     "metadata": {},
     "output_type": "execute_result"
    },
    {
     "data": {
      "image/png": "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\n",
      "text/plain": [
       "<Figure size 432x288 with 1 Axes>"
      ]
     },
     "metadata": {
      "needs_background": "light"
     },
     "output_type": "display_data"
    }
   ],
   "source": [
    "sns.countplot(train['I6'])"
>>>>>>> 585a9db17e7f013ac7fcb1dd057307db05db32c7
   ]
  },
  {
   "cell_type": "code",
<<<<<<< HEAD
   "execution_count": 27,
   "metadata": {},
   "outputs": [],
   "source": [
    "#閾値を決めて頻度が少ない値をNaNに置き換える\n",
    "df_c4 = pd.DataFrame(train['C4'])\n",
    "threshold = 160000\n",
    "value_counts = df_c4.stack().value_counts()\n",
    "to_remove = value_counts[value_counts <=threshold].index\n",
    "df_c4.replace(to_remove,np.nan,inplace=True)\n",
    "\n",
    "df_c4['C4']=pd.get_dummies(df_c4['C4'])"
=======
   "execution_count": 44,
   "metadata": {},
   "outputs": [
    {
     "data": {
      "text/plain": [
       "<matplotlib.axes._subplots.AxesSubplot at 0x2069b0e7b38>"
      ]
     },
     "execution_count": 44,
     "metadata": {},
     "output_type": "execute_result"
    },
    {
     "data": {
      "image/png": "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\n",
      "text/plain": [
       "<Figure size 432x288 with 1 Axes>"
      ]
     },
     "metadata": {
      "needs_background": "light"
     },
     "output_type": "display_data"
    }
   ],
   "source": [
    "sns.countplot(train['I7'])"
>>>>>>> 585a9db17e7f013ac7fcb1dd057307db05db32c7
   ]
  },
  {
   "cell_type": "code",
<<<<<<< HEAD
   "execution_count": 28,
=======
   "execution_count": 45,
>>>>>>> 585a9db17e7f013ac7fcb1dd057307db05db32c7
   "metadata": {},
   "outputs": [
    {
     "data": {
      "text/plain": [
<<<<<<< HEAD
       "2321672976    401591\n",
       "1410458339    140362\n",
       "476085660     110843\n",
       "2456844420     44425\n",
       "3202148071     23032\n",
       "2078330963     20930\n",
       "Name: C5, dtype: int64"
      ]
     },
     "execution_count": 28,
     "metadata": {},
     "output_type": "execute_result"
    }
   ],
   "source": [
    "#C5についても同様に\n",
    "train['C5'].value_counts().head(6)"
   ]
  },
  {
   "cell_type": "markdown",
   "metadata": {},
   "source": [
    "4位以下はいらない"
   ]
  },
  {
   "cell_type": "code",
   "execution_count": 29,
   "metadata": {
    "scrolled": true
   },
   "outputs": [],
   "source": [
    "#閾値を決めて頻度が少ない値をNaNに置き換える\n",
    "df_c5 = pd.DataFrame(train['C5'])\n",
    "threshold = 110000\n",
    "value_counts = df_c5.stack().value_counts()\n",
    "to_remove = value_counts[value_counts <=threshold].index\n",
    "df_c5.replace(to_remove,np.nan,inplace=True)\n",
    "\n",
    "df_c5['C5']=pd.get_dummies(df_c5['C5'])"
=======
       "<matplotlib.axes._subplots.AxesSubplot at 0x2069b148c18>"
      ]
     },
     "execution_count": 45,
     "metadata": {},
     "output_type": "execute_result"
    },
    {
     "data": {
      "image/png": "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\n",
      "text/plain": [
       "<Figure size 432x288 with 1 Axes>"
      ]
     },
     "metadata": {
      "needs_background": "light"
     },
     "output_type": "display_data"
    }
   ],
   "source": [
    "sns.countplot(train['I8'])"
>>>>>>> 585a9db17e7f013ac7fcb1dd057307db05db32c7
   ]
  },
  {
   "cell_type": "code",
<<<<<<< HEAD
   "execution_count": 30,
=======
   "execution_count": 46,
>>>>>>> 585a9db17e7f013ac7fcb1dd057307db05db32c7
   "metadata": {},
   "outputs": [
    {
     "data": {
      "text/plain": [
<<<<<<< HEAD
       "<matplotlib.axes._subplots.AxesSubplot at 0x25382f11ac8>"
      ]
     },
     "execution_count": 30,
=======
       "<matplotlib.axes._subplots.AxesSubplot at 0x2069b18ee80>"
      ]
     },
     "execution_count": 46,
>>>>>>> 585a9db17e7f013ac7fcb1dd057307db05db32c7
     "metadata": {},
     "output_type": "execute_result"
    },
    {
     "data": {
<<<<<<< HEAD
      "image/png": "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\n",
=======
      "image/png": "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\n",
>>>>>>> 585a9db17e7f013ac7fcb1dd057307db05db32c7
      "text/plain": [
       "<Figure size 432x288 with 1 Axes>"
      ]
     },
     "metadata": {
      "needs_background": "light"
     },
     "output_type": "display_data"
    }
   ],
   "source": [
<<<<<<< HEAD
    "sns.countplot(df_c5['C5'])\n",
    "\n"
=======
    "sns.countplot(train['I9'])"
>>>>>>> 585a9db17e7f013ac7fcb1dd057307db05db32c7
   ]
  },
  {
   "cell_type": "code",
<<<<<<< HEAD
   "execution_count": 31,
=======
   "execution_count": 47,
>>>>>>> 585a9db17e7f013ac7fcb1dd057307db05db32c7
   "metadata": {},
   "outputs": [
    {
     "data": {
      "text/plain": [
<<<<<<< HEAD
       "1509930964    422105\n",
       "3668889797    199356\n",
       "2068230268    184139\n",
       "3111151614    123799\n",
       "1479325723     79423\n",
       "147733495      39550\n",
       "Name: C6, dtype: int64"
      ]
     },
     "execution_count": 31,
     "metadata": {},
     "output_type": "execute_result"
    }
   ],
   "source": [
    "#C6についても同様に\n",
    "train['C6'].value_counts().head(6)"
   ]
  },
  {
   "cell_type": "markdown",
   "metadata": {},
   "source": [
    "5位以下を捨てる"
=======
       "<matplotlib.axes._subplots.AxesSubplot at 0x2069b1e0d30>"
      ]
     },
     "execution_count": 47,
     "metadata": {},
     "output_type": "execute_result"
    },
    {
     "data": {
      "image/png": "iVBORw0KGgoAAAANSUhEUgAAAZsAAAEKCAYAAADEovgeAAAABHNCSVQICAgIfAhkiAAAAAlwSFlzAAALEgAACxIB0t1+/AAAADl0RVh0U29mdHdhcmUAbWF0cGxvdGxpYiB2ZXJzaW9uIDMuMC4zLCBodHRwOi8vbWF0cGxvdGxpYi5vcmcvnQurowAAFQhJREFUeJzt3X+s3fV93/HnKzg0tAm1CRdGMQyiWmlptiTggbdMUxc2Y9gWo6pUpEttUUuuEJkaaT9K9se8QSMRtWta1tQSKg521IZQugwvMvEsN1k3DRIuhUEIRb6lLdyZYoMNIUUlInrvj/O5ysnl+N5zLX98/OP5kI7O9/v+fr7fz+dKll/6fs/nfE6qCkmSenrbpAcgSTr1GTaSpO4MG0lSd4aNJKk7w0aS1J1hI0nqzrCRJHVn2EiSujNsJEndLZv0AE4U5557bl1yySWTHoYknVQeffTRl6pqarF2hk1zySWXMD09PelhSNJJJclfjtPOx2iSpO4MG0lSd4aNJKk7w0aS1J1hI0nqzrCRJHVn2EiSujNsJEndGTaSpO5cQeAYuuLf7pj0EHSCefTXNkx6CNIJwTsbSVJ3ho0kqbtuYZPkvUkeH3p9O8knkpyTZE+Sfe19RWufJHcmmUnyRJLLh661sbXfl2TjUP2KJE+2c+5MklYf2YckaTK6hU1VPVNVH6iqDwBXAK8DXwJuBfZW1Spgb9sHuBZY1V6bga0wCA5gC3AVcCWwZSg8tra2c+eta/Uj9SFJmoDj9RjtauDPquovgfXA9lbfDlzfttcDO2rgYWB5kguAa4A9VXWoqg4De4B17djZVfVQVRWwY961RvUhSZqA4xU2NwJfaNvnV9ULAO39vFa/EHh+6JzZVluoPjuivlAfkqQJ6B42Sc4EPgL8wWJNR9TqKOpLGdvmJNNJpg8ePLiUUyVJS3A87myuBf6kql5s+y+2R2C09wOtPgtcNHTeSmD/IvWVI+oL9fEDququqlpdVaunphb9VVNJ0lE6HmHzUb7/CA1gJzA3o2wj8MBQfUOblbYGeLU9AtsNrE2yok0MWAvsbsdeS7KmzULbMO9ao/qQJE1A1xUEkvww8E+BXxoq3wHcl2QT8BxwQ6vvAq4DZhjMXLsJoKoOJbkdeKS1u62qDrXtm4F7gLOAB9troT4kSRPQNWyq6nXg3fNqLzOYnTa/bQG3HOE624BtI+rTwPtG1Ef2IUmaDFcQkCR1Z9hIkrozbCRJ3Rk2kqTuDBtJUneGjSSpO8NGktSdYSNJ6s6wkSR1Z9hIkrozbCRJ3Rk2kqTuDBtJUneGjSSpO8NGktSdYSNJ6s6wkSR1Z9hIkrozbCRJ3Rk2kqTuuoZNkuVJ7k/yp0meTvL3k5yTZE+Sfe19RWubJHcmmUnyRJLLh66zsbXfl2TjUP2KJE+2c+5MklYf2YckaTJ639n8FvCVqvoJ4P3A08CtwN6qWgXsbfsA1wKr2mszsBUGwQFsAa4CrgS2DIXH1tZ27rx1rX6kPiRJE9AtbJKcDfwj4G6AqvpuVb0CrAe2t2bbgevb9npgRw08DCxPcgFwDbCnqg5V1WFgD7CuHTu7qh6qqgJ2zLvWqD4kSRPQ887mPcBB4HNJHkvyu0l+BDi/ql4AaO/ntfYXAs8PnT/bagvVZ0fUWaCPH5Bkc5LpJNMHDx48+r9UkrSgnmGzDLgc2FpVHwT+moUfZ2VErY6iPraququqVlfV6qmpqaWcKklagp5hMwvMVtXX2/79DMLnxfYIjPZ+YKj9RUPnrwT2L1JfOaLOAn1IkiagW9hU1V8Bzyd5bytdDXwL2AnMzSjbCDzQtncCG9qstDXAq+0R2G5gbZIVbWLAWmB3O/ZakjVtFtqGedca1YckaQKWdb7+vwJ+L8mZwLPATQwC7r4km4DngBta213AdcAM8HprS1UdSnI78Ehrd1tVHWrbNwP3AGcBD7YXwB1H6EOSNAFdw6aqHgdWjzh09Yi2BdxyhOtsA7aNqE8D7xtRf3lUH5KkyXAFAUlSd4aNJKk7w0aS1J1hI0nqzrCRJHVn2EiSujNsJEndGTaSpO4MG0lSd4aNJKk7w0aS1J1hI0nqzrCRJHVn2EiSujNsJEndGTaSpO4MG0lSd4aNJKk7w0aS1F3XsEnyF0meTPJ4kulWOyfJniT72vuKVk+SO5PMJHkiyeVD19nY2u9LsnGofkW7/kw7Nwv1IUmajONxZ/OPq+oDVbW67d8K7K2qVcDetg9wLbCqvTYDW2EQHMAW4CrgSmDLUHhsbW3nzlu3SB+SpAmYxGO09cD2tr0duH6ovqMGHgaWJ7kAuAbYU1WHquowsAdY146dXVUPVVUBO+Zda1QfkqQJ6B02BfyPJI8m2dxq51fVCwDt/bxWvxB4fujc2VZbqD47or5QH5KkCVjW+fofqqr9Sc4D9iT50wXaZkStjqI+thaAmwEuvvjipZwqSVqCrnc2VbW/vR8AvsTgM5cX2yMw2vuB1nwWuGjo9JXA/kXqK0fUWaCP+eO7q6pWV9Xqqampo/0zJUmL6BY2SX4kybvmtoG1wDeBncDcjLKNwANteyewoc1KWwO82h6B7QbWJlnRJgasBXa3Y68lWdNmoW2Yd61RfUiSJqDnY7TzgS+12cjLgN+vqq8keQS4L8km4DnghtZ+F3AdMAO8DtwEUFWHktwOPNLa3VZVh9r2zcA9wFnAg+0FcMcR+pAkTUC3sKmqZ4H3j6i/DFw9ol7ALUe41jZg24j6NPC+cfuQJE2GKwhIkrozbCRJ3Rk2kqTuDBtJUneGjSSpO8NGktSdYSNJ6s6wkSR1Z9hIkrozbCRJ3Rk2kqTuev+ejaQTwHO3/Z1JD0EnoIv/w5PHrS/vbCRJ3Rk2kqTuDBtJUneGjSSpO8NGktTdWGGTZO84NUmSRllw6nOSdwA/DJybZAWQduhs4Mc6j02SdIpY7Hs2vwR8gkGwPMr3w+bbwGc7jkuSdApZ8DFaVf1WVV0K/Juqek9VXdpe76+q3x6ngyRnJHksyZfb/qVJvp5kX5IvJjmz1X+o7c+045cMXeOTrf5MkmuG6utabSbJrUP1kX1IkiZjrM9squq/JPkHSX4+yYa515h9/DLw9ND+p4HPVNUq4DCwqdU3AYer6seBz7R2JLkMuBH4KWAd8DstwM5gcHd1LXAZ8NHWdqE+JEkTMO4Egc8Dvw78Q+DvtdfqMc5bCfwz4HfbfoAPA/e3JtuB69v2+rZPO351a78euLeq3qiqPwdmgCvba6aqnq2q7wL3AusX6UOSNAHjro22GrisqmqJ1/9N4N8B72r77wZeqao32/4scGHbvhB4HqCq3kzyamt/IfDw0DWHz3l+Xv2qRfr4AUk2A5sBLr744iX+aZKkcY37PZtvAn9rKRdO8s+BA1X16HB5RNNa5Nixqr+1WHVXVa2uqtVTU1OjmkiSjoFx72zOBb6V5BvAG3PFqvrIAud8CPhIkuuAdzCYLv2bwPIky9qdx0pgf2s/C1wEzCZZBvwocGioPmf4nFH1lxboQ5I0AeOGzX9c6oWr6pPAJwGS/DSDGW3/MskfAD/L4DOWjcAD7ZSdbf+hdvyPqqqS7AR+P8lvMJiCvQr4BoM7mFVJLgX+H4NJBD/fzvnqEfqQJE3AWGFTVf/zGPb5K8C9SX4VeAy4u9XvBj6fZIbBHc2Nre+nktwHfAt4E7ilqr4HkOTjwG7gDGBbVT21SB+SpAkYK2ySvMb3P/c4E3g78NdVdfY451fV14Cvte1nGcwkm9/mb4AbjnD+p4BPjajvAnaNqI/sQ5I0GePe2bxreD/J9fifuSRpTEe16nNV/TcG32WRJGlR4z5G+5mh3bcx+N7NUr9zI0k6TY07G+1fDG2/CfwFg2/2S5K0qHE/s7mp90AkSaeucddGW5nkS0kOJHkxyR+2dc8kSVrUuBMEPsfgS5c/xmCdsf/eapIkLWrcsJmqqs9V1ZvtdQ/gYmKSpLGMGzYvJfnY3O/IJPkY8HLPgUmSTh3jhs0vAj8H/BXwAoN1x5w0IEkay7hTn28HNlbVYYAk5zD4MbVf7DUwSdKpY9w7m787FzQAVXUI+GCfIUmSTjXjhs3bkqyY22l3NuPeFUmSTnPjBsZ/Bv5PkvsZLFPzc4xYhVmSpFHGXUFgR5JpBotvBviZqvpW15FJkk4ZYz8Ka+FiwEiSluyofmJAkqSlMGwkSd0ZNpKk7rqFTZJ3JPlGkv+b5Kkk/6nVL03y9ST7knwxyZmt/kNtf6Ydv2ToWp9s9WeSXDNUX9dqM0luHaqP7EOSNBk972zeAD5cVe8HPgCsS7IG+DTwmapaBRwGNrX2m4DDVfXjwGdaO5JcBtwI/BSwDviduTXagM8C1wKXAR9tbVmgD0nSBHQLmxr4Ttt9e3sVg+nT97f6duD6tr2+7dOOX50krX5vVb1RVX8OzABXttdMVT1bVd8F7gXWt3OO1IckaQK6fmbT7kAeBw4Ae4A/A16pqjdbk1kGv49De38eoB1/FXj3cH3eOUeqv3uBPiRJE9A1bKrqe1X1AWAlgzuRnxzVrL3nCMeOVf0tkmxOMp1k+uDBg6OaSJKOgeMyG62qXgG+BqwBlieZ+zLpSmB/254FLgJox38UODRcn3fOkeovLdDH/HHdVVWrq2r11JS/BSdJvfScjTaVZHnbPgv4J8DTwFcZ/B4OwEbggba9s+3Tjv9RVVWr39hmq10KrAK+ATwCrGozz85kMIlgZzvnSH1Ikiag58rNFwDb26yxtwH3VdWXk3wLuDfJrwKPAXe39ncDn08yw+CO5kaAqnoqyX0Mlsp5E7ilqr4HkOTjwG7gDGBbVT3VrvUrR+hDkjQB3cKmqp5gxG/eVNWzDD6/mV//G+CGI1zrU4xYZbqqdgG7xu1DkjQZriAgSerOsJEkdWfYSJK6M2wkSd0ZNpKk7gwbSVJ3ho0kqTvDRpLUnWEjSerOsJEkdWfYSJK6M2wkSd0ZNpKk7gwbSVJ3ho0kqTvDRpLUnWEjSerOsJEkdWfYSJK6M2wkSd11C5skFyX5apKnkzyV5Jdb/Zwke5Lsa+8rWj1J7kwyk+SJJJcPXWtja78vycah+hVJnmzn3JkkC/UhSZqMnnc2bwL/uqp+ElgD3JLkMuBWYG9VrQL2tn2Aa4FV7bUZ2AqD4AC2AFcBVwJbhsJja2s7d966Vj9SH5KkCegWNlX1QlX9Sdt+DXgauBBYD2xvzbYD17ft9cCOGngYWJ7kAuAaYE9VHaqqw8AeYF07dnZVPVRVBeyYd61RfUiSJuC4fGaT5BLgg8DXgfOr6gUYBBJwXmt2IfD80GmzrbZQfXZEnQX6kCRNQPewSfJO4A+BT1TVtxdqOqJWR1Ffytg2J5lOMn3w4MGlnCpJWoKuYZPk7QyC5veq6r+28ovtERjt/UCrzwIXDZ2+Eti/SH3liPpCffyAqrqrqlZX1eqpqamj+yMlSYvqORstwN3A01X1G0OHdgJzM8o2Ag8M1Te0WWlrgFfbI7DdwNokK9rEgLXA7nbstSRrWl8b5l1rVB+SpAlY1vHaHwJ+AXgyyeOt9u+BO4D7kmwCngNuaMd2AdcBM8DrwE0AVXUoye3AI63dbVV1qG3fDNwDnAU82F4s0IckaQK6hU1V/W9Gf64CcPWI9gXccoRrbQO2jahPA+8bUX95VB+SpMlwBQFJUneGjSSpO8NGktSdYSNJ6s6wkSR1Z9hIkrozbCRJ3Rk2kqTuDBtJUneGjSSpO8NGktSdYSNJ6s6wkSR1Z9hIkrozbCRJ3Rk2kqTuDBtJUneGjSSpO8NGktSdYSNJ6q5b2CTZluRAkm8O1c5JsifJvva+otWT5M4kM0meSHL50DkbW/t9STYO1a9I8mQ7584kWagPSdLk9LyzuQdYN692K7C3qlYBe9s+wLXAqvbaDGyFQXAAW4CrgCuBLUPhsbW1nTtv3SJ9SJImpFvYVNUfA4fmldcD29v2duD6ofqOGngYWJ7kAuAaYE9VHaqqw8AeYF07dnZVPVRVBeyYd61RfUiSJuR4f2ZzflW9ANDez2v1C4Hnh9rNttpC9dkR9YX6eIskm5NMJ5k+ePDgUf9RkqSFnSgTBDKiVkdRX5KququqVlfV6qmpqaWeLkka0/EOmxfbIzDa+4FWnwUuGmq3Eti/SH3liPpCfUiSJuR4h81OYG5G2UbggaH6hjYrbQ3wansEthtYm2RFmxiwFtjdjr2WZE2bhbZh3rVG9SFJmpBlvS6c5AvATwPnJpllMKvsDuC+JJuA54AbWvNdwHXADPA6cBNAVR1KcjvwSGt3W1XNTTq4mcGMt7OAB9uLBfqQJE1It7Cpqo8e4dDVI9oWcMsRrrMN2DaiPg28b0T95VF9SJIm50SZICBJOoUZNpKk7gwbSVJ3ho0kqTvDRpLUnWEjSerOsJEkdWfYSJK6M2wkSd0ZNpKk7gwbSVJ3ho0kqTvDRpLUnWEjSerOsJEkdWfYSJK6M2wkSd0ZNpKk7gwbSVJ3p2zYJFmX5JkkM0lunfR4JOl0dkqGTZIzgM8C1wKXAR9NctlkRyVJp69TMmyAK4GZqnq2qr4L3Ausn/CYJOm0daqGzYXA80P7s60mSZqAZZMeQCcZUau3NEo2A5vb7neSPNN1VKeXc4GXJj2IScuvb5z0EPRW/tucs2XUf5VL9rfHaXSqhs0scNHQ/kpg//xGVXUXcNfxGtTpJMl0Va2e9Dik+fy3ORmn6mO0R4BVSS5NciZwI7BzwmOSpNPWKXlnU1VvJvk4sBs4A9hWVU9NeFiSdNo6JcMGoKp2AbsmPY7TmI8ndaLy3+YEpOotn5tLknRMnaqf2UiSTiCGjY4plwnSiSrJtiQHknxz0mM5HRk2OmZcJkgnuHuAdZMexOnKsNGx5DJBOmFV1R8DhyY9jtOVYaNjyWWCJI1k2OhYGmuZIEmnH8NGx9JYywRJOv0YNjqWXCZI0kiGjY6ZqnoTmFsm6GngPpcJ0okiyReAh4D3JplNsmnSYzqduIKAJKk772wkSd0ZNpKk7gwbSVJ3ho0kqTvDRpLUnWEjnQCSfGdo+ytJXkny5XltLk3y9ST7knyxfZdJOikYNtKJ59eAXxhR/zTwmapaBRwG/J6IThqGjXSCqaq9wGvDtSQBPgzc30rbgeuP89Cko2bYSCeHdwOvtFUawBW1dZIxbKSTgytq66Rm2Egnh5eA5UmWtX1X1NZJxbCRTgI1WMTwq8DPttJG4IHJjUhaGhfilE4ASb5TVe9s2/8L+AngncDLwKaq2p3kPQx+avsc4DHgY1X1xqTGLC2FYSNJ6s7HaJKk7gwbSVJ3ho0kqTvDRpLUnWEjSerOsJEkdWfYSJK6M2wkSd39f5QY0ZVtl0MKAAAAAElFTkSuQmCC\n",
      "text/plain": [
       "<Figure size 432x288 with 1 Axes>"
      ]
     },
     "metadata": {
      "needs_background": "light"
     },
     "output_type": "display_data"
    }
   ],
   "source": [
    "sns.countplot(train['I10'])"
>>>>>>> 585a9db17e7f013ac7fcb1dd057307db05db32c7
   ]
  },
  {
   "cell_type": "code",
<<<<<<< HEAD
   "execution_count": 32,
   "metadata": {},
   "outputs": [
    {
     "data": {
      "text/html": [
       "<div>\n",
       "<style scoped>\n",
       "    .dataframe tbody tr th:only-of-type {\n",
       "        vertical-align: middle;\n",
       "    }\n",
       "\n",
       "    .dataframe tbody tr th {\n",
       "        vertical-align: top;\n",
       "    }\n",
       "\n",
       "    .dataframe thead th {\n",
       "        text-align: right;\n",
       "    }\n",
       "</style>\n",
       "<table border=\"1\" class=\"dataframe\">\n",
       "  <thead>\n",
       "    <tr style=\"text-align: right;\">\n",
       "      <th></th>\n",
       "      <th>1509930964.0</th>\n",
       "      <th>2068230268.0</th>\n",
       "      <th>3111151614.0</th>\n",
       "      <th>3668889797.0</th>\n",
       "    </tr>\n",
       "  </thead>\n",
       "  <tbody>\n",
       "    <tr>\n",
       "      <th>0</th>\n",
       "      <td>1</td>\n",
       "      <td>0</td>\n",
       "      <td>0</td>\n",
       "      <td>0</td>\n",
       "    </tr>\n",
       "    <tr>\n",
       "      <th>1</th>\n",
       "      <td>0</td>\n",
       "      <td>0</td>\n",
       "      <td>0</td>\n",
       "      <td>0</td>\n",
       "    </tr>\n",
       "    <tr>\n",
       "      <th>2</th>\n",
       "      <td>0</td>\n",
       "      <td>0</td>\n",
       "      <td>0</td>\n",
       "      <td>1</td>\n",
       "    </tr>\n",
       "    <tr>\n",
       "      <th>3</th>\n",
       "      <td>1</td>\n",
       "      <td>0</td>\n",
       "      <td>0</td>\n",
       "      <td>0</td>\n",
       "    </tr>\n",
       "    <tr>\n",
       "      <th>4</th>\n",
       "      <td>1</td>\n",
       "      <td>0</td>\n",
       "      <td>0</td>\n",
       "      <td>0</td>\n",
       "    </tr>\n",
       "    <tr>\n",
       "      <th>5</th>\n",
       "      <td>0</td>\n",
       "      <td>0</td>\n",
       "      <td>0</td>\n",
       "      <td>1</td>\n",
       "    </tr>\n",
       "    <tr>\n",
       "      <th>6</th>\n",
       "      <td>0</td>\n",
       "      <td>0</td>\n",
       "      <td>1</td>\n",
       "      <td>0</td>\n",
       "    </tr>\n",
       "    <tr>\n",
       "      <th>7</th>\n",
       "      <td>0</td>\n",
       "      <td>0</td>\n",
       "      <td>0</td>\n",
       "      <td>1</td>\n",
       "    </tr>\n",
       "    <tr>\n",
       "      <th>8</th>\n",
       "      <td>1</td>\n",
       "      <td>0</td>\n",
       "      <td>0</td>\n",
       "      <td>0</td>\n",
       "    </tr>\n",
       "    <tr>\n",
       "      <th>9</th>\n",
       "      <td>1</td>\n",
       "      <td>0</td>\n",
       "      <td>0</td>\n",
       "      <td>0</td>\n",
       "    </tr>\n",
       "    <tr>\n",
       "      <th>10</th>\n",
       "      <td>0</td>\n",
       "      <td>0</td>\n",
       "      <td>0</td>\n",
       "      <td>1</td>\n",
       "    </tr>\n",
       "    <tr>\n",
       "      <th>11</th>\n",
       "      <td>1</td>\n",
       "      <td>0</td>\n",
       "      <td>0</td>\n",
       "      <td>0</td>\n",
       "    </tr>\n",
       "    <tr>\n",
       "      <th>12</th>\n",
       "      <td>0</td>\n",
       "      <td>0</td>\n",
       "      <td>0</td>\n",
       "      <td>0</td>\n",
       "    </tr>\n",
       "    <tr>\n",
       "      <th>13</th>\n",
       "      <td>1</td>\n",
       "      <td>0</td>\n",
       "      <td>0</td>\n",
       "      <td>0</td>\n",
       "    </tr>\n",
       "    <tr>\n",
       "      <th>14</th>\n",
       "      <td>1</td>\n",
       "      <td>0</td>\n",
       "      <td>0</td>\n",
       "      <td>0</td>\n",
       "    </tr>\n",
       "    <tr>\n",
       "      <th>15</th>\n",
       "      <td>0</td>\n",
       "      <td>0</td>\n",
       "      <td>0</td>\n",
       "      <td>1</td>\n",
       "    </tr>\n",
       "    <tr>\n",
       "      <th>16</th>\n",
       "      <td>1</td>\n",
       "      <td>0</td>\n",
       "      <td>0</td>\n",
       "      <td>0</td>\n",
       "    </tr>\n",
       "    <tr>\n",
       "      <th>17</th>\n",
       "      <td>0</td>\n",
       "      <td>0</td>\n",
       "      <td>0</td>\n",
       "      <td>0</td>\n",
       "    </tr>\n",
       "    <tr>\n",
       "      <th>18</th>\n",
       "      <td>0</td>\n",
       "      <td>0</td>\n",
       "      <td>0</td>\n",
       "      <td>0</td>\n",
       "    </tr>\n",
       "    <tr>\n",
       "      <th>19</th>\n",
       "      <td>0</td>\n",
       "      <td>0</td>\n",
       "      <td>0</td>\n",
       "      <td>0</td>\n",
       "    </tr>\n",
       "    <tr>\n",
       "      <th>20</th>\n",
       "      <td>1</td>\n",
       "      <td>0</td>\n",
       "      <td>0</td>\n",
       "      <td>0</td>\n",
       "    </tr>\n",
       "    <tr>\n",
       "      <th>21</th>\n",
       "      <td>0</td>\n",
       "      <td>1</td>\n",
       "      <td>0</td>\n",
       "      <td>0</td>\n",
       "    </tr>\n",
       "    <tr>\n",
       "      <th>22</th>\n",
       "      <td>1</td>\n",
       "      <td>0</td>\n",
       "      <td>0</td>\n",
       "      <td>0</td>\n",
       "    </tr>\n",
       "    <tr>\n",
       "      <th>23</th>\n",
       "      <td>1</td>\n",
       "      <td>0</td>\n",
       "      <td>0</td>\n",
       "      <td>0</td>\n",
       "    </tr>\n",
       "    <tr>\n",
       "      <th>24</th>\n",
       "      <td>0</td>\n",
       "      <td>0</td>\n",
       "      <td>0</td>\n",
       "      <td>1</td>\n",
       "    </tr>\n",
       "    <tr>\n",
       "      <th>25</th>\n",
       "      <td>0</td>\n",
       "      <td>0</td>\n",
       "      <td>0</td>\n",
       "      <td>1</td>\n",
       "    </tr>\n",
       "    <tr>\n",
       "      <th>26</th>\n",
       "      <td>0</td>\n",
       "      <td>0</td>\n",
       "      <td>1</td>\n",
       "      <td>0</td>\n",
       "    </tr>\n",
       "    <tr>\n",
       "      <th>27</th>\n",
       "      <td>1</td>\n",
       "      <td>0</td>\n",
       "      <td>0</td>\n",
       "      <td>0</td>\n",
       "    </tr>\n",
       "    <tr>\n",
       "      <th>28</th>\n",
       "      <td>0</td>\n",
       "      <td>1</td>\n",
       "      <td>0</td>\n",
       "      <td>0</td>\n",
       "    </tr>\n",
       "    <tr>\n",
       "      <th>29</th>\n",
       "      <td>0</td>\n",
       "      <td>0</td>\n",
       "      <td>0</td>\n",
       "      <td>1</td>\n",
       "    </tr>\n",
       "    <tr>\n",
       "      <th>...</th>\n",
       "      <td>...</td>\n",
       "      <td>...</td>\n",
       "      <td>...</td>\n",
       "      <td>...</td>\n",
       "    </tr>\n",
       "    <tr>\n",
       "      <th>1169012</th>\n",
       "      <td>1</td>\n",
       "      <td>0</td>\n",
       "      <td>0</td>\n",
       "      <td>0</td>\n",
       "    </tr>\n",
       "    <tr>\n",
       "      <th>1169013</th>\n",
       "      <td>0</td>\n",
       "      <td>0</td>\n",
       "      <td>0</td>\n",
       "      <td>1</td>\n",
       "    </tr>\n",
       "    <tr>\n",
       "      <th>1169014</th>\n",
       "      <td>1</td>\n",
       "      <td>0</td>\n",
       "      <td>0</td>\n",
       "      <td>0</td>\n",
       "    </tr>\n",
       "    <tr>\n",
       "      <th>1169015</th>\n",
       "      <td>0</td>\n",
       "      <td>0</td>\n",
       "      <td>0</td>\n",
       "      <td>1</td>\n",
       "    </tr>\n",
       "    <tr>\n",
       "      <th>1169016</th>\n",
       "      <td>1</td>\n",
       "      <td>0</td>\n",
       "      <td>0</td>\n",
       "      <td>0</td>\n",
       "    </tr>\n",
       "    <tr>\n",
       "      <th>1169017</th>\n",
       "      <td>1</td>\n",
       "      <td>0</td>\n",
       "      <td>0</td>\n",
       "      <td>0</td>\n",
       "    </tr>\n",
       "    <tr>\n",
       "      <th>1169018</th>\n",
       "      <td>0</td>\n",
       "      <td>0</td>\n",
       "      <td>0</td>\n",
       "      <td>1</td>\n",
       "    </tr>\n",
       "    <tr>\n",
       "      <th>1169019</th>\n",
       "      <td>1</td>\n",
       "      <td>0</td>\n",
       "      <td>0</td>\n",
       "      <td>0</td>\n",
       "    </tr>\n",
       "    <tr>\n",
       "      <th>1169020</th>\n",
       "      <td>0</td>\n",
       "      <td>0</td>\n",
       "      <td>0</td>\n",
       "      <td>1</td>\n",
       "    </tr>\n",
       "    <tr>\n",
       "      <th>1169021</th>\n",
       "      <td>1</td>\n",
       "      <td>0</td>\n",
       "      <td>0</td>\n",
       "      <td>0</td>\n",
       "    </tr>\n",
       "    <tr>\n",
       "      <th>1169022</th>\n",
       "      <td>0</td>\n",
       "      <td>0</td>\n",
       "      <td>0</td>\n",
       "      <td>1</td>\n",
       "    </tr>\n",
       "    <tr>\n",
       "      <th>1169023</th>\n",
       "      <td>0</td>\n",
       "      <td>0</td>\n",
       "      <td>0</td>\n",
       "      <td>0</td>\n",
       "    </tr>\n",
       "    <tr>\n",
       "      <th>1169024</th>\n",
       "      <td>0</td>\n",
       "      <td>0</td>\n",
       "      <td>0</td>\n",
       "      <td>0</td>\n",
       "    </tr>\n",
       "    <tr>\n",
       "      <th>1169025</th>\n",
       "      <td>1</td>\n",
       "      <td>0</td>\n",
       "      <td>0</td>\n",
       "      <td>0</td>\n",
       "    </tr>\n",
       "    <tr>\n",
       "      <th>1169026</th>\n",
       "      <td>1</td>\n",
       "      <td>0</td>\n",
       "      <td>0</td>\n",
       "      <td>0</td>\n",
       "    </tr>\n",
       "    <tr>\n",
       "      <th>1169027</th>\n",
       "      <td>1</td>\n",
       "      <td>0</td>\n",
       "      <td>0</td>\n",
       "      <td>0</td>\n",
       "    </tr>\n",
       "    <tr>\n",
       "      <th>1169028</th>\n",
       "      <td>1</td>\n",
       "      <td>0</td>\n",
       "      <td>0</td>\n",
       "      <td>0</td>\n",
       "    </tr>\n",
       "    <tr>\n",
       "      <th>1169029</th>\n",
       "      <td>0</td>\n",
       "      <td>0</td>\n",
       "      <td>0</td>\n",
       "      <td>1</td>\n",
       "    </tr>\n",
       "    <tr>\n",
       "      <th>1169030</th>\n",
       "      <td>1</td>\n",
       "      <td>0</td>\n",
       "      <td>0</td>\n",
       "      <td>0</td>\n",
       "    </tr>\n",
       "    <tr>\n",
       "      <th>1169031</th>\n",
       "      <td>1</td>\n",
       "      <td>0</td>\n",
       "      <td>0</td>\n",
       "      <td>0</td>\n",
       "    </tr>\n",
       "    <tr>\n",
       "      <th>1169032</th>\n",
       "      <td>0</td>\n",
       "      <td>1</td>\n",
       "      <td>0</td>\n",
       "      <td>0</td>\n",
       "    </tr>\n",
       "    <tr>\n",
       "      <th>1169033</th>\n",
       "      <td>0</td>\n",
       "      <td>0</td>\n",
       "      <td>0</td>\n",
       "      <td>0</td>\n",
       "    </tr>\n",
       "    <tr>\n",
       "      <th>1169034</th>\n",
       "      <td>0</td>\n",
       "      <td>1</td>\n",
       "      <td>0</td>\n",
       "      <td>0</td>\n",
       "    </tr>\n",
       "    <tr>\n",
       "      <th>1169035</th>\n",
       "      <td>1</td>\n",
       "      <td>0</td>\n",
       "      <td>0</td>\n",
       "      <td>0</td>\n",
       "    </tr>\n",
       "    <tr>\n",
       "      <th>1169036</th>\n",
       "      <td>1</td>\n",
       "      <td>0</td>\n",
       "      <td>0</td>\n",
       "      <td>0</td>\n",
       "    </tr>\n",
       "    <tr>\n",
       "      <th>1169037</th>\n",
       "      <td>1</td>\n",
       "      <td>0</td>\n",
       "      <td>0</td>\n",
       "      <td>0</td>\n",
       "    </tr>\n",
       "    <tr>\n",
       "      <th>1169038</th>\n",
       "      <td>1</td>\n",
       "      <td>0</td>\n",
       "      <td>0</td>\n",
       "      <td>0</td>\n",
       "    </tr>\n",
       "    <tr>\n",
       "      <th>1169039</th>\n",
       "      <td>1</td>\n",
       "      <td>0</td>\n",
       "      <td>0</td>\n",
       "      <td>0</td>\n",
       "    </tr>\n",
       "    <tr>\n",
       "      <th>1169040</th>\n",
       "      <td>0</td>\n",
       "      <td>1</td>\n",
       "      <td>0</td>\n",
       "      <td>0</td>\n",
       "    </tr>\n",
       "    <tr>\n",
       "      <th>1169041</th>\n",
       "      <td>0</td>\n",
       "      <td>0</td>\n",
       "      <td>0</td>\n",
       "      <td>0</td>\n",
       "    </tr>\n",
       "  </tbody>\n",
       "</table>\n",
       "<p>1169042 rows × 4 columns</p>\n",
       "</div>"
      ],
      "text/plain": [
       "         1.509931e+09  2.068230e+09  3.111152e+09  3.668890e+09\n",
       "0                   1             0             0             0\n",
       "1                   0             0             0             0\n",
       "2                   0             0             0             1\n",
       "3                   1             0             0             0\n",
       "4                   1             0             0             0\n",
       "5                   0             0             0             1\n",
       "6                   0             0             1             0\n",
       "7                   0             0             0             1\n",
       "8                   1             0             0             0\n",
       "9                   1             0             0             0\n",
       "10                  0             0             0             1\n",
       "11                  1             0             0             0\n",
       "12                  0             0             0             0\n",
       "13                  1             0             0             0\n",
       "14                  1             0             0             0\n",
       "15                  0             0             0             1\n",
       "16                  1             0             0             0\n",
       "17                  0             0             0             0\n",
       "18                  0             0             0             0\n",
       "19                  0             0             0             0\n",
       "20                  1             0             0             0\n",
       "21                  0             1             0             0\n",
       "22                  1             0             0             0\n",
       "23                  1             0             0             0\n",
       "24                  0             0             0             1\n",
       "25                  0             0             0             1\n",
       "26                  0             0             1             0\n",
       "27                  1             0             0             0\n",
       "28                  0             1             0             0\n",
       "29                  0             0             0             1\n",
       "...               ...           ...           ...           ...\n",
       "1169012             1             0             0             0\n",
       "1169013             0             0             0             1\n",
       "1169014             1             0             0             0\n",
       "1169015             0             0             0             1\n",
       "1169016             1             0             0             0\n",
       "1169017             1             0             0             0\n",
       "1169018             0             0             0             1\n",
       "1169019             1             0             0             0\n",
       "1169020             0             0             0             1\n",
       "1169021             1             0             0             0\n",
       "1169022             0             0             0             1\n",
       "1169023             0             0             0             0\n",
       "1169024             0             0             0             0\n",
       "1169025             1             0             0             0\n",
       "1169026             1             0             0             0\n",
       "1169027             1             0             0             0\n",
       "1169028             1             0             0             0\n",
       "1169029             0             0             0             1\n",
       "1169030             1             0             0             0\n",
       "1169031             1             0             0             0\n",
       "1169032             0             1             0             0\n",
       "1169033             0             0             0             0\n",
       "1169034             0             1             0             0\n",
       "1169035             1             0             0             0\n",
       "1169036             1             0             0             0\n",
       "1169037             1             0             0             0\n",
       "1169038             1             0             0             0\n",
       "1169039             1             0             0             0\n",
       "1169040             0             1             0             0\n",
       "1169041             0             0             0             0\n",
       "\n",
       "[1169042 rows x 4 columns]"
      ]
     },
     "execution_count": 32,
     "metadata": {},
     "output_type": "execute_result"
    }
   ],
   "source": [
    "#閾値を決めて頻度が少ない値をNaNに置き換える\n",
    "df_c6 = pd.DataFrame(train['C6'])\n",
    "threshold = 120000\n",
    "value_counts = df_c6.stack().value_counts()\n",
    "to_remove = value_counts[value_counts <=threshold].index\n",
    "df_c6.replace(to_remove,np.nan,inplace=True)\n",
    "\n",
    "pd.get_dummies(df_c6['C6'])"
   ]
  },
  {
   "cell_type": "code",
   "execution_count": 33,
   "metadata": {},
   "outputs": [
    {
     "data": {
      "text/plain": [
       "<matplotlib.axes._subplots.AxesSubplot at 0x25382f77cc0>"
      ]
     },
     "execution_count": 33,
     "metadata": {},
     "output_type": "execute_result"
    },
    {
     "data": {
      "image/png": "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\n",
      "text/plain": [
       "<Figure size 432x288 with 1 Axes>"
      ]
     },
     "metadata": {
      "needs_background": "light"
     },
     "output_type": "display_data"
    }
   ],
   "source": [
    "sns.countplot(df_c6['C6'])"
   ]
  },
  {
   "cell_type": "code",
   "execution_count": 34,
   "metadata": {},
   "outputs": [
    {
     "name": "stdout",
     "output_type": "stream",
     "text": [
      "1    564628\n",
      "2    452125\n",
      "0    152289\n",
      "Name: I3, dtype: int64\n"
     ]
    },
    {
     "data": {
      "image/png": "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\n",
      "text/plain": [
       "<Figure size 432x288 with 1 Axes>"
      ]
     },
     "metadata": {
      "needs_background": "light"
     },
     "output_type": "display_data"
    }
   ],
   "source": [
    "sns.countplot(train['I3'])\n",
    "print(train['I3'].value_counts().head())"
   ]
  },
  {
   "cell_type": "code",
   "execution_count": 35,
   "metadata": {},
   "outputs": [
    {
     "data": {
      "text/plain": [
       "<matplotlib.axes._subplots.AxesSubplot at 0x253833543c8>"
      ]
     },
     "execution_count": 35,
     "metadata": {},
     "output_type": "execute_result"
    },
    {
     "data": {
      "image/png": "iVBORw0KGgoAAAANSUhEUgAAAZsAAAEKCAYAAADEovgeAAAABHNCSVQICAgIfAhkiAAAAAlwSFlzAAALEgAACxIB0t1+/AAAADl0RVh0U29mdHdhcmUAbWF0cGxvdGxpYiB2ZXJzaW9uIDMuMC4zLCBodHRwOi8vbWF0cGxvdGxpYi5vcmcvnQurowAAF1FJREFUeJzt3X/sXfV93/HnKxAS8oNgwDBiQ2GLlZWwJYGvwC1atYUWDOtiVIUOtgaPIblKya916kL2x+igkYjWloY0QULBwY6yUEaT4U0kjkWSVu2AYBIGATfzt6TF30DBYAJkLElB7/1xP1ZvvrnfH3b4+Jivnw/p6p7zPp/P+Xy+suClc+7nnpuqQpKknl4x9AQkSUufYSNJ6s6wkSR1Z9hIkrozbCRJ3Rk2kqTuDBtJUnddwybJv0vyYJJvJflcklcnOTnJ3Ul2JPmjJIe1tq9q+9Pt+Elj5/lwq387yblj9TWtNp3kirH6xDEkScPoFjZJVgDvB6aq6lTgEOAi4KPAtVW1CngauKx1uQx4uqreBFzb2pHklNbvLcAa4JNJDklyCPAJ4DzgFODi1pZ5xpAkDeDQ/XD+w5P8LfAa4DHgHcC/asc3Ar8NXA+sbdsAtwJ/mCStfnNV/RD4TpJp4IzWbrqqHgZIcjOwNsn2ecaY0zHHHFMnnXTST/GnStLB5957732yqpYv1K5b2FTVd5P8LvAI8P+ALwP3At+rqhdasxlgRdteAexsfV9I8gxwdKvfNXbq8T47Z9XPbH3mGuPHJFkPrAc48cQT2bZt2779sZJ0kEry14tp1/M22jJGVyUnA28EXsvoltdsex7OljmOvVT1nyxW3VBVU1U1tXz5gsEsSdpHPRcI/CLwnaraVVV/C3we+HngyCR7rqhWAo+27RngBIB2/A3A7vH6rD5z1Z+cZwxJ0gB6hs0jwOokr2mfvZwNPAR8FXhXa7MOuK1tb277tONfqdEjqTcDF7XVaicDq4CvA/cAq9rKs8MYLSLY3PrMNYYkaQDdwqaq7mb0Qf83gAfaWDcAHwJ+s33QfzRwY+tyI3B0q/8mcEU7z4PALYyC6kvA5VX1YvtM5r3AFmA7cEtryzxjSJIGEH/PZmRqaqpcICBJeyfJvVU1tVA7nyAgSerOsJEkdWfYSJK6M2wkSd31flzNknT6b20aegpL3r3/5ZKhpyDpJeSVjSSpO8NGktSdYSNJ6s6wkSR1Z9hIkrozbCRJ3Rk2kqTuDBtJUneGjSSpO8NGktSdYSNJ6s6wkSR1Z9hIkrrrFjZJ3pzkvrHXs0k+mOSoJFuT7Gjvy1r7JLkuyXSS+5OcNnauda39jiTrxuqnJ3mg9bkuSVp94hiSpGF0C5uq+nZVva2q3gacDjwPfAG4ArijqlYBd7R9gPOAVe21HrgeRsEBXAmcCZwBXDkWHte3tnv6rWn1ucaQJA1gf91GOxv4y6r6a2AtsLHVNwIXtO21wKYauQs4MsnxwLnA1qraXVVPA1uBNe3YEVV1Z1UVsGnWuSaNIUkawP4Km4uAz7Xt46rqMYD2fmyrrwB2jvWZabX56jMT6vON8WOSrE+yLcm2Xbt27eOfJklaSPewSXIY8E7gvy3UdEKt9qG+aFV1Q1VNVdXU8uXL96arJGkv7I8rm/OAb1TV423/8XYLjPb+RKvPACeM9VsJPLpAfeWE+nxjSJIGsD/C5mL+7hYawGZgz4qydcBtY/VL2qq01cAz7RbYFuCcJMvawoBzgC3t2HNJVrdVaJfMOtekMSRJAzi058mTvAb4JeDXx8rXALckuQx4BLiw1W8HzgemGa1cuxSgqnYnuRq4p7W7qqp2t+33ADcBhwNfbK/5xpAkDaBr2FTV88DRs2pPMVqdNrttAZfPcZ4NwIYJ9W3AqRPqE8eQJA3DJwhIkrozbCRJ3Rk2kqTuDBtJUneGjSSpO8NGktSdYSNJ6s6wkSR1Z9hIkrozbCRJ3Rk2kqTuDBtJUneGjSSpO8NGktSdYSNJ6s6wkSR1Z9hIkrozbCRJ3XUNmyRHJrk1yV8k2Z7k55IclWRrkh3tfVlrmyTXJZlOcn+S08bOs66135Fk3Vj99CQPtD7XJUmrTxxDkjSM3lc2HwO+VFX/EHgrsB24ArijqlYBd7R9gPOAVe21HrgeRsEBXAmcCZwBXDkWHte3tnv6rWn1ucaQJA2gW9gkOQL4BeBGgKr6UVV9D1gLbGzNNgIXtO21wKYauQs4MsnxwLnA1qraXVVPA1uBNe3YEVV1Z1UVsGnWuSaNIUkaQM8rm78P7AI+neSbST6V5LXAcVX1GEB7P7a1XwHsHOs/02rz1Wcm1JlnjB+TZH2SbUm27dq1a9//UknSvHqGzaHAacD1VfV24P8y/+2sTKjVPtQXrapuqKqpqppavnz53nSVJO2FnmEzA8xU1d1t/1ZG4fN4uwVGe39irP0JY/1XAo8uUF85oc48Y0iSBtAtbKrqb4CdSd7cSmcDDwGbgT0rytYBt7XtzcAlbVXaauCZdgtsC3BOkmVtYcA5wJZ27Lkkq9sqtEtmnWvSGJKkARza+fzvAz6b5DDgYeBSRgF3S5LLgEeAC1vb24HzgWng+daWqtqd5Grgntbuqqra3bbfA9wEHA58sb0ArpljDEnSALqGTVXdB0xNOHT2hLYFXD7HeTYAGybUtwGnTqg/NWkMSdIwfIKAJKk7w0aS1J1hI0nqzrCRJHVn2EiSujNsJEndGTaSpO4MG0lSd4aNJKk7w0aS1J1hI0nqzrCRJHVn2EiSujNsJEndGTaSpO4MG0lSd4aNJKk7w0aS1F3XsEnyV0keSHJfkm2tdlSSrUl2tPdlrZ4k1yWZTnJ/ktPGzrOutd+RZN1Y/fR2/unWN/ONIUkaxv64svlnVfW2qppq+1cAd1TVKuCOtg9wHrCqvdYD18MoOIArgTOBM4Arx8Lj+tZ2T781C4whSRrAELfR1gIb2/ZG4IKx+qYauQs4MsnxwLnA1qraXVVPA1uBNe3YEVV1Z1UVsGnWuSaNIUkaQO+wKeDLSe5Nsr7VjquqxwDa+7GtvgLYOdZ3ptXmq89MqM83hiRpAId2Pv9ZVfVokmOBrUn+Yp62mVCrfagvWgvA9QAnnnji3nSVJO2Frlc2VfVoe38C+AKjz1web7fAaO9PtOYzwAlj3VcCjy5QXzmhzjxjzJ7fDVU1VVVTy5cv39c/U5K0gG5hk+S1SV6/Zxs4B/gWsBnYs6JsHXBb294MXNJWpa0Gnmm3wLYA5yRZ1hYGnANsaceeS7K6rUK7ZNa5Jo0hSRpAz9toxwFfaKuRDwX+a1V9Kck9wC1JLgMeAS5s7W8HzgemgeeBSwGqaneSq4F7Wrurqmp3234PcBNwOPDF9gK4Zo4xJEkD6BY2VfUw8NYJ9aeAsyfUC7h8jnNtADZMqG8DTl3sGJKkYfgEAUlSd4aNJKk7w0aS1J1hI0nqzrCRJHVn2EiSujNsJEndGTaSpO4MG0lSd4sKmyR3LKYmSdIk8z6uJsmrgdcAx7SHYO55rP8RwBs7z02StEQs9Gy0Xwc+yChY7uXvwuZZ4BMd5yVJWkLmDZuq+hjwsSTvq6qP76c5SZKWmEU99bmqPp7k54GTxvtU1aZO85IkLSGLCpsknwH+AXAf8GIrF2DYSJIWtNjfs5kCTmm/OSNJ0l5Z7PdsvgX8vZ4TkSQtXYu9sjkGeCjJ14Ef7ilW1Tu7zEqStKQsNmx+e18HSHIIsA34blX9cpKTgZuBo4BvAO+uqh8leRWjz4BOB54C/mVV/VU7x4eByxh9XvT+qtrS6muAjwGHAJ+qqmtafeIY+/o3SJJ+Oou6jVZVfzLptcgxPgBsH9v/KHBtVa0CnmYUIrT3p6vqTcC1rR1JTgEuAt4CrAE+meSQFmKfAM4DTgEubm3nG0OSNIDFPq7muSTPttcPkryY5NlF9FsJ/HPgU20/wDuAW1uTjcAFbXtt26cdP7u1XwvcXFU/rKrvANPAGe01XVUPt6uWm4G1C4whSRrAYr9n8/rx/SQXMPqf/UL+APgPwJ7+RwPfq6oX2v4MsKJtrwB2tvFeSPJMa78CuGvsnON9ds6qn7nAGJKkAezTU5+r6r8zunqYU5JfBp6oqnvHy5NOt8Cxl6o+aY7rk2xLsm3Xrl2TmkiSXgKL/VLnr4ztvoLR924W+s7NWcA7k5wPvJrRwzv/ADgyyaHtymMl8GhrPwOcAMwkORR4A7B7rL7HeJ9J9SfnGePHVNUNwA0AU1NTfodIkjpZ7JXNvxh7nQs8x+izlDlV1YeramVVncToA/6vVNW/Br4KvKs1Wwfc1rY3t33a8a+0L5FuBi5K8qq2ymwV8HXgHmBVkpOTHNbG2Nz6zDWGJGkAi/3M5tKXcMwPATcn+R3gm8CNrX4j8Jkk04yuaC5qYz+Y5BbgIeAF4PKqehEgyXuBLYyWPm+oqgcXGEOSNIDF3kZbCXyc0a2xAv4M+EBVzSymf1V9Dfha236YCYsLquoHwIVz9P8I8JEJ9duB2yfUJ44hSRrGYm+jfZrR7aw3MlrZ9T9aTZKkBS02bJZX1aer6oX2uglY3nFekqQlZLFh82SSX9vzzf0kv8bokTKSJC1osWHzb4FfBf4GeIzRSq+XctGAJGkJW+yDOK8G1lXV0wBJjgJ+l1EISZI0r8Ve2fzjPUEDUFW7gbf3mZIkaalZbNi8IsmyPTvtymaxV0WSpIPcYgPj94D/leRWRt+z+VUmfO9FkqRJFvsEgU1JtjF6+GaAX6mqh7rOTJK0ZCz6VlgLFwNGkrTX9uknBiRJ2huGjSSpO8NGktSdYSNJ6s6wkSR1Z9hIkrozbCRJ3Rk2kqTuuoVNklcn+XqS/53kwST/udVPTnJ3kh1J/ijJYa3+qrY/3Y6fNHauD7f6t5OcO1Zf02rTSa4Yq08cQ5I0jJ5XNj8E3lFVbwXeBqxJshr4KHBtVa0CngYua+0vA56uqjcB17Z2JDkFuAh4C7AG+OSeH3EDPgGcB5wCXNzaMs8YkqQBdAubGvl+231lexWj56vd2uobgQva9tq2Tzt+dpK0+s1V9cOq+g4wDZzRXtNV9XBV/Qi4GVjb+sw1hiRpAF0/s2lXIPcBTwBbgb8EvldVL7QmM8CKtr0C2AnQjj8DHD1en9VnrvrR84whSRpA17Cpqher6m3ASkZXIj87qVl7zxzHXqr6T0iyPsm2JNt27do1qYkk6SWwX1ajVdX3gK8Bq4Ejk+x52vRK4NG2PQOcANCOvwHYPV6f1Weu+pPzjDF7XjdU1VRVTS1fvvyn+RMlSfPouRpteZIj2/bhwC8C24GvAu9qzdYBt7XtzW2fdvwrVVWtflFbrXYysAr4OnAPsKqtPDuM0SKCza3PXGNIkgbQ86edjwc2tlVjrwBuqar/meQh4OYkvwN8E7ixtb8R+EySaUZXNBcBVNWDSW5h9Fs6LwCXV9WLAEneC2wBDgE2VNWD7VwfmmMMSdIAuoVNVd0PvH1C/WFGn9/Mrv8AuHCOc32ECT9DXVW3A7cvdgxJ0jB8goAkqTvDRpLUnWEjSerOsJEkdWfYSJK6M2wkSd31/J6NdEB65Kp/NPQUlrwT/9MDQ09BBxivbCRJ3Rk2kqTuDBtJUneGjSSpO8NGktSdYSNJ6s6wkSR1Z9hIkrozbCRJ3Rk2kqTuDBtJUnfdwibJCUm+mmR7kgeTfKDVj0qyNcmO9r6s1ZPkuiTTSe5PctrYuda19juSrBurn57kgdbnuiSZbwxJ0jB6Xtm8APz7qvpZYDVweZJTgCuAO6pqFXBH2wc4D1jVXuuB62EUHMCVwJnAGcCVY+FxfWu7p9+aVp9rDEnSALqFTVU9VlXfaNvPAduBFcBaYGNrthG4oG2vBTbVyF3AkUmOB84FtlbV7qp6GtgKrGnHjqiqO6uqgE2zzjVpDEnSAPbLZzZJTgLeDtwNHFdVj8EokIBjW7MVwM6xbjOtNl99ZkKdecaQJA2ge9gkeR3wx8AHq+rZ+ZpOqNU+1PdmbuuTbEuybdeuXXvTVZK0F7qGTZJXMgqaz1bV51v58XYLjPb+RKvPACeMdV8JPLpAfeWE+nxj/JiquqGqpqpqavny5fv2R0qSFtRzNVqAG4HtVfX7Y4c2A3tWlK0DbhurX9JWpa0Gnmm3wLYA5yRZ1hYGnANsaceeS7K6jXXJrHNNGkOSNICePwt9FvBu4IEk97XafwSuAW5JchnwCHBhO3Y7cD4wDTwPXApQVbuTXA3c09pdVVW72/Z7gJuAw4EvthfzjCFJGkC3sKmqP2Py5yoAZ09oX8Dlc5xrA7BhQn0bcOqE+lOTxpAkDcMnCEiSujNsJEndGTaSpO4MG0lSd4aNJKk7w0aS1J1hI0nqzrCRJHVn2EiSujNsJEnd9Xw2miS9pM76+FlDT2HJ+/P3/XmX83plI0nqzrCRJHVn2EiSujNsJEndGTaSpO4MG0lSd4aNJKm7bmGTZEOSJ5J8a6x2VJKtSXa092WtniTXJZlOcn+S08b6rGvtdyRZN1Y/PckDrc91STLfGJKk4fS8srkJWDOrdgVwR1WtAu5o+wDnAavaaz1wPYyCA7gSOBM4A7hyLDyub2339FuzwBiSpIF0C5uq+lNg96zyWmBj294IXDBW31QjdwFHJjkeOBfYWlW7q+ppYCuwph07oqrurKoCNs0616QxJEkD2d+f2RxXVY8BtPdjW30FsHOs3UyrzVefmVCfbwxJ0kAOlAUCmVCrfajv3aDJ+iTbkmzbtWvX3naXJC3S/g6bx9stMNr7E60+A5ww1m4l8OgC9ZUT6vON8ROq6oaqmqqqqeXLl+/zHyVJmt/+DpvNwJ4VZeuA28bql7RVaauBZ9otsC3AOUmWtYUB5wBb2rHnkqxuq9AumXWuSWNIkgbS7ScGknwO+KfAMUlmGK0quwa4JcllwCPAha357cD5wDTwPHApQFXtTnI1cE9rd1VV7Vl08B5GK94OB77YXswzhiRpIN3CpqounuPQ2RPaFnD5HOfZAGyYUN8GnDqh/tSkMSRJwzlQFghIkpYww0aS1J1hI0nqzrCRJHVn2EiSujNsJEndGTaSpO4MG0lSd4aNJKk7w0aS1J1hI0nqzrCRJHVn2EiSujNsJEndGTaSpO4MG0lSd4aNJKk7w0aS1N2SDZska5J8O8l0kiuGno8kHcyWZNgkOQT4BHAecApwcZJThp2VJB28lmTYAGcA01X1cFX9CLgZWDvwnCTpoLVUw2YFsHNsf6bVJEkDOHToCXSSCbX6iUbJemB92/1+km93ndWwjgGeHHoSi5XfXTf0FA4kL6t/OwCunPSf4EHrZfXvl/fv9b/dzyym0VINmxnghLH9lcCjsxtV1Q3ADftrUkNKsq2qpoaeh/ae/3Yvb/77jSzV22j3AKuSnJzkMOAiYPPAc5Kkg9aSvLKpqheSvBfYAhwCbKiqBweeliQdtJZk2ABU1e3A7UPP4wByUNwuXKL8t3t5898PSNVPfG4uSdJLaql+ZiNJOoAYNkucj+15+UqyIckTSb419Fy0d5KckOSrSbYneTDJB4ae09C8jbaEtcf2/B/glxgtB78HuLiqHhp0YlqUJL8AfB/YVFWnDj0fLV6S44Hjq+obSV4P3AtccDD/t+eVzdLmY3texqrqT4HdQ89De6+qHquqb7Tt54DtHORPMTFsljYf2yMNLMlJwNuBu4edybAMm6VtUY/tkdRHktcBfwx8sKqeHXo+QzJslrZFPbZH0ksvySsZBc1nq+rzQ89naIbN0uZje6QBJAlwI7C9qn5/6PkcCAybJayqXgD2PLZnO3CLj+15+UjyOeBO4M1JZpJcNvSctGhnAe8G3pHkvvY6f+hJDcmlz5Kk7ryykSR1Z9hIkrozbCRJ3Rk2kqTuDBtJUneGjXQASvL9WftHJPlukj8cak7ST8OwkV4ergb+ZOhJSPvKsJEOcElOB44Dvjz0XKR9ZdhIB7AkrwB+D/itoeci/TQMG+nA9hvA7VW1c8GW0gHs0KEnIGlePwf8kyS/AbwOOCzJ96vKn/jWy4rPRpMOQC1QXjer9m+Aqap67zCzkvadt9EkSd15ZSNJ6s4rG0lSd4aNJKk7w0aS1J1hI0nqzrCRJHVn2EiSujNsJEndGTaSpO7+Pw8r3SLXnrU0AAAAAElFTkSuQmCC\n",
      "text/plain": [
       "<Figure size 432x288 with 1 Axes>"
      ]
     },
     "metadata": {
      "needs_background": "light"
     },
     "output_type": "display_data"
    }
   ],
   "source": [
    "sns.countplot(train['I4'])"
   ]
  },
  {
   "cell_type": "code",
   "execution_count": 36,
   "metadata": {},
   "outputs": [
    {
     "data": {
      "text/plain": [
       "<matplotlib.axes._subplots.AxesSubplot at 0x253845e55f8>"
      ]
     },
     "execution_count": 36,
     "metadata": {},
     "output_type": "execute_result"
    },
    {
     "data": {
      "image/png": "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\n",
      "text/plain": [
       "<Figure size 432x288 with 1 Axes>"
      ]
     },
     "metadata": {
      "needs_background": "light"
     },
     "output_type": "display_data"
    }
   ],
   "source": [
    "sns.countplot(train['I6'])"
   ]
  },
  {
   "cell_type": "code",
   "execution_count": 37,
   "metadata": {},
   "outputs": [
    {
     "data": {
      "text/plain": [
       "<matplotlib.axes._subplots.AxesSubplot at 0x25384635358>"
      ]
     },
     "execution_count": 37,
     "metadata": {},
     "output_type": "execute_result"
    },
    {
     "data": {
      "image/png": "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\n",
      "text/plain": [
       "<Figure size 432x288 with 1 Axes>"
      ]
     },
     "metadata": {
      "needs_background": "light"
     },
     "output_type": "display_data"
    }
   ],
   "source": [
    "sns.countplot(train['I7'])"
   ]
  },
  {
   "cell_type": "code",
   "execution_count": 38,
   "metadata": {},
   "outputs": [
    {
     "data": {
      "text/plain": [
       "<matplotlib.axes._subplots.AxesSubplot at 0x2538467e400>"
      ]
     },
     "execution_count": 38,
     "metadata": {},
     "output_type": "execute_result"
    },
    {
     "data": {
      "image/png": "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\n",
      "text/plain": [
       "<Figure size 432x288 with 1 Axes>"
      ]
     },
     "metadata": {
      "needs_background": "light"
     },
     "output_type": "display_data"
    }
   ],
   "source": [
    "sns.countplot(train['I8'])"
   ]
  },
  {
   "cell_type": "code",
   "execution_count": 39,
   "metadata": {},
   "outputs": [
    {
     "data": {
      "text/plain": [
       "<matplotlib.axes._subplots.AxesSubplot at 0x25382fc5160>"
      ]
     },
     "execution_count": 39,
     "metadata": {},
     "output_type": "execute_result"
    },
    {
     "data": {
      "image/png": "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\n",
      "text/plain": [
       "<Figure size 432x288 with 1 Axes>"
      ]
     },
     "metadata": {
      "needs_background": "light"
     },
     "output_type": "display_data"
    }
   ],
   "source": [
    "sns.countplot(train['I9'])"
   ]
  },
  {
   "cell_type": "code",
   "execution_count": 40,
   "metadata": {},
   "outputs": [
    {
     "data": {
      "text/plain": [
       "<matplotlib.axes._subplots.AxesSubplot at 0x253846a9cc0>"
      ]
     },
     "execution_count": 40,
     "metadata": {},
     "output_type": "execute_result"
    },
    {
     "data": {
      "image/png": "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\n",
      "text/plain": [
       "<Figure size 432x288 with 1 Axes>"
      ]
     },
     "metadata": {
      "needs_background": "light"
     },
     "output_type": "display_data"
    }
   ],
   "source": [
    "sns.countplot(train['I10'])"
   ]
  },
  {
   "cell_type": "raw",
   "metadata": {},
   "source": [
    "I6～I10までは分類分けされている"
   ]
  },
  {
   "cell_type": "code",
   "execution_count": 41,
   "metadata": {},
   "outputs": [
    {
     "data": {
      "text/html": [
       "<div>\n",
       "<style scoped>\n",
       "    .dataframe tbody tr th:only-of-type {\n",
       "        vertical-align: middle;\n",
       "    }\n",
       "\n",
       "    .dataframe tbody tr th {\n",
       "        vertical-align: top;\n",
       "    }\n",
       "\n",
       "    .dataframe thead th {\n",
       "        text-align: right;\n",
       "    }\n",
       "</style>\n",
       "<table border=\"1\" class=\"dataframe\">\n",
       "  <thead>\n",
       "    <tr style=\"text-align: right;\">\n",
       "      <th></th>\n",
       "      <th>id</th>\n",
       "      <th>click</th>\n",
       "      <th>I1</th>\n",
       "      <th>I2</th>\n",
       "      <th>C1</th>\n",
       "      <th>C2</th>\n",
       "      <th>C3</th>\n",
       "      <th>C4</th>\n",
       "      <th>C5</th>\n",
       "      <th>C6</th>\n",
       "      <th>...</th>\n",
       "      <th>I5</th>\n",
       "      <th>I6</th>\n",
       "      <th>I7</th>\n",
       "      <th>I8</th>\n",
       "      <th>I9</th>\n",
       "      <th>I10</th>\n",
       "      <th>I11</th>\n",
       "      <th>I12</th>\n",
       "      <th>I13</th>\n",
       "      <th>I14</th>\n",
       "    </tr>\n",
       "  </thead>\n",
       "  <tbody>\n",
       "    <tr>\n",
       "      <th>0</th>\n",
       "      <td>0</td>\n",
       "      <td>0</td>\n",
       "      <td>5</td>\n",
       "      <td>20</td>\n",
       "      <td>421256035</td>\n",
       "      <td>2377199148</td>\n",
       "      <td>2696211399</td>\n",
       "      <td>2298910535</td>\n",
       "      <td>3133252034</td>\n",
       "      <td>1509930964</td>\n",
       "      <td>...</td>\n",
       "      <td>0</td>\n",
       "      <td>0</td>\n",
       "      <td>0</td>\n",
       "      <td>0</td>\n",
       "      <td>0</td>\n",
       "      <td>0</td>\n",
       "      <td>NaN</td>\n",
       "      <td>NaN</td>\n",
       "      <td>NaN</td>\n",
       "      <td>780.0</td>\n",
       "    </tr>\n",
       "    <tr>\n",
       "      <th>1</th>\n",
       "      <td>1</td>\n",
       "      <td>0</td>\n",
       "      <td>5</td>\n",
       "      <td>20</td>\n",
       "      <td>2581703001</td>\n",
       "      <td>2589684548</td>\n",
       "      <td>1998340283</td>\n",
       "      <td>2411205997</td>\n",
       "      <td>3202148071</td>\n",
       "      <td>1238839469</td>\n",
       "      <td>...</td>\n",
       "      <td>1</td>\n",
       "      <td>1</td>\n",
       "      <td>0</td>\n",
       "      <td>0</td>\n",
       "      <td>0</td>\n",
       "      <td>0</td>\n",
       "      <td>NaN</td>\n",
       "      <td>NaN</td>\n",
       "      <td>NaN</td>\n",
       "      <td>0.0</td>\n",
       "    </tr>\n",
       "    <tr>\n",
       "      <th>2</th>\n",
       "      <td>2</td>\n",
       "      <td>0</td>\n",
       "      <td>5</td>\n",
       "      <td>20</td>\n",
       "      <td>2581703001</td>\n",
       "      <td>1862037199</td>\n",
       "      <td>2448089184</td>\n",
       "      <td>2411205997</td>\n",
       "      <td>1107442947</td>\n",
       "      <td>3668889797</td>\n",
       "      <td>...</td>\n",
       "      <td>0</td>\n",
       "      <td>0</td>\n",
       "      <td>0</td>\n",
       "      <td>0</td>\n",
       "      <td>1</td>\n",
       "      <td>0</td>\n",
       "      <td>NaN</td>\n",
       "      <td>NaN</td>\n",
       "      <td>NaN</td>\n",
       "      <td>117.0</td>\n",
       "    </tr>\n",
       "    <tr>\n",
       "      <th>3</th>\n",
       "      <td>3</td>\n",
       "      <td>0</td>\n",
       "      <td>5</td>\n",
       "      <td>20</td>\n",
       "      <td>421256035</td>\n",
       "      <td>3874378935</td>\n",
       "      <td>1658216424</td>\n",
       "      <td>2298910535</td>\n",
       "      <td>2321672976</td>\n",
       "      <td>1509930964</td>\n",
       "      <td>...</td>\n",
       "      <td>0</td>\n",
       "      <td>0</td>\n",
       "      <td>0</td>\n",
       "      <td>0</td>\n",
       "      <td>0</td>\n",
       "      <td>0</td>\n",
       "      <td>6.0</td>\n",
       "      <td>6.0</td>\n",
       "      <td>34501.0</td>\n",
       "      <td>390.0</td>\n",
       "    </tr>\n",
       "    <tr>\n",
       "      <th>4</th>\n",
       "      <td>4</td>\n",
       "      <td>1</td>\n",
       "      <td>5</td>\n",
       "      <td>20</td>\n",
       "      <td>421256035</td>\n",
       "      <td>3874378935</td>\n",
       "      <td>1892769125</td>\n",
       "      <td>2411205997</td>\n",
       "      <td>2321672976</td>\n",
       "      <td>1509930964</td>\n",
       "      <td>...</td>\n",
       "      <td>0</td>\n",
       "      <td>0</td>\n",
       "      <td>0</td>\n",
       "      <td>0</td>\n",
       "      <td>0</td>\n",
       "      <td>0</td>\n",
       "      <td>1.0</td>\n",
       "      <td>31.0</td>\n",
       "      <td>12557.0</td>\n",
       "      <td>390.0</td>\n",
       "    </tr>\n",
       "  </tbody>\n",
       "</table>\n",
       "<p>5 rows × 22 columns</p>\n",
       "</div>"
      ],
      "text/plain": [
       "   id  click  I1  I2          C1          C2          C3          C4  \\\n",
       "0   0      0   5  20   421256035  2377199148  2696211399  2298910535   \n",
       "1   1      0   5  20  2581703001  2589684548  1998340283  2411205997   \n",
       "2   2      0   5  20  2581703001  1862037199  2448089184  2411205997   \n",
       "3   3      0   5  20   421256035  3874378935  1658216424  2298910535   \n",
       "4   4      1   5  20   421256035  3874378935  1892769125  2411205997   \n",
       "\n",
       "           C5          C6  ...  I5  I6  I7  I8  I9  I10  I11   I12      I13  \\\n",
       "0  3133252034  1509930964  ...   0   0   0   0   0    0  NaN   NaN      NaN   \n",
       "1  3202148071  1238839469  ...   1   1   0   0   0    0  NaN   NaN      NaN   \n",
       "2  1107442947  3668889797  ...   0   0   0   0   1    0  NaN   NaN      NaN   \n",
       "3  2321672976  1509930964  ...   0   0   0   0   0    0  6.0   6.0  34501.0   \n",
       "4  2321672976  1509930964  ...   0   0   0   0   0    0  1.0  31.0  12557.0   \n",
       "\n",
       "     I14  \n",
       "0  780.0  \n",
       "1    0.0  \n",
       "2  117.0  \n",
       "3  390.0  \n",
       "4  390.0  \n",
       "\n",
       "[5 rows x 22 columns]"
      ]
     },
     "execution_count": 41,
     "metadata": {},
     "output_type": "execute_result"
    }
   ],
   "source": [
    "train_data.head()"
   ]
  },
  {
   "cell_type": "markdown",
   "metadata": {},
   "source": [
    "NaNが多く含まれていたI11～のデータも整理していく"
   ]
  },
  {
   "cell_type": "code",
   "execution_count": 42,
   "metadata": {},
   "outputs": [
    {
     "data": {
      "text/plain": [
       "0.0    100446\n",
       "1.0     46437\n",
       "2.0     40932\n",
       "3.0     35472\n",
       "Name: I11, dtype: int64"
      ]
     },
     "execution_count": 42,
     "metadata": {},
     "output_type": "execute_result"
    }
   ],
   "source": [
    "train_data['I11'].value_counts().head(4)"
   ]
  },
  {
   "cell_type": "code",
   "execution_count": 43,
   "metadata": {
    "scrolled": true
   },
   "outputs": [],
   "source": [
    "#閾値を決めて頻度が少ない値をNaNに置き換える\n",
    "df_I11 = pd.DataFrame(train['I11'])\n",
    "threshold = 40000\n",
    "value_counts =df_I11.stack().value_counts()\n",
    "to_remove = value_counts[value_counts <=threshold].index\n",
    "df_I11.replace(to_remove,np.nan,inplace=True)\n",
    "\n",
    "df_I11['I11']=pd.get_dummies(df_I11['I11'])"
   ]
  },
  {
   "cell_type": "code",
   "execution_count": 44,
   "metadata": {},
   "outputs": [
    {
     "name": "stdout",
     "output_type": "stream",
     "text": [
      "   I11\n",
      "0    0\n",
      "1    0\n",
      "2    0\n",
      "3    0\n",
      "4    0\n"
     ]
    },
    {
     "data": {
      "image/png": "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\n",
      "text/plain": [
       "<Figure size 432x288 with 1 Axes>"
      ]
     },
     "metadata": {
      "needs_background": "light"
     },
     "output_type": "display_data"
    }
   ],
   "source": [
    "sns.countplot(df_I11['I11'])\n",
    "print(df_I11.head())"
   ]
  },
  {
   "cell_type": "code",
   "execution_count": 45,
   "metadata": {},
   "outputs": [
    {
     "data": {
      "text/plain": [
       "1.0    270410\n",
       "2.0    144151\n",
       "4.0     62766\n",
       "3.0     61902\n",
       "6.0     40482\n",
       "5.0     39067\n",
       "Name: I12, dtype: int64"
      ]
     },
     "execution_count": 45,
     "metadata": {},
     "output_type": "execute_result"
    }
   ],
   "source": [
    "train['I12'].value_counts().head(6)"
   ]
  },
  {
   "cell_type": "code",
   "execution_count": 46,
   "metadata": {
    "scrolled": true
   },
   "outputs": [],
   "source": [
    "#閾値を決めて頻度が少ない値をNaNに置き換える\n",
    "df_I12 = pd.DataFrame(train['I12'])\n",
    "threshold = 60000\n",
    "value_counts =df_I12.stack().value_counts()\n",
    "to_remove = value_counts[value_counts <=threshold].index\n",
    "df_I12.replace(to_remove,np.nan,inplace=True)\n",
    "\n",
    "df_I12['I12']=pd.get_dummies(df_I12['I12'])"
   ]
  },
  {
   "cell_type": "code",
   "execution_count": 47,
   "metadata": {},
   "outputs": [
    {
     "data": {
      "text/plain": [
       "6.0     555\n",
       "5.0     524\n",
       "9.0     513\n",
       "7.0     507\n",
       "8.0     480\n",
       "11.0    474\n",
       "10.0    469\n",
       "12.0    458\n",
       "15.0    429\n",
       "19.0    419\n",
       "13.0    406\n",
       "16.0    405\n",
       "4.0     405\n",
       "17.0    404\n",
       "14.0    404\n",
       "Name: I13, dtype: int64"
      ]
     },
     "execution_count": 47,
     "metadata": {},
     "output_type": "execute_result"
    }
   ],
   "source": [
    "train['I13'].value_counts().head(15)"
   ]
  },
  {
   "cell_type": "code",
   "execution_count": 50,
   "metadata": {},
   "outputs": [],
   "source": [
    "#閾値を決めて頻度が少ない値をNaNに置き換える\n",
    "df_I13 = pd.DataFrame(train['I13'])\n",
    "threshold = 500\n",
    "value_counts =df_I13.stack().value_counts()\n",
    "to_remove = value_counts[value_counts <=threshold].index\n",
    "df_I13.replace(to_remove,np.nan,inplace=True)\n",
    "\n",
    "df_I13['I13']=pd.get_dummies(df_I13['I13'])"
   ]
  },
  {
   "cell_type": "code",
   "execution_count": 51,
   "metadata": {},
   "outputs": [
    {
     "data": {
      "text/plain": [
       "390.0     320622\n",
       "0.0       143799\n",
       "13.0      117999\n",
       "260.0     105800\n",
       "91.0       71943\n",
       "130.0      44551\n",
       "39.0       32577\n",
       "169.0      30183\n",
       "1300.0     25648\n",
       "364.0      21879\n",
       "780.0      19089\n",
       "650.0      18431\n",
       "325.0      17367\n",
       "1690.0     12015\n",
       "195.0      10706\n",
       "Name: I14, dtype: int64"
      ]
     },
     "execution_count": 51,
     "metadata": {},
     "output_type": "execute_result"
    }
   ],
   "source": [
    "train['I14'].value_counts().head(15)"
   ]
  },
  {
   "cell_type": "code",
   "execution_count": 52,
   "metadata": {},
   "outputs": [],
   "source": [
    "#閾値を決めて頻度が少ない値をNaNに置き換える\n",
    "df_I14 = pd.DataFrame(train['I14'])\n",
    "threshold = 500\n",
    "value_counts =df_I14.stack().value_counts()\n",
    "to_remove = value_counts[value_counts <=threshold].index\n",
    "df_I14.replace(to_remove,np.nan,inplace=True)\n",
    "\n",
    "df_I14['I14']=pd.get_dummies(df_I14['I14'])"
   ]
  },
  {
   "cell_type": "code",
   "execution_count": 57,
   "metadata": {},
   "outputs": [],
   "source": [
    "#データを結合する\n",
    "df_new = pd.concat([df_c1,df_c2,df_c3,df_c4,df_c5,df_c6,train['I6'],train['I7'],train['I8'],train['I9'],\n",
    "train['I10'],df_I11,df_I12,df_I13,df_I14],axis=1)"
   ]
  },
  {
   "cell_type": "code",
   "execution_count": 58,
   "metadata": {},
   "outputs": [
    {
     "data": {
      "text/html": [
       "<div>\n",
       "<style scoped>\n",
       "    .dataframe tbody tr th:only-of-type {\n",
       "        vertical-align: middle;\n",
       "    }\n",
       "\n",
       "    .dataframe tbody tr th {\n",
       "        vertical-align: top;\n",
       "    }\n",
       "\n",
       "    .dataframe thead th {\n",
       "        text-align: right;\n",
       "    }\n",
       "</style>\n",
       "<table border=\"1\" class=\"dataframe\">\n",
       "  <thead>\n",
       "    <tr style=\"text-align: right;\">\n",
       "      <th></th>\n",
       "      <th>C1</th>\n",
       "      <th>C2</th>\n",
       "      <th>C3</th>\n",
       "      <th>C4</th>\n",
       "      <th>C5</th>\n",
       "      <th>C6</th>\n",
       "      <th>I6</th>\n",
       "      <th>I7</th>\n",
       "      <th>I8</th>\n",
       "      <th>I9</th>\n",
       "      <th>I10</th>\n",
       "      <th>I11</th>\n",
       "      <th>I12</th>\n",
       "      <th>I13</th>\n",
       "      <th>I14</th>\n",
       "    </tr>\n",
       "  </thead>\n",
       "  <tbody>\n",
       "    <tr>\n",
       "      <th>0</th>\n",
       "      <td>1</td>\n",
       "      <td>0</td>\n",
       "      <td>0</td>\n",
       "      <td>0</td>\n",
       "      <td>0</td>\n",
       "      <td>1.509931e+09</td>\n",
       "      <td>0</td>\n",
       "      <td>0</td>\n",
       "      <td>0</td>\n",
       "      <td>0</td>\n",
       "      <td>0</td>\n",
       "      <td>0</td>\n",
       "      <td>0</td>\n",
       "      <td>0</td>\n",
       "      <td>0</td>\n",
       "    </tr>\n",
       "    <tr>\n",
       "      <th>1</th>\n",
       "      <td>0</td>\n",
       "      <td>0</td>\n",
       "      <td>0</td>\n",
       "      <td>0</td>\n",
       "      <td>0</td>\n",
       "      <td>NaN</td>\n",
       "      <td>1</td>\n",
       "      <td>0</td>\n",
       "      <td>0</td>\n",
       "      <td>0</td>\n",
       "      <td>0</td>\n",
       "      <td>0</td>\n",
       "      <td>0</td>\n",
       "      <td>0</td>\n",
       "      <td>1</td>\n",
       "    </tr>\n",
       "    <tr>\n",
       "      <th>2</th>\n",
       "      <td>0</td>\n",
       "      <td>0</td>\n",
       "      <td>0</td>\n",
       "      <td>0</td>\n",
       "      <td>0</td>\n",
       "      <td>3.668890e+09</td>\n",
       "      <td>0</td>\n",
       "      <td>0</td>\n",
       "      <td>0</td>\n",
       "      <td>1</td>\n",
       "      <td>0</td>\n",
       "      <td>0</td>\n",
       "      <td>0</td>\n",
       "      <td>0</td>\n",
       "      <td>0</td>\n",
       "    </tr>\n",
       "    <tr>\n",
       "      <th>3</th>\n",
       "      <td>1</td>\n",
       "      <td>0</td>\n",
       "      <td>0</td>\n",
       "      <td>0</td>\n",
       "      <td>0</td>\n",
       "      <td>1.509931e+09</td>\n",
       "      <td>0</td>\n",
       "      <td>0</td>\n",
       "      <td>0</td>\n",
       "      <td>0</td>\n",
       "      <td>0</td>\n",
       "      <td>0</td>\n",
       "      <td>0</td>\n",
       "      <td>0</td>\n",
       "      <td>0</td>\n",
       "    </tr>\n",
       "    <tr>\n",
       "      <th>4</th>\n",
       "      <td>1</td>\n",
       "      <td>0</td>\n",
       "      <td>0</td>\n",
       "      <td>0</td>\n",
       "      <td>0</td>\n",
       "      <td>1.509931e+09</td>\n",
       "      <td>0</td>\n",
       "      <td>0</td>\n",
       "      <td>0</td>\n",
       "      <td>0</td>\n",
       "      <td>0</td>\n",
       "      <td>0</td>\n",
       "      <td>0</td>\n",
       "      <td>0</td>\n",
       "      <td>0</td>\n",
       "    </tr>\n",
       "  </tbody>\n",
       "</table>\n",
       "</div>"
      ],
      "text/plain": [
       "   C1  C2  C3  C4  C5            C6  I6  I7  I8  I9  I10  I11  I12  I13  I14\n",
       "0   1   0   0   0   0  1.509931e+09   0   0   0   0    0    0    0    0    0\n",
       "1   0   0   0   0   0           NaN   1   0   0   0    0    0    0    0    1\n",
       "2   0   0   0   0   0  3.668890e+09   0   0   0   1    0    0    0    0    0\n",
       "3   1   0   0   0   0  1.509931e+09   0   0   0   0    0    0    0    0    0\n",
       "4   1   0   0   0   0  1.509931e+09   0   0   0   0    0    0    0    0    0"
      ]
     },
     "execution_count": 58,
     "metadata": {},
     "output_type": "execute_result"
    }
   ],
   "source": [
    "df_new.head()"
   ]
  },
  {
   "cell_type": "code",
   "execution_count": null,
   "metadata": {},
   "outputs": [],
   "source": []
  },
  {
   "cell_type": "code",
   "execution_count": null,
   "metadata": {},
   "outputs": [],
   "source": [
    "from sklearn.tree import DecisionTreeRegressor \n",
    "from sklearn.model_selection import train_test_split "
   ]
=======
   "execution_count": null,
   "metadata": {},
   "outputs": [],
   "source": []
>>>>>>> 585a9db17e7f013ac7fcb1dd057307db05db32c7
  }
 ],
 "metadata": {
  "kernelspec": {
   "display_name": "Python 3",
   "language": "python",
   "name": "python3"
  },
  "language_info": {
   "codemirror_mode": {
    "name": "ipython",
    "version": 3
   },
   "file_extension": ".py",
   "mimetype": "text/x-python",
   "name": "python",
   "nbconvert_exporter": "python",
   "pygments_lexer": "ipython3",
   "version": "3.7.3"
  }
 },
 "nbformat": 4,
 "nbformat_minor": 2
}
