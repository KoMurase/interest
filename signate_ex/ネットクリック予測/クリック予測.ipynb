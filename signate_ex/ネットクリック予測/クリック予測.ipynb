{
 "cells": [
  {
   "cell_type": "code",
   "execution_count": 1,
   "metadata": {},
   "outputs": [],
   "source": [
    "import pandas as pd "
   ]
  },
  {
   "cell_type": "code",
   "execution_count": 2,
   "metadata": {},
   "outputs": [],
   "source": [
    "test_data = pd.read_csv('test.tsv',encoding='utf-8',delimiter = '\\t')\n",
    "train_data = pd.read_csv('train.tsv',encoding='utf-8',delimiter = '\\t')"
   ]
  },
  {
   "cell_type": "code",
   "execution_count": 3,
   "metadata": {},
   "outputs": [
    {
     "data": {
      "text/html": [
       "<div>\n",
       "<style scoped>\n",
       "    .dataframe tbody tr th:only-of-type {\n",
       "        vertical-align: middle;\n",
       "    }\n",
       "\n",
       "    .dataframe tbody tr th {\n",
       "        vertical-align: top;\n",
       "    }\n",
       "\n",
       "    .dataframe thead th {\n",
       "        text-align: right;\n",
       "    }\n",
       "</style>\n",
       "<table border=\"1\" class=\"dataframe\">\n",
       "  <thead>\n",
       "    <tr style=\"text-align: right;\">\n",
       "      <th></th>\n",
       "      <th>id</th>\n",
       "      <th>click</th>\n",
       "      <th>I1</th>\n",
       "      <th>I2</th>\n",
       "      <th>C1</th>\n",
       "      <th>C2</th>\n",
       "      <th>C3</th>\n",
       "      <th>C4</th>\n",
       "      <th>C5</th>\n",
       "      <th>C6</th>\n",
       "      <th>...</th>\n",
       "      <th>I5</th>\n",
       "      <th>I6</th>\n",
       "      <th>I7</th>\n",
       "      <th>I8</th>\n",
       "      <th>I9</th>\n",
       "      <th>I10</th>\n",
       "      <th>I11</th>\n",
       "      <th>I12</th>\n",
       "      <th>I13</th>\n",
       "      <th>I14</th>\n",
       "    </tr>\n",
       "  </thead>\n",
       "  <tbody>\n",
       "    <tr>\n",
       "      <th>0</th>\n",
       "      <td>0</td>\n",
       "      <td>0</td>\n",
       "      <td>5</td>\n",
       "      <td>20</td>\n",
       "      <td>421256035</td>\n",
       "      <td>2377199148</td>\n",
       "      <td>2696211399</td>\n",
       "      <td>2298910535</td>\n",
       "      <td>3133252034</td>\n",
       "      <td>1509930964</td>\n",
       "      <td>...</td>\n",
       "      <td>0</td>\n",
       "      <td>0</td>\n",
       "      <td>0</td>\n",
       "      <td>0</td>\n",
       "      <td>0</td>\n",
       "      <td>0</td>\n",
       "      <td>NaN</td>\n",
       "      <td>NaN</td>\n",
       "      <td>NaN</td>\n",
       "      <td>780.0</td>\n",
       "    </tr>\n",
       "    <tr>\n",
       "      <th>1</th>\n",
       "      <td>1</td>\n",
       "      <td>0</td>\n",
       "      <td>5</td>\n",
       "      <td>20</td>\n",
       "      <td>2581703001</td>\n",
       "      <td>2589684548</td>\n",
       "      <td>1998340283</td>\n",
       "      <td>2411205997</td>\n",
       "      <td>3202148071</td>\n",
       "      <td>1238839469</td>\n",
       "      <td>...</td>\n",
       "      <td>1</td>\n",
       "      <td>1</td>\n",
       "      <td>0</td>\n",
       "      <td>0</td>\n",
       "      <td>0</td>\n",
       "      <td>0</td>\n",
       "      <td>NaN</td>\n",
       "      <td>NaN</td>\n",
       "      <td>NaN</td>\n",
       "      <td>0.0</td>\n",
       "    </tr>\n",
       "    <tr>\n",
       "      <th>2</th>\n",
       "      <td>2</td>\n",
       "      <td>0</td>\n",
       "      <td>5</td>\n",
       "      <td>20</td>\n",
       "      <td>2581703001</td>\n",
       "      <td>1862037199</td>\n",
       "      <td>2448089184</td>\n",
       "      <td>2411205997</td>\n",
       "      <td>1107442947</td>\n",
       "      <td>3668889797</td>\n",
       "      <td>...</td>\n",
       "      <td>0</td>\n",
       "      <td>0</td>\n",
       "      <td>0</td>\n",
       "      <td>0</td>\n",
       "      <td>1</td>\n",
       "      <td>0</td>\n",
       "      <td>NaN</td>\n",
       "      <td>NaN</td>\n",
       "      <td>NaN</td>\n",
       "      <td>117.0</td>\n",
       "    </tr>\n",
       "    <tr>\n",
       "      <th>3</th>\n",
       "      <td>3</td>\n",
       "      <td>0</td>\n",
       "      <td>5</td>\n",
       "      <td>20</td>\n",
       "      <td>421256035</td>\n",
       "      <td>3874378935</td>\n",
       "      <td>1658216424</td>\n",
       "      <td>2298910535</td>\n",
       "      <td>2321672976</td>\n",
       "      <td>1509930964</td>\n",
       "      <td>...</td>\n",
       "      <td>0</td>\n",
       "      <td>0</td>\n",
       "      <td>0</td>\n",
       "      <td>0</td>\n",
       "      <td>0</td>\n",
       "      <td>0</td>\n",
       "      <td>6.0</td>\n",
       "      <td>6.0</td>\n",
       "      <td>34501.0</td>\n",
       "      <td>390.0</td>\n",
       "    </tr>\n",
       "    <tr>\n",
       "      <th>4</th>\n",
       "      <td>4</td>\n",
       "      <td>1</td>\n",
       "      <td>5</td>\n",
       "      <td>20</td>\n",
       "      <td>421256035</td>\n",
       "      <td>3874378935</td>\n",
       "      <td>1892769125</td>\n",
       "      <td>2411205997</td>\n",
       "      <td>2321672976</td>\n",
       "      <td>1509930964</td>\n",
       "      <td>...</td>\n",
       "      <td>0</td>\n",
       "      <td>0</td>\n",
       "      <td>0</td>\n",
       "      <td>0</td>\n",
       "      <td>0</td>\n",
       "      <td>0</td>\n",
       "      <td>1.0</td>\n",
       "      <td>31.0</td>\n",
       "      <td>12557.0</td>\n",
       "      <td>390.0</td>\n",
       "    </tr>\n",
       "  </tbody>\n",
       "</table>\n",
       "<p>5 rows × 22 columns</p>\n",
       "</div>"
      ],
      "text/plain": [
       "   id  click  I1  I2          C1          C2          C3          C4  \\\n",
       "0   0      0   5  20   421256035  2377199148  2696211399  2298910535   \n",
       "1   1      0   5  20  2581703001  2589684548  1998340283  2411205997   \n",
       "2   2      0   5  20  2581703001  1862037199  2448089184  2411205997   \n",
       "3   3      0   5  20   421256035  3874378935  1658216424  2298910535   \n",
       "4   4      1   5  20   421256035  3874378935  1892769125  2411205997   \n",
       "\n",
       "           C5          C6  ...  I5  I6  I7  I8  I9  I10  I11   I12      I13  \\\n",
       "0  3133252034  1509930964  ...   0   0   0   0   0    0  NaN   NaN      NaN   \n",
       "1  3202148071  1238839469  ...   1   1   0   0   0    0  NaN   NaN      NaN   \n",
       "2  1107442947  3668889797  ...   0   0   0   0   1    0  NaN   NaN      NaN   \n",
       "3  2321672976  1509930964  ...   0   0   0   0   0    0  6.0   6.0  34501.0   \n",
       "4  2321672976  1509930964  ...   0   0   0   0   0    0  1.0  31.0  12557.0   \n",
       "\n",
       "     I14  \n",
       "0  780.0  \n",
       "1    0.0  \n",
       "2  117.0  \n",
       "3  390.0  \n",
       "4  390.0  \n",
       "\n",
       "[5 rows x 22 columns]"
      ]
     },
     "execution_count": 3,
     "metadata": {},
     "output_type": "execute_result"
    }
   ],
   "source": [
    "train_data.head()"
   ]
  },
  {
   "cell_type": "code",
   "execution_count": 4,
   "metadata": {},
   "outputs": [
    {
     "data": {
      "text/html": [
       "<div>\n",
       "<style scoped>\n",
       "    .dataframe tbody tr th:only-of-type {\n",
       "        vertical-align: middle;\n",
       "    }\n",
       "\n",
       "    .dataframe tbody tr th {\n",
       "        vertical-align: top;\n",
       "    }\n",
       "\n",
       "    .dataframe thead th {\n",
       "        text-align: right;\n",
       "    }\n",
       "</style>\n",
       "<table border=\"1\" class=\"dataframe\">\n",
       "  <thead>\n",
       "    <tr style=\"text-align: right;\">\n",
       "      <th></th>\n",
       "      <th>id</th>\n",
       "      <th>click</th>\n",
       "      <th>I1</th>\n",
       "      <th>I2</th>\n",
       "      <th>C1</th>\n",
       "      <th>C2</th>\n",
       "      <th>C3</th>\n",
       "      <th>C4</th>\n",
       "      <th>C5</th>\n",
       "      <th>C6</th>\n",
       "      <th>...</th>\n",
       "      <th>I5</th>\n",
       "      <th>I6</th>\n",
       "      <th>I7</th>\n",
       "      <th>I8</th>\n",
       "      <th>I9</th>\n",
       "      <th>I10</th>\n",
       "      <th>I11</th>\n",
       "      <th>I12</th>\n",
       "      <th>I13</th>\n",
       "      <th>I14</th>\n",
       "    </tr>\n",
       "  </thead>\n",
       "  <tbody>\n",
       "    <tr>\n",
       "      <th>1169037</th>\n",
       "      <td>1169037</td>\n",
       "      <td>0</td>\n",
       "      <td>4</td>\n",
       "      <td>19</td>\n",
       "      <td>421256035</td>\n",
       "      <td>3874378935</td>\n",
       "      <td>1892769125</td>\n",
       "      <td>2411205997</td>\n",
       "      <td>2321672976</td>\n",
       "      <td>1509930964</td>\n",
       "      <td>...</td>\n",
       "      <td>0</td>\n",
       "      <td>0</td>\n",
       "      <td>0</td>\n",
       "      <td>0</td>\n",
       "      <td>0</td>\n",
       "      <td>0</td>\n",
       "      <td>2.0</td>\n",
       "      <td>2.0</td>\n",
       "      <td>9351.0</td>\n",
       "      <td>390.0</td>\n",
       "    </tr>\n",
       "    <tr>\n",
       "      <th>1169038</th>\n",
       "      <td>1169038</td>\n",
       "      <td>0</td>\n",
       "      <td>4</td>\n",
       "      <td>19</td>\n",
       "      <td>421256035</td>\n",
       "      <td>3874378935</td>\n",
       "      <td>98956388</td>\n",
       "      <td>1332932160</td>\n",
       "      <td>2321672976</td>\n",
       "      <td>1509930964</td>\n",
       "      <td>...</td>\n",
       "      <td>0</td>\n",
       "      <td>0</td>\n",
       "      <td>0</td>\n",
       "      <td>0</td>\n",
       "      <td>0</td>\n",
       "      <td>1</td>\n",
       "      <td>623.0</td>\n",
       "      <td>35.0</td>\n",
       "      <td>248.0</td>\n",
       "      <td>390.0</td>\n",
       "    </tr>\n",
       "    <tr>\n",
       "      <th>1169039</th>\n",
       "      <td>1169039</td>\n",
       "      <td>0</td>\n",
       "      <td>4</td>\n",
       "      <td>19</td>\n",
       "      <td>421256035</td>\n",
       "      <td>3874378935</td>\n",
       "      <td>98956388</td>\n",
       "      <td>1332932160</td>\n",
       "      <td>2321672976</td>\n",
       "      <td>1509930964</td>\n",
       "      <td>...</td>\n",
       "      <td>0</td>\n",
       "      <td>0</td>\n",
       "      <td>0</td>\n",
       "      <td>0</td>\n",
       "      <td>0</td>\n",
       "      <td>0</td>\n",
       "      <td>4.0</td>\n",
       "      <td>2.0</td>\n",
       "      <td>646404.0</td>\n",
       "      <td>390.0</td>\n",
       "    </tr>\n",
       "    <tr>\n",
       "      <th>1169040</th>\n",
       "      <td>1169040</td>\n",
       "      <td>0</td>\n",
       "      <td>4</td>\n",
       "      <td>19</td>\n",
       "      <td>3651044092</td>\n",
       "      <td>1862037199</td>\n",
       "      <td>2448089184</td>\n",
       "      <td>2411205997</td>\n",
       "      <td>4028731966</td>\n",
       "      <td>2068230268</td>\n",
       "      <td>...</td>\n",
       "      <td>0</td>\n",
       "      <td>0</td>\n",
       "      <td>0</td>\n",
       "      <td>0</td>\n",
       "      <td>0</td>\n",
       "      <td>0</td>\n",
       "      <td>NaN</td>\n",
       "      <td>NaN</td>\n",
       "      <td>NaN</td>\n",
       "      <td>13.0</td>\n",
       "    </tr>\n",
       "    <tr>\n",
       "      <th>1169041</th>\n",
       "      <td>1169041</td>\n",
       "      <td>0</td>\n",
       "      <td>4</td>\n",
       "      <td>19</td>\n",
       "      <td>421256035</td>\n",
       "      <td>3263006221</td>\n",
       "      <td>1317633392</td>\n",
       "      <td>1825710598</td>\n",
       "      <td>2456844420</td>\n",
       "      <td>1479325723</td>\n",
       "      <td>...</td>\n",
       "      <td>0</td>\n",
       "      <td>0</td>\n",
       "      <td>0</td>\n",
       "      <td>0</td>\n",
       "      <td>0</td>\n",
       "      <td>0</td>\n",
       "      <td>9.0</td>\n",
       "      <td>1.0</td>\n",
       "      <td>1043452.0</td>\n",
       "      <td>325.0</td>\n",
       "    </tr>\n",
       "  </tbody>\n",
       "</table>\n",
       "<p>5 rows × 22 columns</p>\n",
       "</div>"
      ],
      "text/plain": [
       "              id  click  I1  I2          C1          C2          C3  \\\n",
       "1169037  1169037      0   4  19   421256035  3874378935  1892769125   \n",
       "1169038  1169038      0   4  19   421256035  3874378935    98956388   \n",
       "1169039  1169039      0   4  19   421256035  3874378935    98956388   \n",
       "1169040  1169040      0   4  19  3651044092  1862037199  2448089184   \n",
       "1169041  1169041      0   4  19   421256035  3263006221  1317633392   \n",
       "\n",
       "                 C4          C5          C6  ...  I5  I6  I7  I8  I9  I10  \\\n",
       "1169037  2411205997  2321672976  1509930964  ...   0   0   0   0   0    0   \n",
       "1169038  1332932160  2321672976  1509930964  ...   0   0   0   0   0    1   \n",
       "1169039  1332932160  2321672976  1509930964  ...   0   0   0   0   0    0   \n",
       "1169040  2411205997  4028731966  2068230268  ...   0   0   0   0   0    0   \n",
       "1169041  1825710598  2456844420  1479325723  ...   0   0   0   0   0    0   \n",
       "\n",
       "           I11   I12        I13    I14  \n",
       "1169037    2.0   2.0     9351.0  390.0  \n",
       "1169038  623.0  35.0      248.0  390.0  \n",
       "1169039    4.0   2.0   646404.0  390.0  \n",
       "1169040    NaN   NaN        NaN   13.0  \n",
       "1169041    9.0   1.0  1043452.0  325.0  \n",
       "\n",
       "[5 rows x 22 columns]"
      ]
     },
     "execution_count": 4,
     "metadata": {},
     "output_type": "execute_result"
    }
   ],
   "source": [
    "train_data.tail()"
   ]
  },
  {
   "cell_type": "code",
   "execution_count": 5,
   "metadata": {},
   "outputs": [
    {
     "data": {
      "text/plain": [
       "       C1        \n",
       "id     421256035     766892\n",
       "       1045405899     14878\n",
       "       1111213504     15559\n",
       "       2068315619      5128\n",
       "       2387281372     30345\n",
       "       2541535031     21625\n",
       "       2581703001    227591\n",
       "       2686811630     33122\n",
       "       3651044092     53902\n",
       "click  421256035     766892\n",
       "       1045405899     14878\n",
       "       1111213504     15559\n",
       "       2068315619      5128\n",
       "       2387281372     30345\n",
       "       2541535031     21625\n",
       "       2581703001    227591\n",
       "       2686811630     33122\n",
       "       3651044092     53902\n",
       "I1     421256035     766892\n",
       "       1045405899     14878\n",
       "       1111213504     15559\n",
       "       2068315619      5128\n",
       "       2387281372     30345\n",
       "       2541535031     21625\n",
       "       2581703001    227591\n",
       "       2686811630     33122\n",
       "       3651044092     53902\n",
       "I2     421256035     766892\n",
       "       1045405899     14878\n",
       "       1111213504     15559\n",
       "                      ...  \n",
       "I11    2581703001    181731\n",
       "       2686811630     23355\n",
       "       3651044092     38130\n",
       "I12    421256035     678831\n",
       "       1045405899      9627\n",
       "       1111213504      9532\n",
       "       2068315619      3953\n",
       "       2387281372     19812\n",
       "       2541535031     16783\n",
       "       2581703001    181731\n",
       "       2686811630     23355\n",
       "       3651044092     38130\n",
       "I13    421256035     678831\n",
       "       1045405899      9627\n",
       "       1111213504      9532\n",
       "       2068315619      3953\n",
       "       2387281372     19812\n",
       "       2541535031     16783\n",
       "       2581703001    181731\n",
       "       2686811630     23355\n",
       "       3651044092     38130\n",
       "I14    421256035     766723\n",
       "       1045405899     13611\n",
       "       1111213504     14273\n",
       "       2068315619      4504\n",
       "       2387281372     27749\n",
       "       2541535031     18688\n",
       "       2581703001    205071\n",
       "       2686811630     29295\n",
       "       3651044092     49508\n",
       "Length: 189, dtype: int64"
      ]
     },
     "execution_count": 5,
     "metadata": {},
     "output_type": "execute_result"
    }
   ],
   "source": [
    "train_data.groupby('C1').count().unstack()"
   ]
  },
  {
   "cell_type": "code",
   "execution_count": 6,
   "metadata": {},
   "outputs": [
    {
     "data": {
      "text/plain": [
       "     C2        \n",
       "id   53932946         153\n",
       "     71293199       11929\n",
       "     102346738       6576\n",
       "     155193773          1\n",
       "     189706718         61\n",
       "     192106456        275\n",
       "     228048336          9\n",
       "     266672125       1855\n",
       "     280395364         77\n",
       "     330730226       2286\n",
       "     344257135       2321\n",
       "     363130183         11\n",
       "     364377489       5196\n",
       "     395799033         43\n",
       "     421256035       8012\n",
       "     450817360         18\n",
       "     552338065       2836\n",
       "     585333929       1121\n",
       "     600687045       1013\n",
       "     668442991        608\n",
       "     693765660        262\n",
       "     712451701       5494\n",
       "     727692042       6421\n",
       "     749836023       4394\n",
       "     750939299       1510\n",
       "     760127602        284\n",
       "     762407002          8\n",
       "     785241772        984\n",
       "     805769945        142\n",
       "     860314843          6\n",
       "                    ...  \n",
       "I14  3353718864        18\n",
       "     3404861148       480\n",
       "     3447893652        82\n",
       "     3454097143       158\n",
       "     3483209424       599\n",
       "     3585793711       151\n",
       "     3621862963       453\n",
       "     3684013252      1536\n",
       "     3693842864      1408\n",
       "     3715974020      1551\n",
       "     3741850176      4805\n",
       "     3745222443       181\n",
       "     3752627377        60\n",
       "     3755866630      2386\n",
       "     3831111254      5101\n",
       "     3874378935    301238\n",
       "     3879565796       332\n",
       "     3917013651       147\n",
       "     3954817824      7932\n",
       "     3978486381        24\n",
       "     4075744428        41\n",
       "     4076926804       185\n",
       "     4079531040       754\n",
       "     4093475157      1803\n",
       "     4110645563       570\n",
       "     4122647904        47\n",
       "     4180367987        17\n",
       "     4212447203      3300\n",
       "     4214164422        24\n",
       "     4218831626        45\n",
       "Length: 3591, dtype: int64"
      ]
     },
     "execution_count": 6,
     "metadata": {},
     "output_type": "execute_result"
    }
   ],
   "source": [
    "train_data.groupby('C2').count().unstack()"
   ]
  },
  {
   "cell_type": "code",
   "execution_count": 7,
   "metadata": {},
   "outputs": [],
   "source": [
    "import matplotlib.pyplot as plt\n",
    "import numpy as np"
   ]
  },
  {
   "cell_type": "code",
   "execution_count": 8,
   "metadata": {},
   "outputs": [
    {
     "name": "stdout",
     "output_type": "stream",
     "text": [
      "<class 'pandas.core.frame.DataFrame'>\n",
      "RangeIndex: 1169042 entries, 0 to 1169041\n",
      "Data columns (total 22 columns):\n",
      "id       1169042 non-null int64\n",
      "click    1169042 non-null int64\n",
      "I1       1169042 non-null int64\n",
      "I2       1169042 non-null int64\n",
      "C1       1169042 non-null int64\n",
      "C2       1169042 non-null int64\n",
      "C3       1169042 non-null int64\n",
      "C4       1169042 non-null int64\n",
      "C5       1169042 non-null int64\n",
      "C6       1169042 non-null int64\n",
      "I3       1169042 non-null int64\n",
      "I4       1169042 non-null int64\n",
      "I5       1169042 non-null int64\n",
      "I6       1169042 non-null int64\n",
      "I7       1169042 non-null int64\n",
      "I8       1169042 non-null int64\n",
      "I9       1169042 non-null int64\n",
      "I10      1169042 non-null int64\n",
      "I11      981754 non-null float64\n",
      "I12      981754 non-null float64\n",
      "I13      981754 non-null float64\n",
      "I14      1129422 non-null float64\n",
      "dtypes: float64(4), int64(18)\n",
      "memory usage: 196.2 MB\n"
     ]
    }
   ],
   "source": [
    "train_data.info()"
   ]
  },
  {
   "cell_type": "code",
   "execution_count": 9,
   "metadata": {},
   "outputs": [
    {
     "data": {
      "text/plain": [
       "id            0\n",
       "click         0\n",
       "I1            0\n",
       "I2            0\n",
       "C1            0\n",
       "C2            0\n",
       "C3            0\n",
       "C4            0\n",
       "C5            0\n",
       "C6            0\n",
       "I3            0\n",
       "I4            0\n",
       "I5            0\n",
       "I6            0\n",
       "I7            0\n",
       "I8            0\n",
       "I9            0\n",
       "I10           0\n",
       "I11      187288\n",
       "I12      187288\n",
       "I13      187288\n",
       "I14       39620\n",
       "dtype: int64"
      ]
     },
     "execution_count": 9,
     "metadata": {},
     "output_type": "execute_result"
    }
   ],
   "source": [
    "train_data.isnull().sum()"
   ]
  },
  {
   "cell_type": "code",
   "execution_count": 10,
   "metadata": {},
   "outputs": [
    {
     "data": {
      "text/plain": [
       "(1169042, 22)"
      ]
     },
     "execution_count": 10,
     "metadata": {},
     "output_type": "execute_result"
    }
   ],
   "source": [
    "train_data.shape"
   ]
  },
  {
   "cell_type": "code",
   "execution_count": 11,
   "metadata": {},
   "outputs": [
    {
     "data": {
      "text/plain": [
       "Index(['id', 'click', 'I1', 'I2', 'C1', 'C2', 'C3', 'C4', 'C5', 'C6', 'I3',\n",
       "       'I4', 'I5', 'I6', 'I7', 'I8', 'I9', 'I10', 'I11', 'I12', 'I13', 'I14'],\n",
       "      dtype='object')"
      ]
     },
     "execution_count": 11,
     "metadata": {},
     "output_type": "execute_result"
    }
   ],
   "source": [
    "train_data.columns"
   ]
  },
  {
   "cell_type": "code",
   "execution_count": 12,
   "metadata": {},
   "outputs": [],
   "source": [
    "train = train_data\n",
    "train = pd.DataFrame(train)"
   ]
  },
  {
   "cell_type": "code",
   "execution_count": 13,
   "metadata": {},
   "outputs": [
    {
     "data": {
      "text/plain": [
       "421256035     766892\n",
       "2581703001    227591\n",
       "3651044092     53902\n",
       "2686811630     33122\n",
       "2387281372     30345\n",
       "2541535031     21625\n",
       "1111213504     15559\n",
       "1045405899     14878\n",
       "2068315619      5128\n",
       "Name: C1, dtype: int64"
      ]
     },
     "execution_count": 13,
     "metadata": {},
     "output_type": "execute_result"
    }
   ],
   "source": [
    "train['C1'].value_counts()"
   ]
  },
  {
   "cell_type": "code",
   "execution_count": 14,
   "metadata": {},
   "outputs": [],
   "source": [
    "import seaborn as sns "
   ]
  },
  {
   "cell_type": "code",
   "execution_count": 15,
   "metadata": {},
   "outputs": [],
   "source": [
    "#閾値を決めて頻度が少ない値をNaNに置き換える\n",
    "df_c1 = pd.DataFrame(train['C1'])\n",
    "threshold = 30000\n",
    "value_counts = df_c1.stack().value_counts()\n",
    "to_remove = value_counts[value_counts <=threshold].index\n",
    "df_c1.replace(to_remove,np.nan,inplace=True)"
   ]
  },
  {
   "cell_type": "code",
   "execution_count": 16,
   "metadata": {},
   "outputs": [
    {
     "name": "stdout",
     "output_type": "stream",
     "text": [
      "(1169042,)\n",
      "0          4.212560e+08\n",
      "1          2.581703e+09\n",
      "2          2.581703e+09\n",
      "3          4.212560e+08\n",
      "4          4.212560e+08\n",
      "5          4.212560e+08\n",
      "6          2.581703e+09\n",
      "7          4.212560e+08\n",
      "8          4.212560e+08\n",
      "9          4.212560e+08\n",
      "10         2.581703e+09\n",
      "11         4.212560e+08\n",
      "12         3.651044e+09\n",
      "13         4.212560e+08\n",
      "14         4.212560e+08\n",
      "15         3.651044e+09\n",
      "16         4.212560e+08\n",
      "17         3.651044e+09\n",
      "18         4.212560e+08\n",
      "19         4.212560e+08\n",
      "20         4.212560e+08\n",
      "21         2.686812e+09\n",
      "22         4.212560e+08\n",
      "23         4.212560e+08\n",
      "24         4.212560e+08\n",
      "25         4.212560e+08\n",
      "26                  NaN\n",
      "27         4.212560e+08\n",
      "28         2.581703e+09\n",
      "29         2.581703e+09\n",
      "               ...     \n",
      "1169012    4.212560e+08\n",
      "1169013    4.212560e+08\n",
      "1169014    4.212560e+08\n",
      "1169015    4.212560e+08\n",
      "1169016    4.212560e+08\n",
      "1169017    4.212560e+08\n",
      "1169018    4.212560e+08\n",
      "1169019    4.212560e+08\n",
      "1169020    4.212560e+08\n",
      "1169021    4.212560e+08\n",
      "1169022    4.212560e+08\n",
      "1169023    4.212560e+08\n",
      "1169024             NaN\n",
      "1169025    4.212560e+08\n",
      "1169026    4.212560e+08\n",
      "1169027    4.212560e+08\n",
      "1169028    4.212560e+08\n",
      "1169029    4.212560e+08\n",
      "1169030    4.212560e+08\n",
      "1169031    4.212560e+08\n",
      "1169032    4.212560e+08\n",
      "1169033    2.686812e+09\n",
      "1169034    4.212560e+08\n",
      "1169035    4.212560e+08\n",
      "1169036    4.212560e+08\n",
      "1169037    4.212560e+08\n",
      "1169038    4.212560e+08\n",
      "1169039    4.212560e+08\n",
      "1169040    3.651044e+09\n",
      "1169041    4.212560e+08\n",
      "Name: C1, Length: 1169042, dtype: float64\n"
     ]
    },
    {
     "data": {
      "image/png": "[encoded data removed]",
      "text/plain": [
       "<Figure size 432x288 with 1 Axes>"
      ]
     },
     "metadata": {
      "needs_background": "light"
     },
     "output_type": "display_data"
    }
   ],
   "source": [
    "sns.countplot(df_c1['C1'])\n",
    "print(df_c1['C1'].shape)\n",
    "print(df_c1['C1'])"
   ]
  },
  {
   "cell_type": "code",
   "execution_count": 17,
   "metadata": {},
   "outputs": [],
   "source": [
    "df_c1['C1']=pd.get_dummies(df_c1['C1'])"
   ]
  },
  {
   "cell_type": "markdown",
   "metadata": {},
   "source": [
    "何かしらのカテゴリ分けされていたのでダミー化した"
   ]
  },
  {
   "cell_type": "code",
   "execution_count": 18,
   "metadata": {},
   "outputs": [
    {
     "data": {
      "text/plain": [
       "<matplotlib.axes._subplots.AxesSubplot at 0x253821014e0>"
      ]
     },
     "execution_count": 18,
     "metadata": {},
     "output_type": "execute_result"
    },
    {
     "data": {
      "image/png": "[encoded data removed]",
      "text/plain": [
       "<Figure size 432x288 with 1 Axes>"
      ]
     },
     "metadata": {
      "needs_background": "light"
     },
     "output_type": "display_data"
    }
   ],
   "source": [
    "sns.countplot(df_c1['C1'])"
   ]
  },
  {
   "cell_type": "code",
   "execution_count": 19,
   "metadata": {},
   "outputs": [
    {
     "data": {
      "text/plain": [
       "<matplotlib.axes._subplots.AxesSubplot at 0x253820f43c8>"
      ]
     },
     "execution_count": 19,
     "metadata": {},
     "output_type": "execute_result"
    },
    {
     "data": {
      "image/png": "[encoded data removed]",
      "text/plain": [
       "<Figure size 432x288 with 1 Axes>"
      ]
     },
     "metadata": {
      "needs_background": "light"
     },
     "output_type": "display_data"
    }
   ],
   "source": [
    "#C2についても同様に行う\n",
    "sns.countplot(train['C2'])"
   ]
  },
  {
   "cell_type": "code",
   "execution_count": 20,
   "metadata": {
    "scrolled": true
   },
   "outputs": [
    {
     "data": {
      "text/plain": [
       "3874378935    301238\n",
       "1862037199    259814\n",
       "2589684548    143799\n",
       "1537671376    108640\n",
       "1088910726     97224\n",
       "Name: C2, dtype: int64"
      ]
     },
     "execution_count": 20,
     "metadata": {},
     "output_type": "execute_result"
    }
   ],
   "source": [
    "train['C2'].value_counts().head(5)"
   ]
  },
  {
   "cell_type": "code",
   "execution_count": 21,
   "metadata": {},
   "outputs": [],
   "source": [
    "#閾値を決めて頻度が少ない値をNaNに置き換える\n",
    "df_c2 = pd.DataFrame(train['C2'])\n",
    "threshold = 90000\n",
    "value_counts = df_c2.stack().value_counts()\n",
    "to_remove = value_counts[value_counts <=threshold].index\n",
    "df_c2.replace(to_remove,np.nan,inplace=True)\n",
    "\n",
    "df_c2['C2']=pd.get_dummies(df_c2['C2'])"
   ]
  },
  {
   "cell_type": "code",
   "execution_count": 22,
   "metadata": {},
   "outputs": [
    {
     "data": {
      "text/plain": [
       "<matplotlib.axes._subplots.AxesSubplot at 0x253820a7550>"
      ]
     },
     "execution_count": 22,
     "metadata": {},
     "output_type": "execute_result"
    },
    {
     "data": {
      "image/png": "[encoded data removed]",
      "text/plain": [
       "<Figure size 432x288 with 1 Axes>"
      ]
     },
     "metadata": {
      "needs_background": "light"
     },
     "output_type": "display_data"
    }
   ],
   "source": [
    "#C3についても同様に行う\n",
    "sns.countplot(train['C3'])"
   ]
  },
  {
   "cell_type": "code",
   "execution_count": 23,
   "metadata": {},
   "outputs": [
    {
     "data": {
      "text/plain": [
       "1892769125    159439\n",
       "2448089184    156193\n",
       "3260269773     75530\n",
       "1998340283     75144\n",
       "98956388       73953\n",
       "189706718      57000\n",
       "Name: C3, dtype: int64"
      ]
     },
     "execution_count": 23,
     "metadata": {},
     "output_type": "execute_result"
    }
   ],
   "source": [
    "train['C3'].value_counts(sort=True).head(6)"
   ]
  },
  {
   "cell_type": "code",
   "execution_count": 24,
   "metadata": {},
   "outputs": [],
   "source": [
    "#閾値を決めて頻度が少ない値をNaNに置き換える\n",
    "df_c3 = pd.DataFrame(train['C3'])\n",
    "threshold = 70000\n",
    "value_counts = df_c3.stack().value_counts()\n",
    "to_remove = value_counts[value_counts <=threshold].index\n",
    "df_c3.replace(to_remove,np.nan,inplace=True)\n",
    "\n",
    "df_c3['C3']=pd.get_dummies(df_c3['C3'])"
   ]
  },
  {
   "cell_type": "code",
   "execution_count": 25,
   "metadata": {},
   "outputs": [
    {
     "data": {
      "text/plain": [
       "<matplotlib.axes._subplots.AxesSubplot at 0x253830b6b38>"
      ]
     },
     "execution_count": 25,
     "metadata": {},
     "output_type": "execute_result"
    },
    {
     "data": {
      "image/png": "[encoded data removed]",
      "text/plain": [
       "<Figure size 432x288 with 1 Axes>"
      ]
     },
     "metadata": {
      "needs_background": "light"
     },
     "output_type": "display_data"
    }
   ],
   "source": [
    "#C4についても同様に\n",
    "sns.countplot(train['C4'])\n"
   ]
  },
  {
   "cell_type": "code",
   "execution_count": 26,
   "metadata": {},
   "outputs": [
    {
     "data": {
      "text/plain": [
       "2411205997    598220\n",
       "2298910535    311713\n",
       "1332932160    162183\n",
       "1825710598     78003\n",
       "400122826      12993\n",
       "3954817824      5785\n",
       "Name: C4, dtype: int64"
      ]
     },
     "execution_count": 26,
     "metadata": {},
     "output_type": "execute_result"
    }
   ],
   "source": [
    "train['C4'].value_counts().head(6)"
   ]
  },
  {
   "cell_type": "markdown",
   "metadata": {},
   "source": [
    "4位以下はいらない感"
   ]
  },
  {
   "cell_type": "code",
   "execution_count": 27,
   "metadata": {},
   "outputs": [],
   "source": [
    "#閾値を決めて頻度が少ない値をNaNに置き換える\n",
    "df_c4 = pd.DataFrame(train['C4'])\n",
    "threshold = 160000\n",
    "value_counts = df_c4.stack().value_counts()\n",
    "to_remove = value_counts[value_counts <=threshold].index\n",
    "df_c4.replace(to_remove,np.nan,inplace=True)\n",
    "\n",
    "df_c4['C4']=pd.get_dummies(df_c4['C4'])"
   ]
  },
  {
   "cell_type": "code",
   "execution_count": 28,
   "metadata": {},
   "outputs": [
    {
     "data": {
      "text/plain": [
       "2321672976    401591\n",
       "1410458339    140362\n",
       "476085660     110843\n",
       "2456844420     44425\n",
       "3202148071     23032\n",
       "2078330963     20930\n",
       "Name: C5, dtype: int64"
      ]
     },
     "execution_count": 28,
     "metadata": {},
     "output_type": "execute_result"
    }
   ],
   "source": [
    "#C5についても同様に\n",
    "train['C5'].value_counts().head(6)"
   ]
  },
  {
   "cell_type": "markdown",
   "metadata": {},
   "source": [
    "4位以下はいらない"
   ]
  },
  {
   "cell_type": "code",
   "execution_count": 29,
   "metadata": {
    "scrolled": true
   },
   "outputs": [],
   "source": [
    "#閾値を決めて頻度が少ない値をNaNに置き換える\n",
    "df_c5 = pd.DataFrame(train['C5'])\n",
    "threshold = 110000\n",
    "value_counts = df_c5.stack().value_counts()\n",
    "to_remove = value_counts[value_counts <=threshold].index\n",
    "df_c5.replace(to_remove,np.nan,inplace=True)\n",
    "\n",
    "df_c5['C5']=pd.get_dummies(df_c5['C5'])"
   ]
  },
  {
   "cell_type": "code",
   "execution_count": 30,
   "metadata": {},
   "outputs": [
    {
     "data": {
      "text/plain": [
       "<matplotlib.axes._subplots.AxesSubplot at 0x25382f11ac8>"
      ]
     },
     "execution_count": 30,
     "metadata": {},
     "output_type": "execute_result"
    },
    {
     "data": {
      "image/png": "[encoded data removed]",
      "text/plain": [
       "<Figure size 432x288 with 1 Axes>"
      ]
     },
     "metadata": {
      "needs_background": "light"
     },
     "output_type": "display_data"
    }
   ],
   "source": [
    "sns.countplot(df_c5['C5'])\n",
    "\n"
   ]
  },
  {
   "cell_type": "code",
   "execution_count": 31,
   "metadata": {},
   "outputs": [
    {
     "data": {
      "text/plain": [
       "1509930964    422105\n",
       "3668889797    199356\n",
       "2068230268    184139\n",
       "3111151614    123799\n",
       "1479325723     79423\n",
       "147733495      39550\n",
       "Name: C6, dtype: int64"
      ]
     },
     "execution_count": 31,
     "metadata": {},
     "output_type": "execute_result"
    }
   ],
   "source": [
    "#C6についても同様に\n",
    "train['C6'].value_counts().head(6)"
   ]
  },
  {
   "cell_type": "markdown",
   "metadata": {},
   "source": [
    "5位以下を捨てる"
   ]
  },
  {
   "cell_type": "code",
   "execution_count": 32,
   "metadata": {},
   "outputs": [
    {
     "data": {
      "text/html": [
       "<div>\n",
       "<style scoped>\n",
       "    .dataframe tbody tr th:only-of-type {\n",
       "        vertical-align: middle;\n",
       "    }\n",
       "\n",
       "    .dataframe tbody tr th {\n",
       "        vertical-align: top;\n",
       "    }\n",
       "\n",
       "    .dataframe thead th {\n",
       "        text-align: right;\n",
       "    }\n",
       "</style>\n",
       "<table border=\"1\" class=\"dataframe\">\n",
       "  <thead>\n",
       "    <tr style=\"text-align: right;\">\n",
       "      <th></th>\n",
       "      <th>1509930964.0</th>\n",
       "      <th>2068230268.0</th>\n",
       "      <th>3111151614.0</th>\n",
       "      <th>3668889797.0</th>\n",
       "    </tr>\n",
       "  </thead>\n",
       "  <tbody>\n",
       "    <tr>\n",
       "      <th>0</th>\n",
       "      <td>1</td>\n",
       "      <td>0</td>\n",
       "      <td>0</td>\n",
       "      <td>0</td>\n",
       "    </tr>\n",
       "    <tr>\n",
       "      <th>1</th>\n",
       "      <td>0</td>\n",
       "      <td>0</td>\n",
       "      <td>0</td>\n",
       "      <td>0</td>\n",
       "    </tr>\n",
       "    <tr>\n",
       "      <th>2</th>\n",
       "      <td>0</td>\n",
       "      <td>0</td>\n",
       "      <td>0</td>\n",
       "      <td>1</td>\n",
       "    </tr>\n",
       "    <tr>\n",
       "      <th>3</th>\n",
       "      <td>1</td>\n",
       "      <td>0</td>\n",
       "      <td>0</td>\n",
       "      <td>0</td>\n",
       "    </tr>\n",
       "    <tr>\n",
       "      <th>4</th>\n",
       "      <td>1</td>\n",
       "      <td>0</td>\n",
       "      <td>0</td>\n",
       "      <td>0</td>\n",
       "    </tr>\n",
       "    <tr>\n",
       "      <th>5</th>\n",
       "      <td>0</td>\n",
       "      <td>0</td>\n",
       "      <td>0</td>\n",
       "      <td>1</td>\n",
       "    </tr>\n",
       "    <tr>\n",
       "      <th>6</th>\n",
       "      <td>0</td>\n",
       "      <td>0</td>\n",
       "      <td>1</td>\n",
       "      <td>0</td>\n",
       "    </tr>\n",
       "    <tr>\n",
       "      <th>7</th>\n",
       "      <td>0</td>\n",
       "      <td>0</td>\n",
       "      <td>0</td>\n",
       "      <td>1</td>\n",
       "    </tr>\n",
       "    <tr>\n",
       "      <th>8</th>\n",
       "      <td>1</td>\n",
       "      <td>0</td>\n",
       "      <td>0</td>\n",
       "      <td>0</td>\n",
       "    </tr>\n",
       "    <tr>\n",
       "      <th>9</th>\n",
       "      <td>1</td>\n",
       "      <td>0</td>\n",
       "      <td>0</td>\n",
       "      <td>0</td>\n",
       "    </tr>\n",
       "    <tr>\n",
       "      <th>10</th>\n",
       "      <td>0</td>\n",
       "      <td>0</td>\n",
       "      <td>0</td>\n",
       "      <td>1</td>\n",
       "    </tr>\n",
       "    <tr>\n",
       "      <th>11</th>\n",
       "      <td>1</td>\n",
       "      <td>0</td>\n",
       "      <td>0</td>\n",
       "      <td>0</td>\n",
       "    </tr>\n",
       "    <tr>\n",
       "      <th>12</th>\n",
       "      <td>0</td>\n",
       "      <td>0</td>\n",
       "      <td>0</td>\n",
       "      <td>0</td>\n",
       "    </tr>\n",
       "    <tr>\n",
       "      <th>13</th>\n",
       "      <td>1</td>\n",
       "      <td>0</td>\n",
       "      <td>0</td>\n",
       "      <td>0</td>\n",
       "    </tr>\n",
       "    <tr>\n",
       "      <th>14</th>\n",
       "      <td>1</td>\n",
       "      <td>0</td>\n",
       "      <td>0</td>\n",
       "      <td>0</td>\n",
       "    </tr>\n",
       "    <tr>\n",
       "      <th>15</th>\n",
       "      <td>0</td>\n",
       "      <td>0</td>\n",
       "      <td>0</td>\n",
       "      <td>1</td>\n",
       "    </tr>\n",
       "    <tr>\n",
       "      <th>16</th>\n",
       "      <td>1</td>\n",
       "      <td>0</td>\n",
       "      <td>0</td>\n",
       "      <td>0</td>\n",
       "    </tr>\n",
       "    <tr>\n",
       "      <th>17</th>\n",
       "      <td>0</td>\n",
       "      <td>0</td>\n",
       "      <td>0</td>\n",
       "      <td>0</td>\n",
       "    </tr>\n",
       "    <tr>\n",
       "      <th>18</th>\n",
       "      <td>0</td>\n",
       "      <td>0</td>\n",
       "      <td>0</td>\n",
       "      <td>0</td>\n",
       "    </tr>\n",
       "    <tr>\n",
       "      <th>19</th>\n",
       "      <td>0</td>\n",
       "      <td>0</td>\n",
       "      <td>0</td>\n",
       "      <td>0</td>\n",
       "    </tr>\n",
       "    <tr>\n",
       "      <th>20</th>\n",
       "      <td>1</td>\n",
       "      <td>0</td>\n",
       "      <td>0</td>\n",
       "      <td>0</td>\n",
       "    </tr>\n",
       "    <tr>\n",
       "      <th>21</th>\n",
       "      <td>0</td>\n",
       "      <td>1</td>\n",
       "      <td>0</td>\n",
       "      <td>0</td>\n",
       "    </tr>\n",
       "    <tr>\n",
       "      <th>22</th>\n",
       "      <td>1</td>\n",
       "      <td>0</td>\n",
       "      <td>0</td>\n",
       "      <td>0</td>\n",
       "    </tr>\n",
       "    <tr>\n",
       "      <th>23</th>\n",
       "      <td>1</td>\n",
       "      <td>0</td>\n",
       "      <td>0</td>\n",
       "      <td>0</td>\n",
       "    </tr>\n",
       "    <tr>\n",
       "      <th>24</th>\n",
       "      <td>0</td>\n",
       "      <td>0</td>\n",
       "      <td>0</td>\n",
       "      <td>1</td>\n",
       "    </tr>\n",
       "    <tr>\n",
       "      <th>25</th>\n",
       "      <td>0</td>\n",
       "      <td>0</td>\n",
       "      <td>0</td>\n",
       "      <td>1</td>\n",
       "    </tr>\n",
       "    <tr>\n",
       "      <th>26</th>\n",
       "      <td>0</td>\n",
       "      <td>0</td>\n",
       "      <td>1</td>\n",
       "      <td>0</td>\n",
       "    </tr>\n",
       "    <tr>\n",
       "      <th>27</th>\n",
       "      <td>1</td>\n",
       "      <td>0</td>\n",
       "      <td>0</td>\n",
       "      <td>0</td>\n",
       "    </tr>\n",
       "    <tr>\n",
       "      <th>28</th>\n",
       "      <td>0</td>\n",
       "      <td>1</td>\n",
       "      <td>0</td>\n",
       "      <td>0</td>\n",
       "    </tr>\n",
       "    <tr>\n",
       "      <th>29</th>\n",
       "      <td>0</td>\n",
       "      <td>0</td>\n",
       "      <td>0</td>\n",
       "      <td>1</td>\n",
       "    </tr>\n",
       "    <tr>\n",
       "      <th>...</th>\n",
       "      <td>...</td>\n",
       "      <td>...</td>\n",
       "      <td>...</td>\n",
       "      <td>...</td>\n",
       "    </tr>\n",
       "    <tr>\n",
       "      <th>1169012</th>\n",
       "      <td>1</td>\n",
       "      <td>0</td>\n",
       "      <td>0</td>\n",
       "      <td>0</td>\n",
       "    </tr>\n",
       "    <tr>\n",
       "      <th>1169013</th>\n",
       "      <td>0</td>\n",
       "      <td>0</td>\n",
       "      <td>0</td>\n",
       "      <td>1</td>\n",
       "    </tr>\n",
       "    <tr>\n",
       "      <th>1169014</th>\n",
       "      <td>1</td>\n",
       "      <td>0</td>\n",
       "      <td>0</td>\n",
       "      <td>0</td>\n",
       "    </tr>\n",
       "    <tr>\n",
       "      <th>1169015</th>\n",
       "      <td>0</td>\n",
       "      <td>0</td>\n",
       "      <td>0</td>\n",
       "      <td>1</td>\n",
       "    </tr>\n",
       "    <tr>\n",
       "      <th>1169016</th>\n",
       "      <td>1</td>\n",
       "      <td>0</td>\n",
       "      <td>0</td>\n",
       "      <td>0</td>\n",
       "    </tr>\n",
       "    <tr>\n",
       "      <th>1169017</th>\n",
       "      <td>1</td>\n",
       "      <td>0</td>\n",
       "      <td>0</td>\n",
       "      <td>0</td>\n",
       "    </tr>\n",
       "    <tr>\n",
       "      <th>1169018</th>\n",
       "      <td>0</td>\n",
       "      <td>0</td>\n",
       "      <td>0</td>\n",
       "      <td>1</td>\n",
       "    </tr>\n",
       "    <tr>\n",
       "      <th>1169019</th>\n",
       "      <td>1</td>\n",
       "      <td>0</td>\n",
       "      <td>0</td>\n",
       "      <td>0</td>\n",
       "    </tr>\n",
       "    <tr>\n",
       "      <th>1169020</th>\n",
       "      <td>0</td>\n",
       "      <td>0</td>\n",
       "      <td>0</td>\n",
       "      <td>1</td>\n",
       "    </tr>\n",
       "    <tr>\n",
       "      <th>1169021</th>\n",
       "      <td>1</td>\n",
       "      <td>0</td>\n",
       "      <td>0</td>\n",
       "      <td>0</td>\n",
       "    </tr>\n",
       "    <tr>\n",
       "      <th>1169022</th>\n",
       "      <td>0</td>\n",
       "      <td>0</td>\n",
       "      <td>0</td>\n",
       "      <td>1</td>\n",
       "    </tr>\n",
       "    <tr>\n",
       "      <th>1169023</th>\n",
       "      <td>0</td>\n",
       "      <td>0</td>\n",
       "      <td>0</td>\n",
       "      <td>0</td>\n",
       "    </tr>\n",
       "    <tr>\n",
       "      <th>1169024</th>\n",
       "      <td>0</td>\n",
       "      <td>0</td>\n",
       "      <td>0</td>\n",
       "      <td>0</td>\n",
       "    </tr>\n",
       "    <tr>\n",
       "      <th>1169025</th>\n",
       "      <td>1</td>\n",
       "      <td>0</td>\n",
       "      <td>0</td>\n",
       "      <td>0</td>\n",
       "    </tr>\n",
       "    <tr>\n",
       "      <th>1169026</th>\n",
       "      <td>1</td>\n",
       "      <td>0</td>\n",
       "      <td>0</td>\n",
       "      <td>0</td>\n",
       "    </tr>\n",
       "    <tr>\n",
       "      <th>1169027</th>\n",
       "      <td>1</td>\n",
       "      <td>0</td>\n",
       "      <td>0</td>\n",
       "      <td>0</td>\n",
       "    </tr>\n",
       "    <tr>\n",
       "      <th>1169028</th>\n",
       "      <td>1</td>\n",
       "      <td>0</td>\n",
       "      <td>0</td>\n",
       "      <td>0</td>\n",
       "    </tr>\n",
       "    <tr>\n",
       "      <th>1169029</th>\n",
       "      <td>0</td>\n",
       "      <td>0</td>\n",
       "      <td>0</td>\n",
       "      <td>1</td>\n",
       "    </tr>\n",
       "    <tr>\n",
       "      <th>1169030</th>\n",
       "      <td>1</td>\n",
       "      <td>0</td>\n",
       "      <td>0</td>\n",
       "      <td>0</td>\n",
       "    </tr>\n",
       "    <tr>\n",
       "      <th>1169031</th>\n",
       "      <td>1</td>\n",
       "      <td>0</td>\n",
       "      <td>0</td>\n",
       "      <td>0</td>\n",
       "    </tr>\n",
       "    <tr>\n",
       "      <th>1169032</th>\n",
       "      <td>0</td>\n",
       "      <td>1</td>\n",
       "      <td>0</td>\n",
       "      <td>0</td>\n",
       "    </tr>\n",
       "    <tr>\n",
       "      <th>1169033</th>\n",
       "      <td>0</td>\n",
       "      <td>0</td>\n",
       "      <td>0</td>\n",
       "      <td>0</td>\n",
       "    </tr>\n",
       "    <tr>\n",
       "      <th>1169034</th>\n",
       "      <td>0</td>\n",
       "      <td>1</td>\n",
       "      <td>0</td>\n",
       "      <td>0</td>\n",
       "    </tr>\n",
       "    <tr>\n",
       "      <th>1169035</th>\n",
       "      <td>1</td>\n",
       "      <td>0</td>\n",
       "      <td>0</td>\n",
       "      <td>0</td>\n",
       "    </tr>\n",
       "    <tr>\n",
       "      <th>1169036</th>\n",
       "      <td>1</td>\n",
       "      <td>0</td>\n",
       "      <td>0</td>\n",
       "      <td>0</td>\n",
       "    </tr>\n",
       "    <tr>\n",
       "      <th>1169037</th>\n",
       "      <td>1</td>\n",
       "      <td>0</td>\n",
       "      <td>0</td>\n",
       "      <td>0</td>\n",
       "    </tr>\n",
       "    <tr>\n",
       "      <th>1169038</th>\n",
       "      <td>1</td>\n",
       "      <td>0</td>\n",
       "      <td>0</td>\n",
       "      <td>0</td>\n",
       "    </tr>\n",
       "    <tr>\n",
       "      <th>1169039</th>\n",
       "      <td>1</td>\n",
       "      <td>0</td>\n",
       "      <td>0</td>\n",
       "      <td>0</td>\n",
       "    </tr>\n",
       "    <tr>\n",
       "      <th>1169040</th>\n",
       "      <td>0</td>\n",
       "      <td>1</td>\n",
       "      <td>0</td>\n",
       "      <td>0</td>\n",
       "    </tr>\n",
       "    <tr>\n",
       "      <th>1169041</th>\n",
       "      <td>0</td>\n",
       "      <td>0</td>\n",
       "      <td>0</td>\n",
       "      <td>0</td>\n",
       "    </tr>\n",
       "  </tbody>\n",
       "</table>\n",
       "<p>1169042 rows × 4 columns</p>\n",
       "</div>"
      ],
      "text/plain": [
       "         1.509931e+09  2.068230e+09  3.111152e+09  3.668890e+09\n",
       "0                   1             0             0             0\n",
       "1                   0             0             0             0\n",
       "2                   0             0             0             1\n",
       "3                   1             0             0             0\n",
       "4                   1             0             0             0\n",
       "5                   0             0             0             1\n",
       "6                   0             0             1             0\n",
       "7                   0             0             0             1\n",
       "8                   1             0             0             0\n",
       "9                   1             0             0             0\n",
       "10                  0             0             0             1\n",
       "11                  1             0             0             0\n",
       "12                  0             0             0             0\n",
       "13                  1             0             0             0\n",
       "14                  1             0             0             0\n",
       "15                  0             0             0             1\n",
       "16                  1             0             0             0\n",
       "17                  0             0             0             0\n",
       "18                  0             0             0             0\n",
       "19                  0             0             0             0\n",
       "20                  1             0             0             0\n",
       "21                  0             1             0             0\n",
       "22                  1             0             0             0\n",
       "23                  1             0             0             0\n",
       "24                  0             0             0             1\n",
       "25                  0             0             0             1\n",
       "26                  0             0             1             0\n",
       "27                  1             0             0             0\n",
       "28                  0             1             0             0\n",
       "29                  0             0             0             1\n",
       "...               ...           ...           ...           ...\n",
       "1169012             1             0             0             0\n",
       "1169013             0             0             0             1\n",
       "1169014             1             0             0             0\n",
       "1169015             0             0             0             1\n",
       "1169016             1             0             0             0\n",
       "1169017             1             0             0             0\n",
       "1169018             0             0             0             1\n",
       "1169019             1             0             0             0\n",
       "1169020             0             0             0             1\n",
       "1169021             1             0             0             0\n",
       "1169022             0             0             0             1\n",
       "1169023             0             0             0             0\n",
       "1169024             0             0             0             0\n",
       "1169025             1             0             0             0\n",
       "1169026             1             0             0             0\n",
       "1169027             1             0             0             0\n",
       "1169028             1             0             0             0\n",
       "1169029             0             0             0             1\n",
       "1169030             1             0             0             0\n",
       "1169031             1             0             0             0\n",
       "1169032             0             1             0             0\n",
       "1169033             0             0             0             0\n",
       "1169034             0             1             0             0\n",
       "1169035             1             0             0             0\n",
       "1169036             1             0             0             0\n",
       "1169037             1             0             0             0\n",
       "1169038             1             0             0             0\n",
       "1169039             1             0             0             0\n",
       "1169040             0             1             0             0\n",
       "1169041             0             0             0             0\n",
       "\n",
       "[1169042 rows x 4 columns]"
      ]
     },
     "execution_count": 32,
     "metadata": {},
     "output_type": "execute_result"
    }
   ],
   "source": [
    "#閾値を決めて頻度が少ない値をNaNに置き換える\n",
    "df_c6 = pd.DataFrame(train['C6'])\n",
    "threshold = 120000\n",
    "value_counts = df_c6.stack().value_counts()\n",
    "to_remove = value_counts[value_counts <=threshold].index\n",
    "df_c6.replace(to_remove,np.nan,inplace=True)\n",
    "\n",
    "pd.get_dummies(df_c6['C6'])"
   ]
  },
  {
   "cell_type": "code",
   "execution_count": 33,
   "metadata": {},
   "outputs": [
    {
     "data": {
      "text/plain": [
       "<matplotlib.axes._subplots.AxesSubplot at 0x25382f77cc0>"
      ]
     },
     "execution_count": 33,
     "metadata": {},
     "output_type": "execute_result"
    },
    {
     "data": {
      "image/png": "[encoded data removed]",
      "text/plain": [
       "<Figure size 432x288 with 1 Axes>"
      ]
     },
     "metadata": {
      "needs_background": "light"
     },
     "output_type": "display_data"
    }
   ],
   "source": [
    "sns.countplot(df_c6['C6'])"
   ]
  },
  {
   "cell_type": "code",
   "execution_count": 34,
   "metadata": {},
   "outputs": [
    {
     "name": "stdout",
     "output_type": "stream",
     "text": [
      "1    564628\n",
      "2    452125\n",
      "0    152289\n",
      "Name: I3, dtype: int64\n"
     ]
    },
    {
     "data": {
      "image/png": "[encoded data removed]",
      "text/plain": [
       "<Figure size 432x288 with 1 Axes>"
      ]
     },
     "metadata": {
      "needs_background": "light"
     },
     "output_type": "display_data"
    }
   ],
   "source": [
    "sns.countplot(train['I3'])\n",
    "print(train['I3'].value_counts().head())"
   ]
  },
  {
   "cell_type": "code",
   "execution_count": 35,
   "metadata": {},
   "outputs": [
    {
     "data": {
      "text/plain": [
       "<matplotlib.axes._subplots.AxesSubplot at 0x253833543c8>"
      ]
     },
     "execution_count": 35,
     "metadata": {},
     "output_type": "execute_result"
    },
    {
     "data": {
      "image/png": "[encoded data removed]",
      "text/plain": [
       "<Figure size 432x288 with 1 Axes>"
      ]
     },
     "metadata": {
      "needs_background": "light"
     },
     "output_type": "display_data"
    }
   ],
   "source": [
    "sns.countplot(train['I4'])"
   ]
  },
  {
   "cell_type": "code",
   "execution_count": 36,
   "metadata": {},
   "outputs": [
    {
     "data": {
      "text/plain": [
       "<matplotlib.axes._subplots.AxesSubplot at 0x253845e55f8>"
      ]
     },
     "execution_count": 36,
     "metadata": {},
     "output_type": "execute_result"
    },
    {
     "data": {
      "image/png": "[encoded data removed]",
      "text/plain": [
       "<Figure size 432x288 with 1 Axes>"
      ]
     },
     "metadata": {
      "needs_background": "light"
     },
     "output_type": "display_data"
    }
   ],
   "source": [
    "sns.countplot(train['I6'])"
   ]
  },
  {
   "cell_type": "code",
   "execution_count": 37,
   "metadata": {},
   "outputs": [
    {
     "data": {
      "text/plain": [
       "<matplotlib.axes._subplots.AxesSubplot at 0x25384635358>"
      ]
     },
     "execution_count": 37,
     "metadata": {},
     "output_type": "execute_result"
    },
    {
     "data": {
      "image/png": "[encoded data removed]",
      "text/plain": [
       "<Figure size 432x288 with 1 Axes>"
      ]
     },
     "metadata": {
      "needs_background": "light"
     },
     "output_type": "display_data"
    }
   ],
   "source": [
    "sns.countplot(train['I7'])"
   ]
  },
  {
   "cell_type": "code",
   "execution_count": 38,
   "metadata": {},
   "outputs": [
    {
     "data": {
      "text/plain": [
       "<matplotlib.axes._subplots.AxesSubplot at 0x2538467e400>"
      ]
     },
     "execution_count": 38,
     "metadata": {},
     "output_type": "execute_result"
    },
    {
     "data": {
      "image/png": "[encoded data removed]",
      "text/plain": [
       "<Figure size 432x288 with 1 Axes>"
      ]
     },
     "metadata": {
      "needs_background": "light"
     },
     "output_type": "display_data"
    }
   ],
   "source": [
    "sns.countplot(train['I8'])"
   ]
  },
  {
   "cell_type": "code",
   "execution_count": 39,
   "metadata": {},
   "outputs": [
    {
     "data": {
      "text/plain": [
       "<matplotlib.axes._subplots.AxesSubplot at 0x25382fc5160>"
      ]
     },
     "execution_count": 39,
     "metadata": {},
     "output_type": "execute_result"
    },
    {
     "data": {
      "image/png": "[encoded data removed]",
      "text/plain": [
       "<Figure size 432x288 with 1 Axes>"
      ]
     },
     "metadata": {
      "needs_background": "light"
     },
     "output_type": "display_data"
    }
   ],
   "source": [
    "sns.countplot(train['I9'])"
   ]
  },
  {
   "cell_type": "code",
   "execution_count": 40,
   "metadata": {},
   "outputs": [
    {
     "data": {
      "text/plain": [
       "<matplotlib.axes._subplots.AxesSubplot at 0x253846a9cc0>"
      ]
     },
     "execution_count": 40,
     "metadata": {},
     "output_type": "execute_result"
    },
    {
     "data": {
      "image/png": "[encoded data removed]",
      "text/plain": [
       "<Figure size 432x288 with 1 Axes>"
      ]
     },
     "metadata": {
      "needs_background": "light"
     },
     "output_type": "display_data"
    }
   ],
   "source": [
    "sns.countplot(train['I10'])"
   ]
  },
  {
   "cell_type": "raw",
   "metadata": {},
   "source": [
    "I6～I10までは分類分けされている"
   ]
  },
  {
   "cell_type": "code",
   "execution_count": 41,
   "metadata": {},
   "outputs": [
    {
     "data": {
      "text/html": [
       "<div>\n",
       "<style scoped>\n",
       "    .dataframe tbody tr th:only-of-type {\n",
       "        vertical-align: middle;\n",
       "    }\n",
       "\n",
       "    .dataframe tbody tr th {\n",
       "        vertical-align: top;\n",
       "    }\n",
       "\n",
       "    .dataframe thead th {\n",
       "        text-align: right;\n",
       "    }\n",
       "</style>\n",
       "<table border=\"1\" class=\"dataframe\">\n",
       "  <thead>\n",
       "    <tr style=\"text-align: right;\">\n",
       "      <th></th>\n",
       "      <th>id</th>\n",
       "      <th>click</th>\n",
       "      <th>I1</th>\n",
       "      <th>I2</th>\n",
       "      <th>C1</th>\n",
       "      <th>C2</th>\n",
       "      <th>C3</th>\n",
       "      <th>C4</th>\n",
       "      <th>C5</th>\n",
       "      <th>C6</th>\n",
       "      <th>...</th>\n",
       "      <th>I5</th>\n",
       "      <th>I6</th>\n",
       "      <th>I7</th>\n",
       "      <th>I8</th>\n",
       "      <th>I9</th>\n",
       "      <th>I10</th>\n",
       "      <th>I11</th>\n",
       "      <th>I12</th>\n",
       "      <th>I13</th>\n",
       "      <th>I14</th>\n",
       "    </tr>\n",
       "  </thead>\n",
       "  <tbody>\n",
       "    <tr>\n",
       "      <th>0</th>\n",
       "      <td>0</td>\n",
       "      <td>0</td>\n",
       "      <td>5</td>\n",
       "      <td>20</td>\n",
       "      <td>421256035</td>\n",
       "      <td>2377199148</td>\n",
       "      <td>2696211399</td>\n",
       "      <td>2298910535</td>\n",
       "      <td>3133252034</td>\n",
       "      <td>1509930964</td>\n",
       "      <td>...</td>\n",
       "      <td>0</td>\n",
       "      <td>0</td>\n",
       "      <td>0</td>\n",
       "      <td>0</td>\n",
       "      <td>0</td>\n",
       "      <td>0</td>\n",
       "      <td>NaN</td>\n",
       "      <td>NaN</td>\n",
       "      <td>NaN</td>\n",
       "      <td>780.0</td>\n",
       "    </tr>\n",
       "    <tr>\n",
       "      <th>1</th>\n",
       "      <td>1</td>\n",
       "      <td>0</td>\n",
       "      <td>5</td>\n",
       "      <td>20</td>\n",
       "      <td>2581703001</td>\n",
       "      <td>2589684548</td>\n",
       "      <td>1998340283</td>\n",
       "      <td>2411205997</td>\n",
       "      <td>3202148071</td>\n",
       "      <td>1238839469</td>\n",
       "      <td>...</td>\n",
       "      <td>1</td>\n",
       "      <td>1</td>\n",
       "      <td>0</td>\n",
       "      <td>0</td>\n",
       "      <td>0</td>\n",
       "      <td>0</td>\n",
       "      <td>NaN</td>\n",
       "      <td>NaN</td>\n",
       "      <td>NaN</td>\n",
       "      <td>0.0</td>\n",
       "    </tr>\n",
       "    <tr>\n",
       "      <th>2</th>\n",
       "      <td>2</td>\n",
       "      <td>0</td>\n",
       "      <td>5</td>\n",
       "      <td>20</td>\n",
       "      <td>2581703001</td>\n",
       "      <td>1862037199</td>\n",
       "      <td>2448089184</td>\n",
       "      <td>2411205997</td>\n",
       "      <td>1107442947</td>\n",
       "      <td>3668889797</td>\n",
       "      <td>...</td>\n",
       "      <td>0</td>\n",
       "      <td>0</td>\n",
       "      <td>0</td>\n",
       "      <td>0</td>\n",
       "      <td>1</td>\n",
       "      <td>0</td>\n",
       "      <td>NaN</td>\n",
       "      <td>NaN</td>\n",
       "      <td>NaN</td>\n",
       "      <td>117.0</td>\n",
       "    </tr>\n",
       "    <tr>\n",
       "      <th>3</th>\n",
       "      <td>3</td>\n",
       "      <td>0</td>\n",
       "      <td>5</td>\n",
       "      <td>20</td>\n",
       "      <td>421256035</td>\n",
       "      <td>3874378935</td>\n",
       "      <td>1658216424</td>\n",
       "      <td>2298910535</td>\n",
       "      <td>2321672976</td>\n",
       "      <td>1509930964</td>\n",
       "      <td>...</td>\n",
       "      <td>0</td>\n",
       "      <td>0</td>\n",
       "      <td>0</td>\n",
       "      <td>0</td>\n",
       "      <td>0</td>\n",
       "      <td>0</td>\n",
       "      <td>6.0</td>\n",
       "      <td>6.0</td>\n",
       "      <td>34501.0</td>\n",
       "      <td>390.0</td>\n",
       "    </tr>\n",
       "    <tr>\n",
       "      <th>4</th>\n",
       "      <td>4</td>\n",
       "      <td>1</td>\n",
       "      <td>5</td>\n",
       "      <td>20</td>\n",
       "      <td>421256035</td>\n",
       "      <td>3874378935</td>\n",
       "      <td>1892769125</td>\n",
       "      <td>2411205997</td>\n",
       "      <td>2321672976</td>\n",
       "      <td>1509930964</td>\n",
       "      <td>...</td>\n",
       "      <td>0</td>\n",
       "      <td>0</td>\n",
       "      <td>0</td>\n",
       "      <td>0</td>\n",
       "      <td>0</td>\n",
       "      <td>0</td>\n",
       "      <td>1.0</td>\n",
       "      <td>31.0</td>\n",
       "      <td>12557.0</td>\n",
       "      <td>390.0</td>\n",
       "    </tr>\n",
       "  </tbody>\n",
       "</table>\n",
       "<p>5 rows × 22 columns</p>\n",
       "</div>"
      ],
      "text/plain": [
       "   id  click  I1  I2          C1          C2          C3          C4  \\\n",
       "0   0      0   5  20   421256035  2377199148  2696211399  2298910535   \n",
       "1   1      0   5  20  2581703001  2589684548  1998340283  2411205997   \n",
       "2   2      0   5  20  2581703001  1862037199  2448089184  2411205997   \n",
       "3   3      0   5  20   421256035  3874378935  1658216424  2298910535   \n",
       "4   4      1   5  20   421256035  3874378935  1892769125  2411205997   \n",
       "\n",
       "           C5          C6  ...  I5  I6  I7  I8  I9  I10  I11   I12      I13  \\\n",
       "0  3133252034  1509930964  ...   0   0   0   0   0    0  NaN   NaN      NaN   \n",
       "1  3202148071  1238839469  ...   1   1   0   0   0    0  NaN   NaN      NaN   \n",
       "2  1107442947  3668889797  ...   0   0   0   0   1    0  NaN   NaN      NaN   \n",
       "3  2321672976  1509930964  ...   0   0   0   0   0    0  6.0   6.0  34501.0   \n",
       "4  2321672976  1509930964  ...   0   0   0   0   0    0  1.0  31.0  12557.0   \n",
       "\n",
       "     I14  \n",
       "0  780.0  \n",
       "1    0.0  \n",
       "2  117.0  \n",
       "3  390.0  \n",
       "4  390.0  \n",
       "\n",
       "[5 rows x 22 columns]"
      ]
     },
     "execution_count": 41,
     "metadata": {},
     "output_type": "execute_result"
    }
   ],
   "source": [
    "train_data.head()"
   ]
  },
  {
   "cell_type": "markdown",
   "metadata": {},
   "source": [
    "NaNが多く含まれていたI11～のデータも整理していく"
   ]
  },
  {
   "cell_type": "code",
   "execution_count": 42,
   "metadata": {},
   "outputs": [
    {
     "data": {
      "text/plain": [
       "0.0    100446\n",
       "1.0     46437\n",
       "2.0     40932\n",
       "3.0     35472\n",
       "Name: I11, dtype: int64"
      ]
     },
     "execution_count": 42,
     "metadata": {},
     "output_type": "execute_result"
    }
   ],
   "source": [
    "train_data['I11'].value_counts().head(4)"
   ]
  },
  {
   "cell_type": "code",
   "execution_count": 43,
   "metadata": {
    "scrolled": true
   },
   "outputs": [],
   "source": [
    "#閾値を決めて頻度が少ない値をNaNに置き換える\n",
    "df_I11 = pd.DataFrame(train['I11'])\n",
    "threshold = 40000\n",
    "value_counts =df_I11.stack().value_counts()\n",
    "to_remove = value_counts[value_counts <=threshold].index\n",
    "df_I11.replace(to_remove,np.nan,inplace=True)\n",
    "\n",
    "df_I11['I11']=pd.get_dummies(df_I11['I11'])"
   ]
  },
  {
   "cell_type": "code",
   "execution_count": 44,
   "metadata": {},
   "outputs": [
    {
     "name": "stdout",
     "output_type": "stream",
     "text": [
      "   I11\n",
      "0    0\n",
      "1    0\n",
      "2    0\n",
      "3    0\n",
      "4    0\n"
     ]
    },
    {
     "data": {
      "image/png": "[encoded data removed]",
      "text/plain": [
       "<Figure size 432x288 with 1 Axes>"
      ]
     },
     "metadata": {
      "needs_background": "light"
     },
     "output_type": "display_data"
    }
   ],
   "source": [
    "sns.countplot(df_I11['I11'])\n",
    "print(df_I11.head())"
   ]
  },
  {
   "cell_type": "code",
   "execution_count": 45,
   "metadata": {},
   "outputs": [
    {
     "data": {
      "text/plain": [
       "1.0    270410\n",
       "2.0    144151\n",
       "4.0     62766\n",
       "3.0     61902\n",
       "6.0     40482\n",
       "5.0     39067\n",
       "Name: I12, dtype: int64"
      ]
     },
     "execution_count": 45,
     "metadata": {},
     "output_type": "execute_result"
    }
   ],
   "source": [
    "train['I12'].value_counts().head(6)"
   ]
  },
  {
   "cell_type": "code",
   "execution_count": 46,
   "metadata": {
    "scrolled": true
   },
   "outputs": [],
   "source": [
    "#閾値を決めて頻度が少ない値をNaNに置き換える\n",
    "df_I12 = pd.DataFrame(train['I12'])\n",
    "threshold = 60000\n",
    "value_counts =df_I12.stack().value_counts()\n",
    "to_remove = value_counts[value_counts <=threshold].index\n",
    "df_I12.replace(to_remove,np.nan,inplace=True)\n",
    "\n",
    "df_I12['I12']=pd.get_dummies(df_I12['I12'])"
   ]
  },
  {
   "cell_type": "code",
   "execution_count": 47,
   "metadata": {},
   "outputs": [
    {
     "data": {
      "text/plain": [
       "6.0     555\n",
       "5.0     524\n",
       "9.0     513\n",
       "7.0     507\n",
       "8.0     480\n",
       "11.0    474\n",
       "10.0    469\n",
       "12.0    458\n",
       "15.0    429\n",
       "19.0    419\n",
       "13.0    406\n",
       "16.0    405\n",
       "4.0     405\n",
       "17.0    404\n",
       "14.0    404\n",
       "Name: I13, dtype: int64"
      ]
     },
     "execution_count": 47,
     "metadata": {},
     "output_type": "execute_result"
    }
   ],
   "source": [
    "train['I13'].value_counts().head(15)"
   ]
  },
  {
   "cell_type": "code",
   "execution_count": 50,
   "metadata": {},
   "outputs": [],
   "source": [
    "#閾値を決めて頻度が少ない値をNaNに置き換える\n",
    "df_I13 = pd.DataFrame(train['I13'])\n",
    "threshold = 500\n",
    "value_counts =df_I13.stack().value_counts()\n",
    "to_remove = value_counts[value_counts <=threshold].index\n",
    "df_I13.replace(to_remove,np.nan,inplace=True)\n",
    "\n",
    "df_I13['I13']=pd.get_dummies(df_I13['I13'])"
   ]
  },
  {
   "cell_type": "code",
   "execution_count": 51,
   "metadata": {},
   "outputs": [
    {
     "data": {
      "text/plain": [
       "390.0     320622\n",
       "0.0       143799\n",
       "13.0      117999\n",
       "260.0     105800\n",
       "91.0       71943\n",
       "130.0      44551\n",
       "39.0       32577\n",
       "169.0      30183\n",
       "1300.0     25648\n",
       "364.0      21879\n",
       "780.0      19089\n",
       "650.0      18431\n",
       "325.0      17367\n",
       "1690.0     12015\n",
       "195.0      10706\n",
       "Name: I14, dtype: int64"
      ]
     },
     "execution_count": 51,
     "metadata": {},
     "output_type": "execute_result"
    }
   ],
   "source": [
    "train['I14'].value_counts().head(15)"
   ]
  },
  {
   "cell_type": "code",
   "execution_count": 52,
   "metadata": {},
   "outputs": [],
   "source": [
    "#閾値を決めて頻度が少ない値をNaNに置き換える\n",
    "df_I14 = pd.DataFrame(train['I14'])\n",
    "threshold = 500\n",
    "value_counts =df_I14.stack().value_counts()\n",
    "to_remove = value_counts[value_counts <=threshold].index\n",
    "df_I14.replace(to_remove,np.nan,inplace=True)\n",
    "\n",
    "df_I14['I14']=pd.get_dummies(df_I14['I14'])"
   ]
  },
  {
   "cell_type": "code",
   "execution_count": 57,
   "metadata": {},
   "outputs": [],
   "source": [
    "#データを結合する\n",
    "df_new = pd.concat([df_c1,df_c2,df_c3,df_c4,df_c5,df_c6,train['I6'],train['I7'],train['I8'],train['I9'],\n",
    "train['I10'],df_I11,df_I12,df_I13,df_I14],axis=1)"
   ]
  },
  {
   "cell_type": "code",
   "execution_count": 58,
   "metadata": {},
   "outputs": [
    {
     "data": {
      "text/html": [
       "<div>\n",
       "<style scoped>\n",
       "    .dataframe tbody tr th:only-of-type {\n",
       "        vertical-align: middle;\n",
       "    }\n",
       "\n",
       "    .dataframe tbody tr th {\n",
       "        vertical-align: top;\n",
       "    }\n",
       "\n",
       "    .dataframe thead th {\n",
       "        text-align: right;\n",
       "    }\n",
       "</style>\n",
       "<table border=\"1\" class=\"dataframe\">\n",
       "  <thead>\n",
       "    <tr style=\"text-align: right;\">\n",
       "      <th></th>\n",
       "      <th>C1</th>\n",
       "      <th>C2</th>\n",
       "      <th>C3</th>\n",
       "      <th>C4</th>\n",
       "      <th>C5</th>\n",
       "      <th>C6</th>\n",
       "      <th>I6</th>\n",
       "      <th>I7</th>\n",
       "      <th>I8</th>\n",
       "      <th>I9</th>\n",
       "      <th>I10</th>\n",
       "      <th>I11</th>\n",
       "      <th>I12</th>\n",
       "      <th>I13</th>\n",
       "      <th>I14</th>\n",
       "    </tr>\n",
       "  </thead>\n",
       "  <tbody>\n",
       "    <tr>\n",
       "      <th>0</th>\n",
       "      <td>1</td>\n",
       "      <td>0</td>\n",
       "      <td>0</td>\n",
       "      <td>0</td>\n",
       "      <td>0</td>\n",
       "      <td>1.509931e+09</td>\n",
       "      <td>0</td>\n",
       "      <td>0</td>\n",
       "      <td>0</td>\n",
       "      <td>0</td>\n",
       "      <td>0</td>\n",
       "      <td>0</td>\n",
       "      <td>0</td>\n",
       "      <td>0</td>\n",
       "      <td>0</td>\n",
       "    </tr>\n",
       "    <tr>\n",
       "      <th>1</th>\n",
       "      <td>0</td>\n",
       "      <td>0</td>\n",
       "      <td>0</td>\n",
       "      <td>0</td>\n",
       "      <td>0</td>\n",
       "      <td>NaN</td>\n",
       "      <td>1</td>\n",
       "      <td>0</td>\n",
       "      <td>0</td>\n",
       "      <td>0</td>\n",
       "      <td>0</td>\n",
       "      <td>0</td>\n",
       "      <td>0</td>\n",
       "      <td>0</td>\n",
       "      <td>1</td>\n",
       "    </tr>\n",
       "    <tr>\n",
       "      <th>2</th>\n",
       "      <td>0</td>\n",
       "      <td>0</td>\n",
       "      <td>0</td>\n",
       "      <td>0</td>\n",
       "      <td>0</td>\n",
       "      <td>3.668890e+09</td>\n",
       "      <td>0</td>\n",
       "      <td>0</td>\n",
       "      <td>0</td>\n",
       "      <td>1</td>\n",
       "      <td>0</td>\n",
       "      <td>0</td>\n",
       "      <td>0</td>\n",
       "      <td>0</td>\n",
       "      <td>0</td>\n",
       "    </tr>\n",
       "    <tr>\n",
       "      <th>3</th>\n",
       "      <td>1</td>\n",
       "      <td>0</td>\n",
       "      <td>0</td>\n",
       "      <td>0</td>\n",
       "      <td>0</td>\n",
       "      <td>1.509931e+09</td>\n",
       "      <td>0</td>\n",
       "      <td>0</td>\n",
       "      <td>0</td>\n",
       "      <td>0</td>\n",
       "      <td>0</td>\n",
       "      <td>0</td>\n",
       "      <td>0</td>\n",
       "      <td>0</td>\n",
       "      <td>0</td>\n",
       "    </tr>\n",
       "    <tr>\n",
       "      <th>4</th>\n",
       "      <td>1</td>\n",
       "      <td>0</td>\n",
       "      <td>0</td>\n",
       "      <td>0</td>\n",
       "      <td>0</td>\n",
       "      <td>1.509931e+09</td>\n",
       "      <td>0</td>\n",
       "      <td>0</td>\n",
       "      <td>0</td>\n",
       "      <td>0</td>\n",
       "      <td>0</td>\n",
       "      <td>0</td>\n",
       "      <td>0</td>\n",
       "      <td>0</td>\n",
       "      <td>0</td>\n",
       "    </tr>\n",
       "  </tbody>\n",
       "</table>\n",
       "</div>"
      ],
      "text/plain": [
       "   C1  C2  C3  C4  C5            C6  I6  I7  I8  I9  I10  I11  I12  I13  I14\n",
       "0   1   0   0   0   0  1.509931e+09   0   0   0   0    0    0    0    0    0\n",
       "1   0   0   0   0   0           NaN   1   0   0   0    0    0    0    0    1\n",
       "2   0   0   0   0   0  3.668890e+09   0   0   0   1    0    0    0    0    0\n",
       "3   1   0   0   0   0  1.509931e+09   0   0   0   0    0    0    0    0    0\n",
       "4   1   0   0   0   0  1.509931e+09   0   0   0   0    0    0    0    0    0"
      ]
     },
     "execution_count": 58,
     "metadata": {},
     "output_type": "execute_result"
    }
   ],
   "source": [
    "df_new.head()"
   ]
  },
  {
   "cell_type": "code",
   "execution_count": null,
   "metadata": {},
   "outputs": [],
   "source": []
  },
  {
   "cell_type": "code",
   "execution_count": null,
   "metadata": {},
   "outputs": [],
   "source": [
    "from sklearn.tree import DecisionTreeRegressor \n",
    "from sklearn.model_selection import train_test_split "
   ]
  }
 ],
 "metadata": {
  "kernelspec": {
   "display_name": "Python 3",
   "language": "python",
   "name": "python3"
  },
  "language_info": {
   "codemirror_mode": {
    "name": "ipython",
    "version": 3
   },
   "file_extension": ".py",
   "mimetype": "text/x-python",
   "name": "python",
   "nbconvert_exporter": "python",
   "pygments_lexer": "ipython3",
   "version": "3.7.3"
  }
 },
 "nbformat": 4,
 "nbformat_minor": 2
}
