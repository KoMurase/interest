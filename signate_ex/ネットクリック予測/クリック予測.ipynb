{
 "cells": [
  {
   "cell_type": "code",
   "execution_count": 8,
   "metadata": {},
   "outputs": [],
   "source": [
    "import pandas as pd "
   ]
  },
  {
   "cell_type": "code",
   "execution_count": 9,
   "metadata": {},
   "outputs": [],
   "source": [
    "test_data = pd.read_csv('test.tsv',encoding='utf-8',delimiter = '\\t')\n",
    "train_data = pd.read_csv('train.tsv',encoding='utf-8',delimiter = '\\t')"
   ]
  },
  {
   "cell_type": "code",
   "execution_count": 10,
   "metadata": {},
   "outputs": [
    {
     "data": {
      "text/html": [
       "<div>\n",
       "<style scoped>\n",
       "    .dataframe tbody tr th:only-of-type {\n",
       "        vertical-align: middle;\n",
       "    }\n",
       "\n",
       "    .dataframe tbody tr th {\n",
       "        vertical-align: top;\n",
       "    }\n",
       "\n",
       "    .dataframe thead th {\n",
       "        text-align: right;\n",
       "    }\n",
       "</style>\n",
       "<table border=\"1\" class=\"dataframe\">\n",
       "  <thead>\n",
       "    <tr style=\"text-align: right;\">\n",
       "      <th></th>\n",
       "      <th>id</th>\n",
       "      <th>click</th>\n",
       "      <th>I1</th>\n",
       "      <th>I2</th>\n",
       "      <th>C1</th>\n",
       "      <th>C2</th>\n",
       "      <th>C3</th>\n",
       "      <th>C4</th>\n",
       "      <th>C5</th>\n",
       "      <th>C6</th>\n",
       "      <th>...</th>\n",
       "      <th>I5</th>\n",
       "      <th>I6</th>\n",
       "      <th>I7</th>\n",
       "      <th>I8</th>\n",
       "      <th>I9</th>\n",
       "      <th>I10</th>\n",
       "      <th>I11</th>\n",
       "      <th>I12</th>\n",
       "      <th>I13</th>\n",
       "      <th>I14</th>\n",
       "    </tr>\n",
       "  </thead>\n",
       "  <tbody>\n",
       "    <tr>\n",
       "      <th>0</th>\n",
       "      <td>0</td>\n",
       "      <td>0</td>\n",
       "      <td>5</td>\n",
       "      <td>20</td>\n",
       "      <td>421256035</td>\n",
       "      <td>2377199148</td>\n",
       "      <td>2696211399</td>\n",
       "      <td>2298910535</td>\n",
       "      <td>3133252034</td>\n",
       "      <td>1509930964</td>\n",
       "      <td>...</td>\n",
       "      <td>0</td>\n",
       "      <td>0</td>\n",
       "      <td>0</td>\n",
       "      <td>0</td>\n",
       "      <td>0</td>\n",
       "      <td>0</td>\n",
       "      <td>NaN</td>\n",
       "      <td>NaN</td>\n",
       "      <td>NaN</td>\n",
       "      <td>780.0</td>\n",
       "    </tr>\n",
       "    <tr>\n",
       "      <th>1</th>\n",
       "      <td>1</td>\n",
       "      <td>0</td>\n",
       "      <td>5</td>\n",
       "      <td>20</td>\n",
       "      <td>2581703001</td>\n",
       "      <td>2589684548</td>\n",
       "      <td>1998340283</td>\n",
       "      <td>2411205997</td>\n",
       "      <td>3202148071</td>\n",
       "      <td>1238839469</td>\n",
       "      <td>...</td>\n",
       "      <td>1</td>\n",
       "      <td>1</td>\n",
       "      <td>0</td>\n",
       "      <td>0</td>\n",
       "      <td>0</td>\n",
       "      <td>0</td>\n",
       "      <td>NaN</td>\n",
       "      <td>NaN</td>\n",
       "      <td>NaN</td>\n",
       "      <td>0.0</td>\n",
       "    </tr>\n",
       "    <tr>\n",
       "      <th>2</th>\n",
       "      <td>2</td>\n",
       "      <td>0</td>\n",
       "      <td>5</td>\n",
       "      <td>20</td>\n",
       "      <td>2581703001</td>\n",
       "      <td>1862037199</td>\n",
       "      <td>2448089184</td>\n",
       "      <td>2411205997</td>\n",
       "      <td>1107442947</td>\n",
       "      <td>3668889797</td>\n",
       "      <td>...</td>\n",
       "      <td>0</td>\n",
       "      <td>0</td>\n",
       "      <td>0</td>\n",
       "      <td>0</td>\n",
       "      <td>1</td>\n",
       "      <td>0</td>\n",
       "      <td>NaN</td>\n",
       "      <td>NaN</td>\n",
       "      <td>NaN</td>\n",
       "      <td>117.0</td>\n",
       "    </tr>\n",
       "    <tr>\n",
       "      <th>3</th>\n",
       "      <td>3</td>\n",
       "      <td>0</td>\n",
       "      <td>5</td>\n",
       "      <td>20</td>\n",
       "      <td>421256035</td>\n",
       "      <td>3874378935</td>\n",
       "      <td>1658216424</td>\n",
       "      <td>2298910535</td>\n",
       "      <td>2321672976</td>\n",
       "      <td>1509930964</td>\n",
       "      <td>...</td>\n",
       "      <td>0</td>\n",
       "      <td>0</td>\n",
       "      <td>0</td>\n",
       "      <td>0</td>\n",
       "      <td>0</td>\n",
       "      <td>0</td>\n",
       "      <td>6.0</td>\n",
       "      <td>6.0</td>\n",
       "      <td>34501.0</td>\n",
       "      <td>390.0</td>\n",
       "    </tr>\n",
       "    <tr>\n",
       "      <th>4</th>\n",
       "      <td>4</td>\n",
       "      <td>1</td>\n",
       "      <td>5</td>\n",
       "      <td>20</td>\n",
       "      <td>421256035</td>\n",
       "      <td>3874378935</td>\n",
       "      <td>1892769125</td>\n",
       "      <td>2411205997</td>\n",
       "      <td>2321672976</td>\n",
       "      <td>1509930964</td>\n",
       "      <td>...</td>\n",
       "      <td>0</td>\n",
       "      <td>0</td>\n",
       "      <td>0</td>\n",
       "      <td>0</td>\n",
       "      <td>0</td>\n",
       "      <td>0</td>\n",
       "      <td>1.0</td>\n",
       "      <td>31.0</td>\n",
       "      <td>12557.0</td>\n",
       "      <td>390.0</td>\n",
       "    </tr>\n",
       "  </tbody>\n",
       "</table>\n",
       "<p>5 rows × 22 columns</p>\n",
       "</div>"
      ],
      "text/plain": [
       "   id  click  I1  I2          C1          C2          C3          C4  \\\n",
       "0   0      0   5  20   421256035  2377199148  2696211399  2298910535   \n",
       "1   1      0   5  20  2581703001  2589684548  1998340283  2411205997   \n",
       "2   2      0   5  20  2581703001  1862037199  2448089184  2411205997   \n",
       "3   3      0   5  20   421256035  3874378935  1658216424  2298910535   \n",
       "4   4      1   5  20   421256035  3874378935  1892769125  2411205997   \n",
       "\n",
       "           C5          C6  ...  I5  I6  I7  I8  I9  I10  I11   I12      I13  \\\n",
       "0  3133252034  1509930964  ...   0   0   0   0   0    0  NaN   NaN      NaN   \n",
       "1  3202148071  1238839469  ...   1   1   0   0   0    0  NaN   NaN      NaN   \n",
       "2  1107442947  3668889797  ...   0   0   0   0   1    0  NaN   NaN      NaN   \n",
       "3  2321672976  1509930964  ...   0   0   0   0   0    0  6.0   6.0  34501.0   \n",
       "4  2321672976  1509930964  ...   0   0   0   0   0    0  1.0  31.0  12557.0   \n",
       "\n",
       "     I14  \n",
       "0  780.0  \n",
       "1    0.0  \n",
       "2  117.0  \n",
       "3  390.0  \n",
       "4  390.0  \n",
       "\n",
       "[5 rows x 22 columns]"
      ]
     },
     "execution_count": 10,
     "metadata": {},
     "output_type": "execute_result"
    }
   ],
   "source": [
    "train_data.head()"
   ]
  },
  {
   "cell_type": "code",
   "execution_count": 11,
   "metadata": {},
   "outputs": [
    {
     "data": {
      "text/plain": [
       "       C1        \n",
       "id     421256035     766892\n",
       "       1045405899     14878\n",
       "       1111213504     15559\n",
       "       2068315619      5128\n",
       "       2387281372     30345\n",
       "       2541535031     21625\n",
       "       2581703001    227591\n",
       "       2686811630     33122\n",
       "       3651044092     53902\n",
       "click  421256035     766892\n",
       "       1045405899     14878\n",
       "       1111213504     15559\n",
       "       2068315619      5128\n",
       "       2387281372     30345\n",
       "       2541535031     21625\n",
       "       2581703001    227591\n",
       "       2686811630     33122\n",
       "       3651044092     53902\n",
       "I1     421256035     766892\n",
       "       1045405899     14878\n",
       "       1111213504     15559\n",
       "       2068315619      5128\n",
       "       2387281372     30345\n",
       "       2541535031     21625\n",
       "       2581703001    227591\n",
       "       2686811630     33122\n",
       "       3651044092     53902\n",
       "I2     421256035     766892\n",
       "       1045405899     14878\n",
       "       1111213504     15559\n",
       "                      ...  \n",
       "I11    2581703001    181731\n",
       "       2686811630     23355\n",
       "       3651044092     38130\n",
       "I12    421256035     678831\n",
       "       1045405899      9627\n",
       "       1111213504      9532\n",
       "       2068315619      3953\n",
       "       2387281372     19812\n",
       "       2541535031     16783\n",
       "       2581703001    181731\n",
       "       2686811630     23355\n",
       "       3651044092     38130\n",
       "I13    421256035     678831\n",
       "       1045405899      9627\n",
       "       1111213504      9532\n",
       "       2068315619      3953\n",
       "       2387281372     19812\n",
       "       2541535031     16783\n",
       "       2581703001    181731\n",
       "       2686811630     23355\n",
       "       3651044092     38130\n",
       "I14    421256035     766723\n",
       "       1045405899     13611\n",
       "       1111213504     14273\n",
       "       2068315619      4504\n",
       "       2387281372     27749\n",
       "       2541535031     18688\n",
       "       2581703001    205071\n",
       "       2686811630     29295\n",
       "       3651044092     49508\n",
       "Length: 189, dtype: int64"
      ]
     },
     "execution_count": 11,
     "metadata": {},
     "output_type": "execute_result"
    }
   ],
   "source": [
    "train_data.groupby('C1').count().unstack()"
   ]
  },
  {
   "cell_type": "code",
   "execution_count": 12,
   "metadata": {},
   "outputs": [
    {
     "data": {
      "text/plain": [
       "     C2        \n",
       "id   53932946         153\n",
       "     71293199       11929\n",
       "     102346738       6576\n",
       "     155193773          1\n",
       "     189706718         61\n",
       "     192106456        275\n",
       "     228048336          9\n",
       "     266672125       1855\n",
       "     280395364         77\n",
       "     330730226       2286\n",
       "     344257135       2321\n",
       "     363130183         11\n",
       "     364377489       5196\n",
       "     395799033         43\n",
       "     421256035       8012\n",
       "     450817360         18\n",
       "     552338065       2836\n",
       "     585333929       1121\n",
       "     600687045       1013\n",
       "     668442991        608\n",
       "     693765660        262\n",
       "     712451701       5494\n",
       "     727692042       6421\n",
       "     749836023       4394\n",
       "     750939299       1510\n",
       "     760127602        284\n",
       "     762407002          8\n",
       "     785241772        984\n",
       "     805769945        142\n",
       "     860314843          6\n",
       "                    ...  \n",
       "I14  3353718864        18\n",
       "     3404861148       480\n",
       "     3447893652        82\n",
       "     3454097143       158\n",
       "     3483209424       599\n",
       "     3585793711       151\n",
       "     3621862963       453\n",
       "     3684013252      1536\n",
       "     3693842864      1408\n",
       "     3715974020      1551\n",
       "     3741850176      4805\n",
       "     3745222443       181\n",
       "     3752627377        60\n",
       "     3755866630      2386\n",
       "     3831111254      5101\n",
       "     3874378935    301238\n",
       "     3879565796       332\n",
       "     3917013651       147\n",
       "     3954817824      7932\n",
       "     3978486381        24\n",
       "     4075744428        41\n",
       "     4076926804       185\n",
       "     4079531040       754\n",
       "     4093475157      1803\n",
       "     4110645563       570\n",
       "     4122647904        47\n",
       "     4180367987        17\n",
       "     4212447203      3300\n",
       "     4214164422        24\n",
       "     4218831626        45\n",
       "Length: 3591, dtype: int64"
      ]
     },
     "execution_count": 12,
     "metadata": {},
     "output_type": "execute_result"
    }
   ],
   "source": [
    "train_data.groupby('C2').count().unstack()"
   ]
  },
  {
   "cell_type": "code",
   "execution_count": 13,
   "metadata": {},
   "outputs": [],
   "source": [
    "import matplotlib.pyplot as plt"
   ]
  },
  {
   "cell_type": "code",
   "execution_count": 14,
   "metadata": {},
   "outputs": [
    {
     "name": "stdout",
     "output_type": "stream",
     "text": [
      "<class 'pandas.core.frame.DataFrame'>\n",
      "RangeIndex: 1169042 entries, 0 to 1169041\n",
      "Data columns (total 22 columns):\n",
      "id       1169042 non-null int64\n",
      "click    1169042 non-null int64\n",
      "I1       1169042 non-null int64\n",
      "I2       1169042 non-null int64\n",
      "C1       1169042 non-null int64\n",
      "C2       1169042 non-null int64\n",
      "C3       1169042 non-null int64\n",
      "C4       1169042 non-null int64\n",
      "C5       1169042 non-null int64\n",
      "C6       1169042 non-null int64\n",
      "I3       1169042 non-null int64\n",
      "I4       1169042 non-null int64\n",
      "I5       1169042 non-null int64\n",
      "I6       1169042 non-null int64\n",
      "I7       1169042 non-null int64\n",
      "I8       1169042 non-null int64\n",
      "I9       1169042 non-null int64\n",
      "I10      1169042 non-null int64\n",
      "I11      981754 non-null float64\n",
      "I12      981754 non-null float64\n",
      "I13      981754 non-null float64\n",
      "I14      1129422 non-null float64\n",
      "dtypes: float64(4), int64(18)\n",
      "memory usage: 196.2 MB\n"
     ]
    }
   ],
   "source": [
    "train_data.info()"
   ]
  },
  {
   "cell_type": "code",
   "execution_count": 15,
   "metadata": {},
   "outputs": [
    {
     "data": {
      "text/plain": [
       "id            0\n",
       "click         0\n",
       "I1            0\n",
       "I2            0\n",
       "C1            0\n",
       "C2            0\n",
       "C3            0\n",
       "C4            0\n",
       "C5            0\n",
       "C6            0\n",
       "I3            0\n",
       "I4            0\n",
       "I5            0\n",
       "I6            0\n",
       "I7            0\n",
       "I8            0\n",
       "I9            0\n",
       "I10           0\n",
       "I11      187288\n",
       "I12      187288\n",
       "I13      187288\n",
       "I14       39620\n",
       "dtype: int64"
      ]
     },
     "execution_count": 15,
     "metadata": {},
     "output_type": "execute_result"
    }
   ],
   "source": [
    "train_data.isnull().sum()"
   ]
  },
  {
   "cell_type": "code",
   "execution_count": 17,
   "metadata": {},
   "outputs": [
    {
     "data": {
      "text/plain": [
       "(1169042, 22)"
      ]
     },
     "execution_count": 17,
     "metadata": {},
     "output_type": "execute_result"
    }
   ],
   "source": [
    "train_data.shape"
   ]
  },
  {
   "cell_type": "code",
   "execution_count": 21,
   "metadata": {},
   "outputs": [
    {
     "data": {
      "text/plain": [
       "Index(['id', 'click', 'I1', 'I2', 'C1', 'C2', 'C3', 'C4', 'C5', 'C6', 'I3',\n",
       "       'I4', 'I5', 'I6', 'I7', 'I8', 'I9', 'I10', 'I11', 'I12', 'I13', 'I14'],\n",
       "      dtype='object')"
      ]
     },
     "execution_count": 21,
     "metadata": {},
     "output_type": "execute_result"
    }
   ],
   "source": [
    "train_data.columns"
   ]
  },
  {
   "cell_type": "code",
   "execution_count": 23,
   "metadata": {},
   "outputs": [],
   "source": [
    "train = train_data.drop(['I11', 'I12', 'I13', 'I14'],axis=1)"
   ]
  },
  {
   "cell_type": "code",
   "execution_count": 29,
   "metadata": {},
   "outputs": [
    {
     "name": "stdout",
     "output_type": "stream",
     "text": [
      "   421256035   1045405899  1111213504  2068315619  2387281372  2541535031  \\\n",
      "0           1           0           0           0           0           0   \n",
      "1           0           0           0           0           0           0   \n",
      "2           0           0           0           0           0           0   \n",
      "3           1           0           0           0           0           0   \n",
      "4           1           0           0           0           0           0   \n",
      "\n",
      "   2581703001  2686811630  3651044092  \n",
      "0           0           0           0  \n",
      "1           1           0           0  \n",
      "2           1           0           0  \n",
      "3           0           0           0  \n",
      "4           0           0           0  \n"
     ]
    }
   ],
   "source": [
    "dummy_c1 = pd.get_dummies(train['C1'])\n",
    "print(dummy_c1.head())"
   ]
  },
  {
   "cell_type": "markdown",
   "metadata": {},
   "source": [
    "何かしらのカテゴリ分けされていたのでダミー化した"
   ]
  },
  {
   "cell_type": "code",
   "execution_count": 35,
   "metadata": {},
   "outputs": [
    {
     "data": {
      "text/plain": [
       "<matplotlib.axes._subplots.AxesSubplot at 0x206982f35c0>"
      ]
     },
     "execution_count": 35,
     "metadata": {},
     "output_type": "execute_result"
    },
    {
     "data": {
      "image/png": "[encoded data removed]",
      "text/plain": [
       "<Figure size 432x288 with 1 Axes>"
      ]
     },
     "metadata": {
      "needs_background": "light"
     },
     "output_type": "display_data"
    }
   ],
   "source": [
    "import seaborn as sns \n",
    "\n",
    "sns.countplot(train['C2'])"
   ]
  },
  {
   "cell_type": "code",
   "execution_count": 36,
   "metadata": {},
   "outputs": [
    {
     "data": {
      "text/plain": [
       "<matplotlib.axes._subplots.AxesSubplot at 0x20699a085c0>"
      ]
     },
     "execution_count": 36,
     "metadata": {},
     "output_type": "execute_result"
    },
    {
     "data": {
      "image/png": "[encoded data removed]",
      "text/plain": [
       "<Figure size 432x288 with 1 Axes>"
      ]
     },
     "metadata": {
      "needs_background": "light"
     },
     "output_type": "display_data"
    }
   ],
   "source": [
    "sns.countplot(train['C3'])"
   ]
  },
  {
   "cell_type": "code",
   "execution_count": 37,
   "metadata": {},
   "outputs": [
    {
     "data": {
      "text/plain": [
       "<matplotlib.axes._subplots.AxesSubplot at 0x20699eb1e80>"
      ]
     },
     "execution_count": 37,
     "metadata": {},
     "output_type": "execute_result"
    },
    {
     "data": {
      "image/png": "[encoded data removed]",
      "text/plain": [
       "<Figure size 432x288 with 1 Axes>"
      ]
     },
     "metadata": {
      "needs_background": "light"
     },
     "output_type": "display_data"
    }
   ],
   "source": [
    "sns.countplot(train['C4'])"
   ]
  },
  {
   "cell_type": "code",
   "execution_count": 38,
   "metadata": {},
   "outputs": [
    {
     "data": {
      "text/plain": [
       "<matplotlib.axes._subplots.AxesSubplot at 0x2069a17ac88>"
      ]
     },
     "execution_count": 38,
     "metadata": {},
     "output_type": "execute_result"
    },
    {
     "data": {
      "image/png": "[encoded data removed]",
      "text/plain": [
       "<Figure size 432x288 with 1 Axes>"
      ]
     },
     "metadata": {
      "needs_background": "light"
     },
     "output_type": "display_data"
    }
   ],
   "source": [
    "sns.countplot(train['C5'])"
   ]
  },
  {
   "cell_type": "code",
   "execution_count": 39,
   "metadata": {},
   "outputs": [
    {
     "data": {
      "text/plain": [
       "<matplotlib.axes._subplots.AxesSubplot at 0x2069a857da0>"
      ]
     },
     "execution_count": 39,
     "metadata": {},
     "output_type": "execute_result"
    },
    {
     "data": {
      "image/png": "[encoded data removed]",
      "text/plain": [
       "<Figure size 432x288 with 1 Axes>"
      ]
     },
     "metadata": {
      "needs_background": "light"
     },
     "output_type": "display_data"
    }
   ],
   "source": [
    "sns.countplot(train['C6'])"
   ]
  },
  {
   "cell_type": "code",
   "execution_count": 40,
   "metadata": {},
   "outputs": [
    {
     "data": {
      "text/plain": [
       "<matplotlib.axes._subplots.AxesSubplot at 0x2069aa50c88>"
      ]
     },
     "execution_count": 40,
     "metadata": {},
     "output_type": "execute_result"
    },
    {
     "data": {
      "image/png": "[encoded data removed]",
      "text/plain": [
       "<Figure size 432x288 with 1 Axes>"
      ]
     },
     "metadata": {
      "needs_background": "light"
     },
     "output_type": "display_data"
    }
   ],
   "source": [
    "sns.countplot(train['I3'])"
   ]
  },
  {
   "cell_type": "code",
   "execution_count": 41,
   "metadata": {},
   "outputs": [
    {
     "data": {
      "text/plain": [
       "<matplotlib.axes._subplots.AxesSubplot at 0x2069aa96a90>"
      ]
     },
     "execution_count": 41,
     "metadata": {},
     "output_type": "execute_result"
    },
    {
     "data": {
      "image/png": "[encoded data removed]",
      "text/plain": [
       "<Figure size 432x288 with 1 Axes>"
      ]
     },
     "metadata": {
      "needs_background": "light"
     },
     "output_type": "display_data"
    }
   ],
   "source": [
    "sns.countplot(train['I4'])"
   ]
  },
  {
   "cell_type": "code",
   "execution_count": 42,
   "metadata": {},
   "outputs": [
    {
     "data": {
      "text/plain": [
       "<matplotlib.axes._subplots.AxesSubplot at 0x2069aad75f8>"
      ]
     },
     "execution_count": 42,
     "metadata": {},
     "output_type": "execute_result"
    },
    {
     "data": {
      "image/png": "[encoded data removed]",
      "text/plain": [
       "<Figure size 432x288 with 1 Axes>"
      ]
     },
     "metadata": {
      "needs_background": "light"
     },
     "output_type": "display_data"
    }
   ],
   "source": [
    "sns.countplot(train['I5'])"
   ]
  },
  {
   "cell_type": "code",
   "execution_count": 43,
   "metadata": {},
   "outputs": [
    {
     "data": {
      "text/plain": [
       "<matplotlib.axes._subplots.AxesSubplot at 0x2069b0bdc50>"
      ]
     },
     "execution_count": 43,
     "metadata": {},
     "output_type": "execute_result"
    },
    {
     "data": {
      "image/png": "[encoded data removed]",
      "text/plain": [
       "<Figure size 432x288 with 1 Axes>"
      ]
     },
     "metadata": {
      "needs_background": "light"
     },
     "output_type": "display_data"
    }
   ],
   "source": [
    "sns.countplot(train['I6'])"
   ]
  },
  {
   "cell_type": "code",
   "execution_count": 44,
   "metadata": {},
   "outputs": [
    {
     "data": {
      "text/plain": [
       "<matplotlib.axes._subplots.AxesSubplot at 0x2069b0e7b38>"
      ]
     },
     "execution_count": 44,
     "metadata": {},
     "output_type": "execute_result"
    },
    {
     "data": {
      "image/png": "[encoded data removed]",
      "text/plain": [
       "<Figure size 432x288 with 1 Axes>"
      ]
     },
     "metadata": {
      "needs_background": "light"
     },
     "output_type": "display_data"
    }
   ],
   "source": [
    "sns.countplot(train['I7'])"
   ]
  },
  {
   "cell_type": "code",
   "execution_count": 45,
   "metadata": {},
   "outputs": [
    {
     "data": {
      "text/plain": [
       "<matplotlib.axes._subplots.AxesSubplot at 0x2069b148c18>"
      ]
     },
     "execution_count": 45,
     "metadata": {},
     "output_type": "execute_result"
    },
    {
     "data": {
      "image/png": "[encoded data removed]",
      "text/plain": [
       "<Figure size 432x288 with 1 Axes>"
      ]
     },
     "metadata": {
      "needs_background": "light"
     },
     "output_type": "display_data"
    }
   ],
   "source": [
    "sns.countplot(train['I8'])"
   ]
  },
  {
   "cell_type": "code",
   "execution_count": 46,
   "metadata": {},
   "outputs": [
    {
     "data": {
      "text/plain": [
       "<matplotlib.axes._subplots.AxesSubplot at 0x2069b18ee80>"
      ]
     },
     "execution_count": 46,
     "metadata": {},
     "output_type": "execute_result"
    },
    {
     "data": {
      "image/png": "[encoded data removed]",
      "text/plain": [
       "<Figure size 432x288 with 1 Axes>"
      ]
     },
     "metadata": {
      "needs_background": "light"
     },
     "output_type": "display_data"
    }
   ],
   "source": [
    "sns.countplot(train['I9'])"
   ]
  },
  {
   "cell_type": "code",
   "execution_count": 47,
   "metadata": {},
   "outputs": [
    {
     "data": {
      "text/plain": [
       "<matplotlib.axes._subplots.AxesSubplot at 0x2069b1e0d30>"
      ]
     },
     "execution_count": 47,
     "metadata": {},
     "output_type": "execute_result"
    },
    {
     "data": {
      "image/png": "[encoded data removed]",
      "text/plain": [
       "<Figure size 432x288 with 1 Axes>"
      ]
     },
     "metadata": {
      "needs_background": "light"
     },
     "output_type": "display_data"
    }
   ],
   "source": [
    "sns.countplot(train['I10'])"
   ]
  },
  {
   "cell_type": "code",
   "execution_count": null,
   "metadata": {},
   "outputs": [],
   "source": []
  }
 ],
 "metadata": {
  "kernelspec": {
   "display_name": "Python 3",
   "language": "python",
   "name": "python3"
  },
  "language_info": {
   "codemirror_mode": {
    "name": "ipython",
    "version": 3
   },
   "file_extension": ".py",
   "mimetype": "text/x-python",
   "name": "python",
   "nbconvert_exporter": "python",
   "pygments_lexer": "ipython3",
   "version": "3.7.3"
  }
 },
 "nbformat": 4,
 "nbformat_minor": 2
}
