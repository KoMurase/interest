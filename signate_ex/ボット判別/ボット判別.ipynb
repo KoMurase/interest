{
 "cells": [
  {
   "cell_type": "code",
   "execution_count": 60,
   "metadata": {},
   "outputs": [
    {
     "name": "stderr",
     "output_type": "stream",
     "text": [
      "C:\\Users\\mkou0\\AppData\\Local\\Continuum\\anaconda3\\lib\\site-packages\\ipykernel_launcher.py:5: FutureWarning: read_table is deprecated, use read_csv instead, passing sep='\\t'.\n",
      "  \"\"\"\n"
     ]
    }
   ],
   "source": [
    "import pandas as pd \n",
    "import seaborn as sns\n",
    "from sklearn.model_selection import train_test_split \n",
    "\n",
    "data=pd.read_table('train.tsv',encoding = 'utf-8')\n",
    "df = pd.DataFrame(data)"
   ]
  },
  {
   "cell_type": "code",
   "execution_count": 61,
   "metadata": {},
   "outputs": [
    {
     "name": "stdout",
     "output_type": "stream",
     "text": [
      "<class 'pandas.core.frame.DataFrame'>\n",
      "RangeIndex: 1588 entries, 0 to 1587\n",
      "Data columns (total 16 columns):\n",
      "id                          1588 non-null int64\n",
      "bot                         1588 non-null int64\n",
      "statuses_count              1588 non-null int64\n",
      "default_profile             1588 non-null int64\n",
      "default_profile_image       1588 non-null int64\n",
      "friends_count               1588 non-null int64\n",
      "followers_count             1588 non-null int64\n",
      "favourites_count            1588 non-null int64\n",
      "geo_enabled                 1588 non-null int64\n",
      "listed_count                1588 non-null int64\n",
      "account_age_hours           1588 non-null int64\n",
      "diversity                   1588 non-null float64\n",
      "mean_mins_between_tweets    1588 non-null float64\n",
      "mean_tweet_length           1588 non-null float64\n",
      "mean_retweets               1588 non-null float64\n",
      "reply_rate                  1588 non-null float64\n",
      "dtypes: float64(5), int64(11)\n",
      "memory usage: 198.6 KB\n"
     ]
    }
   ],
   "source": [
    "df.info()"
   ]
  },
  {
   "cell_type": "code",
   "execution_count": 62,
   "metadata": {},
   "outputs": [
    {
     "data": {
      "text/html": [
       "<div>\n",
       "<style scoped>\n",
       "    .dataframe tbody tr th:only-of-type {\n",
       "        vertical-align: middle;\n",
       "    }\n",
       "\n",
       "    .dataframe tbody tr th {\n",
       "        vertical-align: top;\n",
       "    }\n",
       "\n",
       "    .dataframe thead th {\n",
       "        text-align: right;\n",
       "    }\n",
       "</style>\n",
       "<table border=\"1\" class=\"dataframe\">\n",
       "  <thead>\n",
       "    <tr style=\"text-align: right;\">\n",
       "      <th></th>\n",
       "      <th>id</th>\n",
       "      <th>bot</th>\n",
       "      <th>statuses_count</th>\n",
       "      <th>default_profile</th>\n",
       "      <th>default_profile_image</th>\n",
       "      <th>friends_count</th>\n",
       "      <th>followers_count</th>\n",
       "      <th>favourites_count</th>\n",
       "      <th>geo_enabled</th>\n",
       "      <th>listed_count</th>\n",
       "      <th>account_age_hours</th>\n",
       "      <th>diversity</th>\n",
       "      <th>mean_mins_between_tweets</th>\n",
       "      <th>mean_tweet_length</th>\n",
       "      <th>mean_retweets</th>\n",
       "      <th>reply_rate</th>\n",
       "    </tr>\n",
       "  </thead>\n",
       "  <tbody>\n",
       "    <tr>\n",
       "      <th>0</th>\n",
       "      <td>0</td>\n",
       "      <td>0</td>\n",
       "      <td>715</td>\n",
       "      <td>0</td>\n",
       "      <td>0</td>\n",
       "      <td>423</td>\n",
       "      <td>206</td>\n",
       "      <td>150</td>\n",
       "      <td>1</td>\n",
       "      <td>34</td>\n",
       "      <td>36981</td>\n",
       "      <td>0.684902</td>\n",
       "      <td>3958.863636</td>\n",
       "      <td>97.513514</td>\n",
       "      <td>1.473684</td>\n",
       "      <td>0.504505</td>\n",
       "    </tr>\n",
       "    <tr>\n",
       "      <th>1</th>\n",
       "      <td>2</td>\n",
       "      <td>0</td>\n",
       "      <td>2151</td>\n",
       "      <td>0</td>\n",
       "      <td>0</td>\n",
       "      <td>1457</td>\n",
       "      <td>1321</td>\n",
       "      <td>1704</td>\n",
       "      <td>1</td>\n",
       "      <td>90</td>\n",
       "      <td>35603</td>\n",
       "      <td>0.704787</td>\n",
       "      <td>2746.533708</td>\n",
       "      <td>69.988827</td>\n",
       "      <td>3.814815</td>\n",
       "      <td>0.553073</td>\n",
       "    </tr>\n",
       "    <tr>\n",
       "      <th>2</th>\n",
       "      <td>3</td>\n",
       "      <td>0</td>\n",
       "      <td>439</td>\n",
       "      <td>0</td>\n",
       "      <td>0</td>\n",
       "      <td>691</td>\n",
       "      <td>213</td>\n",
       "      <td>5</td>\n",
       "      <td>0</td>\n",
       "      <td>15</td>\n",
       "      <td>38432</td>\n",
       "      <td>0.528857</td>\n",
       "      <td>11005.031847</td>\n",
       "      <td>75.101266</td>\n",
       "      <td>1.142857</td>\n",
       "      <td>0.158228</td>\n",
       "    </tr>\n",
       "    <tr>\n",
       "      <th>3</th>\n",
       "      <td>7</td>\n",
       "      <td>0</td>\n",
       "      <td>28</td>\n",
       "      <td>1</td>\n",
       "      <td>0</td>\n",
       "      <td>285</td>\n",
       "      <td>31</td>\n",
       "      <td>0</td>\n",
       "      <td>0</td>\n",
       "      <td>1</td>\n",
       "      <td>4898</td>\n",
       "      <td>0.810427</td>\n",
       "      <td>6495.666667</td>\n",
       "      <td>93.029412</td>\n",
       "      <td>3.000000</td>\n",
       "      <td>0.029412</td>\n",
       "    </tr>\n",
       "    <tr>\n",
       "      <th>4</th>\n",
       "      <td>12</td>\n",
       "      <td>0</td>\n",
       "      <td>40</td>\n",
       "      <td>0</td>\n",
       "      <td>0</td>\n",
       "      <td>907</td>\n",
       "      <td>60</td>\n",
       "      <td>1013</td>\n",
       "      <td>1</td>\n",
       "      <td>2</td>\n",
       "      <td>47238</td>\n",
       "      <td>0.831579</td>\n",
       "      <td>112167.300000</td>\n",
       "      <td>79.142857</td>\n",
       "      <td>1.000000</td>\n",
       "      <td>0.047619</td>\n",
       "    </tr>\n",
       "  </tbody>\n",
       "</table>\n",
       "</div>"
      ],
      "text/plain": [
       "   id  bot  statuses_count  default_profile  default_profile_image  \\\n",
       "0   0    0             715                0                      0   \n",
       "1   2    0            2151                0                      0   \n",
       "2   3    0             439                0                      0   \n",
       "3   7    0              28                1                      0   \n",
       "4  12    0              40                0                      0   \n",
       "\n",
       "   friends_count  followers_count  favourites_count  geo_enabled  \\\n",
       "0            423              206               150            1   \n",
       "1           1457             1321              1704            1   \n",
       "2            691              213                 5            0   \n",
       "3            285               31                 0            0   \n",
       "4            907               60              1013            1   \n",
       "\n",
       "   listed_count  account_age_hours  diversity  mean_mins_between_tweets  \\\n",
       "0            34              36981   0.684902               3958.863636   \n",
       "1            90              35603   0.704787               2746.533708   \n",
       "2            15              38432   0.528857              11005.031847   \n",
       "3             1               4898   0.810427               6495.666667   \n",
       "4             2              47238   0.831579             112167.300000   \n",
       "\n",
       "   mean_tweet_length  mean_retweets  reply_rate  \n",
       "0          97.513514       1.473684    0.504505  \n",
       "1          69.988827       3.814815    0.553073  \n",
       "2          75.101266       1.142857    0.158228  \n",
       "3          93.029412       3.000000    0.029412  \n",
       "4          79.142857       1.000000    0.047619  "
      ]
     },
     "execution_count": 62,
     "metadata": {},
     "output_type": "execute_result"
    }
   ],
   "source": [
    "df.head()"
   ]
  },
  {
   "cell_type": "code",
   "execution_count": 63,
   "metadata": {},
   "outputs": [
    {
     "data": {
      "text/plain": [
       "id                          0\n",
       "bot                         0\n",
       "statuses_count              0\n",
       "default_profile             0\n",
       "default_profile_image       0\n",
       "friends_count               0\n",
       "followers_count             0\n",
       "favourites_count            0\n",
       "geo_enabled                 0\n",
       "listed_count                0\n",
       "account_age_hours           0\n",
       "diversity                   0\n",
       "mean_mins_between_tweets    0\n",
       "mean_tweet_length           0\n",
       "mean_retweets               0\n",
       "reply_rate                  0\n",
       "dtype: int64"
      ]
     },
     "execution_count": 63,
     "metadata": {},
     "output_type": "execute_result"
    }
   ],
   "source": [
    "df.isnull().sum()"
   ]
  },
  {
   "cell_type": "markdown",
   "metadata": {},
   "source": [
    "欠損値なし"
   ]
  },
  {
   "cell_type": "code",
   "execution_count": 64,
   "metadata": {},
   "outputs": [
    {
     "name": "stdout",
     "output_type": "stream",
     "text": [
      "Index(['id', 'bot', 'statuses_count', 'default_profile',\n",
      "       'default_profile_image', 'friends_count', 'followers_count',\n",
      "       'favourites_count', 'geo_enabled', 'listed_count', 'account_age_hours',\n",
      "       'diversity', 'mean_mins_between_tweets', 'mean_tweet_length',\n",
      "       'mean_retweets', 'reply_rate'],\n",
      "      dtype='object')\n"
     ]
    }
   ],
   "source": [
    "df.corr()\n",
    "print(df.columns)"
   ]
  },
  {
   "cell_type": "code",
   "execution_count": 65,
   "metadata": {},
   "outputs": [
    {
     "name": "stderr",
     "output_type": "stream",
     "text": [
      "C:\\Users\\mkou0\\AppData\\Local\\Continuum\\anaconda3\\lib\\site-packages\\sklearn\\preprocessing\\data.py:645: DataConversionWarning: Data with input dtype int64, float64 were all converted to float64 by StandardScaler.\n",
      "  return self.partial_fit(X, y)\n",
      "C:\\Users\\mkou0\\AppData\\Local\\Continuum\\anaconda3\\lib\\site-packages\\ipykernel_launcher.py:16: DataConversionWarning: Data with input dtype int64, float64 were all converted to float64 by StandardScaler.\n",
      "  app.launch_new_instance()\n",
      "C:\\Users\\mkou0\\AppData\\Local\\Continuum\\anaconda3\\lib\\site-packages\\ipykernel_launcher.py:17: DataConversionWarning: Data with input dtype int64, float64 were all converted to float64 by StandardScaler.\n",
      "C:\\Users\\mkou0\\AppData\\Local\\Continuum\\anaconda3\\lib\\site-packages\\sklearn\\linear_model\\logistic.py:433: FutureWarning: Default solver will be changed to 'lbfgs' in 0.22. Specify a solver to silence this warning.\n",
      "  FutureWarning)\n"
     ]
    },
    {
     "data": {
      "text/plain": [
       "LogisticRegression(C=1.0, class_weight=None, dual=False, fit_intercept=True,\n",
       "          intercept_scaling=1, max_iter=100, multi_class='warn',\n",
       "          n_jobs=None, penalty='l2', random_state=None, solver='warn',\n",
       "          tol=0.0001, verbose=0, warm_start=False)"
      ]
     },
     "execution_count": 65,
     "metadata": {},
     "output_type": "execute_result"
    }
   ],
   "source": [
    "from sklearn.preprocessing import StandardScaler\n",
    "from sklearn.linear_model import LogisticRegression\n",
    "from sklearn.model_selection import train_test_split \n",
    "\n",
    "X = df[['statuses_count', 'friends_count', 'followers_count',\n",
    "       'favourites_count', 'listed_count', 'account_age_hours',\n",
    "       'diversity', 'mean_mins_between_tweets', 'mean_tweet_length',\n",
    "       'mean_retweets', 'reply_rate']]\n",
    "y = df['bot']\n",
    "\n",
    "X_train,X_test,y_train,y_test = train_test_split(X,y,test_size=0.6)\n",
    "\n",
    "#標準化sc \n",
    "sc =StandardScaler()\n",
    "sc.fit(X_train)\n",
    "X_train_std = sc.transform(X_train)\n",
    "X_test_std =sc.transform(X_test)\n",
    "\n",
    "model = LogisticRegression()\n",
    "model.fit(X_train_std,y_train)"
   ]
  },
  {
   "cell_type": "code",
   "execution_count": 66,
   "metadata": {},
   "outputs": [
    {
     "data": {
      "text/plain": [
       "0.878740157480315"
      ]
     },
     "execution_count": 66,
     "metadata": {},
     "output_type": "execute_result"
    }
   ],
   "source": [
    "model.score(X_train_std,y_train)"
   ]
  },
  {
   "cell_type": "code",
   "execution_count": 67,
   "metadata": {},
   "outputs": [
    {
     "data": {
      "text/plain": [
       "0.8488982161594963"
      ]
     },
     "execution_count": 67,
     "metadata": {},
     "output_type": "execute_result"
    }
   ],
   "source": [
    "model.score(X_test_std,y_test)"
   ]
  },
  {
   "cell_type": "code",
   "execution_count": 68,
   "metadata": {},
   "outputs": [
    {
     "name": "stderr",
     "output_type": "stream",
     "text": [
      "C:\\Users\\mkou0\\AppData\\Local\\Continuum\\anaconda3\\lib\\site-packages\\ipykernel_launcher.py:1: FutureWarning: read_table is deprecated, use read_csv instead, passing sep='\\t'.\n",
      "  \"\"\"Entry point for launching an IPython kernel.\n"
     ]
    }
   ],
   "source": [
    "data_test=pd.read_table('test.tsv',encoding = 'utf-8')"
   ]
  },
  {
   "cell_type": "code",
   "execution_count": 69,
   "metadata": {},
   "outputs": [],
   "source": [
    "df_test = pd.DataFrame(data_test)"
   ]
  },
  {
   "cell_type": "code",
   "execution_count": 70,
   "metadata": {},
   "outputs": [],
   "source": [
    "X_explain=df_test[['statuses_count', 'friends_count', 'followers_count',\n",
    "       'favourites_count', 'listed_count', 'account_age_hours',\n",
    "       'diversity', 'mean_mins_between_tweets', 'mean_tweet_length',\n",
    "       'mean_retweets', 'reply_rate']]"
   ]
  },
  {
   "cell_type": "code",
   "execution_count": 71,
   "metadata": {},
   "outputs": [],
   "source": [
    "predict = model.predict(X_explain)"
   ]
  },
  {
   "cell_type": "code",
   "execution_count": 72,
   "metadata": {},
   "outputs": [],
   "source": [
    "predict=pd.DataFrame(predict)"
   ]
  },
  {
   "cell_type": "code",
   "execution_count": 73,
   "metadata": {},
   "outputs": [
    {
     "data": {
      "text/plain": [
       "0          1\n",
       "1          4\n",
       "2          5\n",
       "3          6\n",
       "4          8\n",
       "5          9\n",
       "6         10\n",
       "7         11\n",
       "8         13\n",
       "9         14\n",
       "10        15\n",
       "11        17\n",
       "12        18\n",
       "13        20\n",
       "14        22\n",
       "15        23\n",
       "16        27\n",
       "17        29\n",
       "18        30\n",
       "19        31\n",
       "20        33\n",
       "21        34\n",
       "22        36\n",
       "23        37\n",
       "24        39\n",
       "25        40\n",
       "26        41\n",
       "27        42\n",
       "28        43\n",
       "29        44\n",
       "        ... \n",
       "1558    3117\n",
       "1559    3119\n",
       "1560    3120\n",
       "1561    3124\n",
       "1562    3125\n",
       "1563    3126\n",
       "1564    3129\n",
       "1565    3131\n",
       "1566    3132\n",
       "1567    3134\n",
       "1568    3138\n",
       "1569    3139\n",
       "1570    3141\n",
       "1571    3146\n",
       "1572    3147\n",
       "1573    3149\n",
       "1574    3150\n",
       "1575    3155\n",
       "1576    3157\n",
       "1577    3159\n",
       "1578    3160\n",
       "1579    3161\n",
       "1580    3162\n",
       "1581    3164\n",
       "1582    3166\n",
       "1583    3167\n",
       "1584    3168\n",
       "1585    3169\n",
       "1586    3172\n",
       "1587    3174\n",
       "Name: id, Length: 1588, dtype: int64"
      ]
     },
     "execution_count": 73,
     "metadata": {},
     "output_type": "execute_result"
    }
   ],
   "source": [
    "df_test['id']"
   ]
  },
  {
   "cell_type": "code",
   "execution_count": 74,
   "metadata": {},
   "outputs": [
    {
     "name": "stdout",
     "output_type": "stream",
     "text": [
      "        id  0\n",
      "0        1  0\n",
      "1        4  0\n",
      "2        5  1\n",
      "3        6  0\n",
      "4        8  0\n",
      "5        9  1\n",
      "6       10  0\n",
      "7       11  0\n",
      "8       13  0\n",
      "9       14  0\n",
      "10      15  0\n",
      "11      17  0\n",
      "12      18  0\n",
      "13      20  0\n",
      "14      22  0\n",
      "15      23  0\n",
      "16      27  0\n",
      "17      29  1\n",
      "18      30  0\n",
      "19      31  0\n",
      "20      33  0\n",
      "21      34  0\n",
      "22      36  0\n",
      "23      37  0\n",
      "24      39  0\n",
      "25      40  1\n",
      "26      41  0\n",
      "27      42  1\n",
      "28      43  0\n",
      "29      44  0\n",
      "...    ... ..\n",
      "1558  3117  0\n",
      "1559  3119  0\n",
      "1560  3120  0\n",
      "1561  3124  0\n",
      "1562  3125  0\n",
      "1563  3126  0\n",
      "1564  3129  0\n",
      "1565  3131  0\n",
      "1566  3132  1\n",
      "1567  3134  0\n",
      "1568  3138  0\n",
      "1569  3139  0\n",
      "1570  3141  0\n",
      "1571  3146  0\n",
      "1572  3147  0\n",
      "1573  3149  0\n",
      "1574  3150  0\n",
      "1575  3155  0\n",
      "1576  3157  0\n",
      "1577  3159  0\n",
      "1578  3160  0\n",
      "1579  3161  0\n",
      "1580  3162  0\n",
      "1581  3164  0\n",
      "1582  3166  0\n",
      "1583  3167  0\n",
      "1584  3168  0\n",
      "1585  3169  0\n",
      "1586  3172  0\n",
      "1587  3174  0\n",
      "\n",
      "[1588 rows x 2 columns]\n"
     ]
    }
   ],
   "source": [
    "result=pd.concat([df_test['id'],predict],axis=1)\n",
    "print(result)"
   ]
  },
  {
   "cell_type": "code",
   "execution_count": 75,
   "metadata": {},
   "outputs": [],
   "source": [
    "result.to_csv('./submit.csv',header=False,index=False)"
   ]
  },
  {
   "cell_type": "code",
   "execution_count": null,
   "metadata": {},
   "outputs": [],
   "source": []
  }
 ],
 "metadata": {
  "kernelspec": {
   "display_name": "Python 3",
   "language": "python",
   "name": "python3"
  },
  "language_info": {
   "codemirror_mode": {
    "name": "ipython",
    "version": 3
   },
   "file_extension": ".py",
   "mimetype": "text/x-python",
   "name": "python",
   "nbconvert_exporter": "python",
   "pygments_lexer": "ipython3",
   "version": "3.7.3"
  }
 },
 "nbformat": 4,
 "nbformat_minor": 2
}
