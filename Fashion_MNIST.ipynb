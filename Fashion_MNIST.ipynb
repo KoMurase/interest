{
  "nbformat": 4,
  "nbformat_minor": 0,
  "metadata": {
    "colab": {
      "name": "Fashion_MNIST",
      "version": "0.3.2",
      "provenance": [],
      "include_colab_link": true
    },
    "kernelspec": {
      "name": "python3",
      "display_name": "Python 3"
    }
  },
  "cells": [
    {
      "cell_type": "markdown",
      "metadata": {
        "id": "view-in-github",
        "colab_type": "text"
      },
      "source": [
        "<a href=\"https://colab.research.google.com/github/KoMurase/interest/blob/master/Fashion_MNIST.ipynb\" target=\"_parent\"><img src=\"https://colab.research.google.com/assets/colab-badge.svg\" alt=\"Open In Colab\"/></a>"
      ]
    },
    {
      "cell_type": "code",
      "metadata": {
        "id": "0IVAZ4Wp1E1b",
        "colab_type": "code",
        "colab": {}
      },
      "source": [
        "from torchvision.datasets import FashionMNIST \n",
        "from torchvision import transforms\n",
        "\n",
        "from torch.utils.data import DataLoader,Dataset,TensorDataset\n",
        "import tqdm\n",
        "from torch import nn,optim\n",
        "import torch"
      ],
      "execution_count": 0,
      "outputs": []
    },
    {
      "cell_type": "code",
      "metadata": {
        "id": "l9A9JGN5eTE1",
        "colab_type": "code",
        "colab": {
          "base_uri": "https://localhost:8080/",
          "height": 87
        },
        "outputId": "2a15e3b3-800c-48c7-a735-0283533f6a46"
      },
      "source": [
        "!/usr/local/cuda/bin/nvcc --version"
      ],
      "execution_count": 34,
      "outputs": [
        {
          "output_type": "stream",
          "text": [
            "nvcc: NVIDIA (R) Cuda compiler driver\n",
            "Copyright (c) 2005-2018 NVIDIA Corporation\n",
            "Built on Sat_Aug_25_21:08:01_CDT_2018\n",
            "Cuda compilation tools, release 10.0, V10.0.130\n"
          ],
          "name": "stdout"
        }
      ]
    },
    {
      "cell_type": "code",
      "metadata": {
        "id": "n9QlrN6-eXcc",
        "colab_type": "code",
        "colab": {
          "base_uri": "https://localhost:8080/",
          "height": 210
        },
        "outputId": "dd9b9df7-dd2f-49c4-8513-dff1091d95cb"
      },
      "source": [
        "!pip install git+git://github.com/andreinechaev/nvcc4jupyter.git\n",
        "%load_ext nvcc_plugin"
      ],
      "execution_count": 35,
      "outputs": [
        {
          "output_type": "stream",
          "text": [
            "Collecting git+git://github.com/andreinechaev/nvcc4jupyter.git\n",
            "  Cloning git://github.com/andreinechaev/nvcc4jupyter.git to /tmp/pip-req-build-o3a_kzbs\n",
            "  Running command git clone -q git://github.com/andreinechaev/nvcc4jupyter.git /tmp/pip-req-build-o3a_kzbs\n",
            "Requirement already satisfied (use --upgrade to upgrade): NVCCPlugin==0.0.2 from git+git://github.com/andreinechaev/nvcc4jupyter.git in /usr/local/lib/python3.6/dist-packages\n",
            "Building wheels for collected packages: NVCCPlugin\n",
            "  Building wheel for NVCCPlugin (setup.py) ... \u001b[?25l\u001b[?25hdone\n",
            "  Created wheel for NVCCPlugin: filename=NVCCPlugin-0.0.2-cp36-none-any.whl size=4307 sha256=6f9b2fa096d846a60810c5a9bea96e606690b292fadbbecbb1b314ef0c563041\n",
            "  Stored in directory: /tmp/pip-ephem-wheel-cache-pfisgoh7/wheels/10/c2/05/ca241da37bff77d60d31a9174f988109c61ba989e4d4650516\n",
            "Successfully built NVCCPlugin\n",
            "The nvcc_plugin extension is already loaded. To reload it, use:\n",
            "  %reload_ext nvcc_plugin\n"
          ],
          "name": "stdout"
        }
      ]
    },
    {
      "cell_type": "code",
      "metadata": {
        "id": "lfIO36Rsr0ca",
        "colab_type": "code",
        "colab": {
          "base_uri": "https://localhost:8080/",
          "height": 175
        },
        "outputId": "0ac49797-0099-433a-d051-44c24df8ce05"
      },
      "source": [
        "!git clone https://github.com/NVIDIA/cuda-samples/\n",
        "!cp cuda-samples/Common/* /usr/local/include"
      ],
      "execution_count": 36,
      "outputs": [
        {
          "output_type": "stream",
          "text": [
            "Cloning into 'cuda-samples'...\n",
            "remote: Enumerating objects: 138, done.\u001b[K\n",
            "remote: Counting objects: 100% (138/138), done.\u001b[K\n",
            "remote: Compressing objects: 100% (66/66), done.\u001b[K\n",
            "remote: Total 1090 (delta 70), reused 120 (delta 67), pack-reused 952\u001b[K\n",
            "Receiving objects: 100% (1090/1090), 25.39 MiB | 24.07 MiB/s, done.\n",
            "Resolving deltas: 100% (853/853), done.\n",
            "cp: -r not specified; omitting directory 'cuda-samples/Common/FreeImage'\n",
            "cp: -r not specified; omitting directory 'cuda-samples/Common/UtilNPP'\n"
          ],
          "name": "stdout"
        }
      ]
    },
    {
      "cell_type": "code",
      "metadata": {
        "id": "N1OiI-8T1XWd",
        "colab_type": "code",
        "colab": {}
      },
      "source": [
        "fashion_mnist_train = FashionMNIST('../FashionMNIST',\n",
        "                                  train=True,download=True,transform=transforms.ToTensor())"
      ],
      "execution_count": 0,
      "outputs": []
    },
    {
      "cell_type": "code",
      "metadata": {
        "id": "-Q6XYZTy1zpn",
        "colab_type": "code",
        "colab": {}
      },
      "source": [
        "fashion_mnist_test = FashionMNIST('../FashionMNIST',\n",
        "                                  train=False,download=True,transform=transforms.ToTensor())"
      ],
      "execution_count": 0,
      "outputs": []
    },
    {
      "cell_type": "code",
      "metadata": {
        "id": "60gYNE222Jwv",
        "colab_type": "code",
        "colab": {}
      },
      "source": [
        "batch_size = 128\n",
        "train_loader = DataLoader(fashion_mnist_train, batch_size=batch_size, shuffle=True)\n",
        "test_loader = DataLoader(fashion_mnist_test, batch_size=batch_size, shuffle=False)"
      ],
      "execution_count": 0,
      "outputs": []
    },
    {
      "cell_type": "code",
      "metadata": {
        "id": "9h2F8cj73OdK",
        "colab_type": "code",
        "colab": {}
      },
      "source": [
        "#(N,C,H,W)形式のTensorを(N,C*H*W)に引き延ばす層\n",
        "\n",
        "class FlattenLayer(nn.Module):\n",
        "  def forward(self,x):\n",
        "    sizes = x.size()\n",
        "    return x.view(sizes[0],-1)\n",
        "\n",
        "  #5X5のカーネルを使用し最初に32個,次に64個のチャネルを作成する\n",
        "  #BatchNorm2dは画像形式用のDropout \n",
        "  #最後にFlattenLayerを挟む\n",
        "conv_net = nn.Sequential(\n",
        "    nn.Conv2d(1,32,5),\n",
        "    nn.MaxPool2d(2),\n",
        "    nn.ReLU(),\n",
        "    nn.BatchNorm2d(32),\n",
        "    nn.Dropout2d(0.25),\n",
        "    nn.Conv2d(32,64,5),\n",
        "    nn.MaxPool2d(2),\n",
        "    nn.ReLU(),\n",
        "    nn.BatchNorm2d(64),\n",
        "    FlattenLayer()\n",
        ")"
      ],
      "execution_count": 0,
      "outputs": []
    },
    {
      "cell_type": "code",
      "metadata": {
        "id": "mpjYMZB9Yddw",
        "colab_type": "code",
        "colab": {}
      },
      "source": [
        "test_input = torch.ones(1,1,28,28)\n",
        "conv_output_size = conv_net(test_input).size()[-1]\n",
        "\n",
        "#2層のMLP\n",
        "mlp = nn.Sequential(\n",
        "  nn.Linear(conv_output_size, 200),\n",
        "  nn.ReLU(),\n",
        "  nn.BatchNorm1d(200),\n",
        "  nn.Linear(200,10)\n",
        ")\n",
        "#最終的なCNN\n",
        "net = nn.Sequential(\n",
        "  conv_net,\n",
        "  mlp\n",
        ")"
      ],
      "execution_count": 0,
      "outputs": []
    },
    {
      "cell_type": "code",
      "metadata": {
        "id": "VbkVXnrTc7-s",
        "colab_type": "code",
        "colab": {}
      },
      "source": [
        "#評価のヘルパー関数\n",
        "def eval_net(net, data_loader,device='cpu'):\n",
        "  #DropoutやBatchNormを無効化\n",
        "  net.eval()\n",
        "  ys = []\n",
        "  ypreds = []\n",
        "  \n",
        "  for x,y in data_loader: \n",
        "    x = x.to(device)\n",
        "    y = y.to(device)\n",
        "    \n",
        "    with torch.no_grad():\n",
        "      _,y_pred = net(x).max(1)\n",
        "    ys.append(y)\n",
        "    ypreds.append(y_pred)\n",
        "    \n",
        "    ys = torch.cat(ys)\n",
        "    ypreds = torch.cat(ypreds)\n",
        "    \n",
        "    acc = (ys == ypreds).float().sum() / len(ys)\n",
        "    return acc.item()\n",
        "\n",
        "def train_net(net,train_loader,test_loader,optimizer_cls=optim.Adam,\n",
        "             loss_fn=nn.CrossEntropyLoss(),n_iter=10,device='cpu'):\n",
        "  train_losses = []\n",
        "  train_acc = []\n",
        "  val_acc = []\n",
        "  optimizer = optimizer_cls(net.parameter())\n",
        "  \n",
        "  for epoch in range(n_iter):\n",
        "    running_loss = 0.0\n",
        "    \n",
        "    #ネットワークを訓練モードにする\n",
        "    net.train() \n",
        "    n = 0\n",
        "    n_acc = 0\n",
        "    \n",
        "    for i , (xx,yy) in tqdm.tqdm(enumerate(train_loader),total=len(train_loader)):\n",
        "      xx = xx.to(device)\n",
        "      yy = yy.to(device)\n",
        "      h = net(xx)\n",
        "      loss = loss_fn(h,yy)\n",
        "      optimizer.zero_grad()\n",
        "      loss.backward()\n",
        "      optimizer.step()\n",
        "      running_loss += loss.item() \n",
        "      n += len(xx)\n",
        "      \n",
        "      _,y_pred = h.max(1)\n",
        "      n_acc += (yy == y_pred).float().sum().item()\n",
        "  \n",
        "  train_losses.append(running_loss / i)\n",
        "  \n",
        "  #訓練データの予測精度\n",
        "  train_acc.append(n_acc / n)\n",
        "  val_acc.append(eval_net(net,test_loader,device))\n",
        "  #このエポックでの結果を表示\n",
        "  print(epoch,train_losses[-1],train_acc[-1],val_acc[-1],flush=True)\n",
        "  "
      ],
      "execution_count": 0,
      "outputs": []
    },
    {
      "cell_type": "code",
      "metadata": {
        "id": "Bp0txpl2lZaB",
        "colab_type": "code",
        "colab": {}
      },
      "source": [
        "#ネットワークの全パラメータをGPUに転送\n",
        "net.to('cuda:0')\n",
        "\n",
        "#訓練の実行\n",
        "train_net(net,train_loader,test_loader,n_iter=20,device='cuda:0')"
      ],
      "execution_count": 0,
      "outputs": []
    },
    {
      "cell_type": "code",
      "metadata": {
        "id": "Sgfs34girsXA",
        "colab_type": "code",
        "colab": {}
      },
      "source": [
        ""
      ],
      "execution_count": 0,
      "outputs": []
    }
  ]
}